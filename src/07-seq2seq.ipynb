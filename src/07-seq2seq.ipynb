{
 "cells": [
  {
   "cell_type": "markdown",
   "id": "04b24b73",
   "metadata": {},
   "source": [
    "# Sequence to Sequence Modeling: Many to Many"
   ]
  },
  {
   "cell_type": "markdown",
   "id": "8c025247",
   "metadata": {},
   "source": [
    "Echoing signal $n$ steps is an example of synchronized many-to-many task."
   ]
  },
  {
   "cell_type": "code",
   "execution_count": 1,
   "id": "d720b52d",
   "metadata": {},
   "outputs": [],
   "source": [
    "from res.sequential_tasks import EchoData\n",
    "import torch\n",
    "import torch.nn as nn\n",
    "import torch.optim as optim\n",
    "import numpy as np\n",
    "\n",
    "torch.manual_seed(1)\n",
    "np.random.seed(3)"
   ]
  },
  {
   "cell_type": "markdown",
   "id": "5ff91c8a",
   "metadata": {},
   "source": [
    "## 1. Generate Toy Sequence to Sequence Dataset: Signal Echo"
   ]
  },
  {
   "cell_type": "code",
   "execution_count": 2,
   "id": "0bf5921b",
   "metadata": {},
   "outputs": [],
   "source": [
    "batch_size = 5\n",
    "echo_step = 3\n",
    "series_length = 20000\n",
    "BPTT_T = 20\n",
    "\n",
    "# EchoData provides input and target data for training a network to\n",
    "# echo a `series_length`-long stream of data. `.x_batch` contains the input series,\n",
    "# it has shape `[batch_size, series_length]`; `.y_batch` contains the target data,\n",
    "# it has the same shape as `.x_batch`.\n",
    "#\n",
    "# Unlike other training data in this course, successive batches from a single `EchoData`\n",
    "# object draw from the same stream. For example, in 08-seq_classification, training data\n",
    "# has the following format:\n",
    "#\n",
    "#   [[S11 S12...S1N], [S21 S22...S2N], ..., [SM1 SM2...SMN]]\n",
    "#\n",
    "# where `SIJ` represents the `j`th sample drawn from the `i`th stream. \n",
    "#\n",
    "# However, `EchoData` output has the following format (slicing along the batch dimension):\n",
    "#\n",
    "#   [[S11 S21...S1N], [S1(N+1) S1(N+2)...S2(2N)], ..., [S1(MN) S1(MN+1)...SM(MNN)]]\n",
    "#\n",
    "# This means that successive batches of data drawn from the same `EchoData` object\n",
    "# are not independent.\n",
    "train_data = EchoData(\n",
    "    echo_step=echo_step,\n",
    "    batch_size=batch_size,\n",
    "    series_length=series_length,\n",
    "    truncated_length=BPTT_T\n",
    ")\n",
    "total_values_in_one_chunck = batch_size * BPTT_T\n",
    "train_size = len(train_data)\n",
    "\n",
    "test_data = EchoData(\n",
    "    echo_step=echo_step,\n",
    "    batch_size=batch_size,\n",
    "    series_length=series_length,\n",
    "    truncated_length=BPTT_T,\n",
    ")\n",
    "test_size = len(test_data)"
   ]
  },
  {
   "cell_type": "code",
   "execution_count": 3,
   "id": "60a2802c",
   "metadata": {},
   "outputs": [
    {
     "name": "stdout",
     "output_type": "stream",
     "text": [
      "(1st input sequence)  x: 1 1 0 1 1 1 0 0 0 0 0 0 1 0 1 1 0 1 0 0 ... \n",
      "(1st target sequence) y: 0 0 0 1 1 0 1 1 1 0 0 0 0 0 0 1 0 1 1 0 ... \n"
     ]
    }
   ],
   "source": [
    "# Let's print first 20 timesteps of the first sequences to see the echo data:\n",
    "print('(1st input sequence)  x:', *train_data.x_batch[0, :20], '... ')\n",
    "print('(1st target sequence) y:', *train_data.y_batch[0, :20], '... ')"
   ]
  },
  {
   "cell_type": "code",
   "execution_count": 4,
   "id": "518761c7",
   "metadata": {},
   "outputs": [
    {
     "name": "stdout",
     "output_type": "stream",
     "text": [
      "x_batch:\n",
      "1 1 0 1 1 1 0 0 0 0 0 0 1 0 1 1 0 1 0 0 ...\n",
      "0 1 0 1 1 0 0 0 1 1 0 0 1 0 1 1 0 0 1 0 ...\n",
      "1 1 1 1 0 0 0 0 0 1 0 0 0 0 1 1 0 0 1 1 ...\n",
      "0 1 0 1 0 1 0 0 1 0 1 1 0 1 0 1 1 0 1 0 ...\n",
      "0 0 1 1 1 1 0 1 1 1 1 0 0 1 1 1 0 0 1 1 ...\n",
      "x_batch size: (5, 20000)\n",
      "\n",
      "y_batch:\n",
      "0 0 0 1 1 0 1 1 1 0 0 0 0 0 0 1 0 1 1 0 ...\n",
      "0 0 0 0 1 0 1 1 0 0 0 1 1 0 0 1 0 1 1 0 ...\n",
      "0 0 0 1 1 1 1 0 0 0 0 0 1 0 0 0 0 1 1 0 ...\n",
      "0 0 0 0 1 0 1 0 1 0 0 1 0 1 1 0 1 0 1 1 ...\n",
      "0 0 0 0 0 1 1 1 1 0 1 1 1 1 0 0 1 1 1 0 ...\n",
      "y_batch size: (5, 20000)\n"
     ]
    }
   ],
   "source": [
    "# batch_size different sequences are created:\n",
    "print('x_batch:', *(str(d)[1:-1] + ' ...' for d in train_data.x_batch[:, :20]), sep='\\n')\n",
    "print('x_batch size:', train_data.x_batch.shape)\n",
    "print()\n",
    "print('y_batch:', *(str(d)[1:-1] + ' ...' for d in train_data.y_batch[:, :20]), sep='\\n')\n",
    "print('y_batch size:', train_data.y_batch.shape)"
   ]
  },
  {
   "cell_type": "code",
   "execution_count": 5,
   "id": "c22635a0",
   "metadata": {},
   "outputs": [
    {
     "name": "stdout",
     "output_type": "stream",
     "text": [
      "x_chunk:\n",
      "[1 1 0 1 1 1 0 0 0 0 0 0 1 0 1 1 0 1 0 0]\n",
      "[0 1 0 1 1 0 0 0 1 1 0 0 1 0 1 1 0 0 1 0]\n",
      "[1 1 1 1 0 0 0 0 0 1 0 0 0 0 1 1 0 0 1 1]\n",
      "[0 1 0 1 0 1 0 0 1 0 1 1 0 1 0 1 1 0 1 0]\n",
      "[0 0 1 1 1 1 0 1 1 1 1 0 0 1 1 1 0 0 1 1]\n",
      "1st x_chunk size: (5, 20, 1)\n",
      "\n",
      "y_chunk:\n",
      "[0 0 0 1 1 0 1 1 1 0 0 0 0 0 0 1 0 1 1 0]\n",
      "[0 0 0 0 1 0 1 1 0 0 0 1 1 0 0 1 0 1 1 0]\n",
      "[0 0 0 1 1 1 1 0 0 0 0 0 1 0 0 0 0 1 1 0]\n",
      "[0 0 0 0 1 0 1 0 1 0 0 1 0 1 1 0 1 0 1 1]\n",
      "[0 0 0 0 0 1 1 1 1 0 1 1 1 1 0 0 1 1 1 0]\n",
      "1st y_chunk size: (5, 20, 1)\n"
     ]
    }
   ],
   "source": [
    "# In order to use RNNs data is organized into temporal\n",
    "# chunks of size [batch_size, T, feature_dim]\n",
    "print('x_chunk:', *train_data.x_chunks[0].squeeze(), sep='\\n')\n",
    "print('1st x_chunk size:', train_data.x_chunks[0].shape)\n",
    "print()\n",
    "print('y_chunk:', *train_data.y_chunks[0].squeeze(), sep='\\n')\n",
    "print('1st y_chunk size:', train_data.y_chunks[0].shape)"
   ]
  },
  {
   "cell_type": "markdown",
   "id": "baf916d2",
   "metadata": {},
   "source": [
    "## 2. Define Sequence Model"
   ]
  },
  {
   "cell_type": "code",
   "execution_count": 6,
   "id": "604c5e0b",
   "metadata": {},
   "outputs": [],
   "source": [
    "class SimpleRNN(nn.Module):\n",
    "    def __init__(self, input_size, hidden_size, output_size, num_layers=1):\n",
    "        super().__init__()\n",
    "        self.rnn = nn.RNN(\n",
    "            input_size=input_size,\n",
    "            hidden_size=hidden_size,\n",
    "            num_layers=num_layers,\n",
    "            nonlinearity='relu',\n",
    "            batch_first=True\n",
    "        )\n",
    "        self.linear = nn.Linear(\n",
    "            in_features=hidden_size,\n",
    "            out_features=output_size\n",
    "        )\n",
    "\n",
    "    def forward(self, x, hidden):\n",
    "        # In order to model the fact that successive batches belong to the same stream of data,\n",
    "        # we share the hidden state across successive invocations.\n",
    "        y, hidden = self.rnn(x, hidden)\n",
    "        y = self.linear(y)\n",
    "        return y, hidden"
   ]
  },
  {
   "cell_type": "markdown",
   "id": "06da150d",
   "metadata": {},
   "source": [
    "## 3. Train and Test Function"
   ]
  },
  {
   "cell_type": "code",
   "execution_count": 7,
   "id": "19ca37f0",
   "metadata": {},
   "outputs": [],
   "source": [
    "def train(model, train_data_gen, criterion, optimizer, device):\n",
    "    model.train()\n",
    "    \n",
    "    # New epoch --> fresh hidden state\n",
    "    hidden = None   \n",
    "    correct = 0\n",
    "    for batch_idx in range(train_size):\n",
    "        data, target = train_data_gen[batch_idx]\n",
    "        data, target = torch.from_numpy(data).float().to(device), torch.from_numpy(target).float().to(device)\n",
    "        \n",
    "        # Forward pass\n",
    "        if hidden is not None: hidden.detach_()\n",
    "        logits, hidden = model(data, hidden)\n",
    "#         logits, _ = model(data, hidden)\n",
    "        \n",
    "        loss = criterion(logits, target)\n",
    "        \n",
    "        optimizer.zero_grad()\n",
    "        loss.backward()\n",
    "        optimizer.step()\n",
    "        \n",
    "        pred = (torch.sigmoid(logits) > 0.5)\n",
    "        correct += (pred == target.byte()).int().sum().item()/total_values_in_one_chunck\n",
    "        \n",
    "    return correct, loss.item()"
   ]
  },
  {
   "cell_type": "code",
   "execution_count": 8,
   "id": "f235f861",
   "metadata": {},
   "outputs": [],
   "source": [
    "def test(model, test_data_gen, device):\n",
    "    model.eval()   \n",
    "    correct = 0\n",
    "    # New epoch --> fresh hidden state\n",
    "    hidden = None\n",
    "    with torch.no_grad():\n",
    "        for batch_idx in range(test_size):\n",
    "            data, target = test_data_gen[batch_idx]\n",
    "            data, target = torch.from_numpy(data).float().to(device), torch.from_numpy(target).float().to(device)\n",
    "#             logits, hidden = model(data, hidden)\n",
    "            if hidden is not None: hidden.detach_()\n",
    "            logits, hidden = model(data, hidden)\n",
    "            \n",
    "            pred = (torch.sigmoid(logits) > 0.5)\n",
    "            correct += (pred == target.byte()).int().sum().item()/total_values_in_one_chunck\n",
    "\n",
    "    return correct"
   ]
  },
  {
   "cell_type": "markdown",
   "id": "23a72dcf",
   "metadata": {},
   "source": [
    "## 4. Define RNN model"
   ]
  },
  {
   "cell_type": "code",
   "execution_count": 9,
   "id": "59de4a12",
   "metadata": {},
   "outputs": [],
   "source": [
    "feature_dim = 1 #since we have a scalar series\n",
    "h_units = 4\n",
    "device = torch.device(\"cuda:0\" if torch.cuda.is_available() else \"cpu\")\n",
    "\n",
    "model = SimpleRNN(\n",
    "    input_size=1,\n",
    "    hidden_size=h_units,\n",
    "    output_size=feature_dim\n",
    ").to(device)\n",
    "        \n",
    "criterion = nn.BCEWithLogitsLoss()\n",
    "optimizer = optim.RMSprop(model.parameters(), lr=0.001)"
   ]
  },
  {
   "cell_type": "markdown",
   "id": "3fcc0706",
   "metadata": {},
   "source": [
    "## 5.Training the model"
   ]
  },
  {
   "cell_type": "code",
   "execution_count": 10,
   "id": "bd945c4a",
   "metadata": {},
   "outputs": [
    {
     "name": "stdout",
     "output_type": "stream",
     "text": [
      "Train Epoch: 1/5, loss: 0.494, accuracy 60.7%\n",
      "Train Epoch: 2/5, loss: 0.338, accuracy 82.4%\n",
      "Train Epoch: 3/5, loss: 0.316, accuracy 85.5%\n",
      "Train Epoch: 4/5, loss: 0.030, accuracy 93.6%\n",
      "Train Epoch: 5/5, loss: 0.000, accuracy 100.0%\n"
     ]
    }
   ],
   "source": [
    "# training\n",
    "n_epochs = 5\n",
    "\n",
    "for epoch in range(1, n_epochs+1):\n",
    "    correct, loss = train(model, train_data, criterion, optimizer, device)\n",
    "    train_accuracy = float(correct)*100/ train_size\n",
    "    print(f'Train Epoch: {epoch}/{n_epochs}, loss: {loss:.3f}, accuracy {train_accuracy:.1f}%')"
   ]
  },
  {
   "cell_type": "code",
   "execution_count": 11,
   "id": "f0ce49b9",
   "metadata": {},
   "outputs": [
    {
     "name": "stdout",
     "output_type": "stream",
     "text": [
      "Test accuracy: 100.0%\n"
     ]
    }
   ],
   "source": [
    "#test\n",
    "correct = test(model, test_data, device)\n",
    "test_accuracy = float(correct) * 100 / test_size\n",
    "print(f'Test accuracy: {test_accuracy:.1f}%')"
   ]
  },
  {
   "cell_type": "code",
   "execution_count": 12,
   "id": "8d6a983d",
   "metadata": {},
   "outputs": [
    {
     "name": "stdout",
     "output_type": "stream",
     "text": [
      "Input: tensor([[1, 1, 1, 1, 0, 0, 0, 1, 1, 1, 1, 1, 1, 0, 1, 1, 0, 0, 1, 0, 0, 1, 1, 1,\n",
      "         0, 1, 0, 0, 1, 1, 0, 1, 1, 1, 1, 0, 0, 1, 1, 0, 0, 0, 0, 1, 1, 1, 0, 1,\n",
      "         0, 0, 1, 1, 0, 1, 1, 0, 1, 0, 0, 1, 1, 1, 0, 1, 1, 0, 1, 1, 1, 1, 0, 0,\n",
      "         0, 0, 0, 1, 1, 1, 1, 1, 1, 1, 0, 0, 0, 0, 0, 0, 1, 1, 1, 1, 1, 1, 0, 0,\n",
      "         1, 1, 0, 0]], dtype=torch.uint8)\n",
      "Target: [[0 0 0 1 1 1 1 0 0 0 1 1 1 1 1 1 0 1 1 0 0 1 0 0 1 1 1 0 1 0 0 1 1 0 1 1\n",
      "  1 1 0 0 1 1 0 0 0 0 1 1 1 0 1 0 0 1 1 0 1 1 0 1 0 0 1 1 1 0 1 1 0 1 1 1\n",
      "  1 0 0 0 0 0 1 1 1 1 1 1 1 0 0 0 0 0 0 1 1 1 1 1 1 0 0 1]]\n",
      "Prediction: tensor([[1, 1, 0, 1, 1, 1, 1, 1, 1, 0, 1, 1, 1, 1, 1, 1, 0, 1, 1, 0, 0, 1, 0, 0,\n",
      "         1, 1, 1, 0, 1, 0, 0, 1, 1, 0, 1, 1, 1, 1, 0, 0, 1, 1, 0, 0, 0, 0, 1, 1,\n",
      "         1, 0, 1, 0, 0, 1, 1, 0, 1, 1, 0, 1, 0, 0, 1, 1, 1, 0, 1, 1, 0, 1, 1, 1,\n",
      "         1, 0, 0, 0, 0, 0, 1, 1, 1, 1, 1, 1, 1, 0, 0, 0, 0, 0, 0, 1, 1, 1, 1, 1,\n",
      "         1, 0, 0, 1]], dtype=torch.uint8)\n",
      "[False False  True  True  True  True  True False False  True  True  True\n",
      "  True  True  True  True  True  True  True  True  True  True  True  True\n",
      "  True  True  True  True  True  True  True  True  True  True  True  True\n",
      "  True  True  True  True  True  True  True  True  True  True  True  True\n",
      "  True  True  True  True  True  True  True  True  True  True  True  True\n",
      "  True  True  True  True  True  True  True  True  True  True  True  True\n",
      "  True  True  True  True  True  True  True  True  True  True  True  True\n",
      "  True  True  True  True  True  True  True  True  True  True  True  True\n",
      "  True  True  True  True]\n"
     ]
    }
   ],
   "source": [
    "# Let's try some echoing\n",
    "my_input = torch.empty(1, 100, 1).random_(2)\n",
    "hidden = None\n",
    "my_out, _ = model(my_input.to(device), hidden)\n",
    "my_pred = torch.where(my_out > .5, \n",
    "                      torch.ones_like(my_out), \n",
    "                      torch.zeros_like(my_out)).cpu()\n",
    "\n",
    "\n",
    "# print(my_input.view(1, -1).byte(), my_pred.view(1, -1).byte(), sep='\\n')\n",
    "\n",
    "# Calculate the expected output for our random input\n",
    "expected = np.roll(my_input, echo_step)\n",
    "expected[:, :echo_step] = 0\n",
    "correct = expected == my_pred.numpy()\n",
    "\n",
    "print(f'Input: {my_input.view(1, -1).byte()}')\n",
    "print(f'Target: {np.uint(expected.reshape(1, -1))}')\n",
    "print(f'Prediction: {my_pred.view(1, -1).byte()}')\n",
    "\n",
    "print(np.ndarray.flatten(correct))"
   ]
  },
  {
   "cell_type": "code",
   "execution_count": null,
   "id": "cfe0529b",
   "metadata": {},
   "outputs": [],
   "source": []
  }
 ],
 "metadata": {
  "kernelspec": {
   "display_name": "Python 3 (ipykernel)",
   "language": "python",
   "name": "python3"
  },
  "language_info": {
   "codemirror_mode": {
    "name": "ipython",
    "version": 3
   },
   "file_extension": ".py",
   "mimetype": "text/x-python",
   "name": "python",
   "nbconvert_exporter": "python",
   "pygments_lexer": "ipython3",
   "version": "3.10.5"
  }
 },
 "nbformat": 4,
 "nbformat_minor": 5
}
