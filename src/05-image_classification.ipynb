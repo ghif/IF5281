{
 "cells": [
  {
   "cell_type": "markdown",
   "id": "387f9776-5955-47b6-99db-4ec212d7d60d",
   "metadata": {},
   "source": [
    "### Image Classification: MNIST Handwritten Digit"
   ]
  },
  {
   "cell_type": "code",
   "execution_count": 1,
   "id": "037b4739-3d62-407f-8087-d41af5e29e86",
   "metadata": {},
   "outputs": [
    {
     "name": "stderr",
     "output_type": "stream",
     "text": [
      "/Users/mghifary/.pyenv/versions/3.10.5/lib/python3.10/site-packages/torchvision/io/image.py:13: UserWarning: Failed to load image Python extension: dlopen(/Users/mghifary/.pyenv/versions/3.10.5/lib/python3.10/site-packages/torchvision/image.so, 0x0006): Symbol not found: __ZN3c106detail19maybe_wrap_dim_slowIxEET_S2_S2_b\n",
      "  Referenced from: /Users/mghifary/.pyenv/versions/3.10.5/lib/python3.10/site-packages/torchvision/image.so\n",
      "  Expected in: /Users/mghifary/.pyenv/versions/3.10.5/lib/python3.10/site-packages/torch/lib/libc10.dylib\n",
      "  warn(f\"Failed to load image Python extension: {e}\")\n"
     ]
    }
   ],
   "source": [
    "# Import all relevant modules\n",
    "import os\n",
    "import time\n",
    "from IPython import display\n",
    "\n",
    "import torch\n",
    "from torch import nn, optim\n",
    "from torch.utils.data import DataLoader\n",
    "\n",
    "from torchvision import datasets\n",
    "import torchvision.transforms as T\n",
    "\n",
    "# other modules\n",
    "import res.viz_utils as vu\n",
    "from res.plot_lib import plot_data, plot_model, plot_results, set_default"
   ]
  },
  {
   "cell_type": "code",
   "execution_count": 2,
   "id": "a2dd21d9-db4f-49cc-90e5-517ed5e4c6e5",
   "metadata": {},
   "outputs": [],
   "source": [
    "set_default()"
   ]
  },
  {
   "cell_type": "code",
   "execution_count": 3,
   "id": "c8633c87-fefd-4e96-86ce-c906141d9aac",
   "metadata": {},
   "outputs": [],
   "source": [
    "# Constants\n",
    "DATA_DIR = \"data\"\n",
    "MODEL_DIR = \"models\"\n",
    "\n",
    "EPOCHS = 10\n",
    "BATCH_SIZE = 64\n",
    "LEARNING_RATE = 1e-3\n",
    "LAMBDA_L2 = 1e-5\n",
    "\n",
    "DEVICE = \"cuda\" if torch.cuda.is_available() else \"cpu\""
   ]
  },
  {
   "cell_type": "markdown",
   "id": "64d9f71a-fe35-4d9e-87f8-c45b951b872e",
   "metadata": {},
   "source": [
    "### Load MNIST dataset"
   ]
  },
  {
   "cell_type": "code",
   "execution_count": 4,
   "id": "fe52b0f9-416c-4579-85bc-fbf00e1b0fe3",
   "metadata": {},
   "outputs": [
    {
     "name": "stdout",
     "output_type": "stream",
     "text": [
      "Downloading http://yann.lecun.com/exdb/mnist/train-images-idx3-ubyte.gz\n",
      "Downloading http://yann.lecun.com/exdb/mnist/train-images-idx3-ubyte.gz to data/MNIST/raw/train-images-idx3-ubyte.gz\n"
     ]
    },
    {
     "data": {
      "application/vnd.jupyter.widget-view+json": {
       "model_id": "f476bd3ab7484f84a1ceaf748d82695a",
       "version_major": 2,
       "version_minor": 0
      },
      "text/plain": [
       "  0%|          | 0/9912422 [00:00<?, ?it/s]"
      ]
     },
     "metadata": {},
     "output_type": "display_data"
    },
    {
     "name": "stdout",
     "output_type": "stream",
     "text": [
      "Extracting data/MNIST/raw/train-images-idx3-ubyte.gz to data/MNIST/raw\n",
      "\n",
      "Downloading http://yann.lecun.com/exdb/mnist/train-labels-idx1-ubyte.gz\n",
      "Downloading http://yann.lecun.com/exdb/mnist/train-labels-idx1-ubyte.gz to data/MNIST/raw/train-labels-idx1-ubyte.gz\n"
     ]
    },
    {
     "data": {
      "application/vnd.jupyter.widget-view+json": {
       "model_id": "bb1b68cec742430882e9908f71268667",
       "version_major": 2,
       "version_minor": 0
      },
      "text/plain": [
       "  0%|          | 0/28881 [00:00<?, ?it/s]"
      ]
     },
     "metadata": {},
     "output_type": "display_data"
    },
    {
     "name": "stdout",
     "output_type": "stream",
     "text": [
      "Extracting data/MNIST/raw/train-labels-idx1-ubyte.gz to data/MNIST/raw\n",
      "\n",
      "Downloading http://yann.lecun.com/exdb/mnist/t10k-images-idx3-ubyte.gz\n",
      "Downloading http://yann.lecun.com/exdb/mnist/t10k-images-idx3-ubyte.gz to data/MNIST/raw/t10k-images-idx3-ubyte.gz\n"
     ]
    },
    {
     "data": {
      "application/vnd.jupyter.widget-view+json": {
       "model_id": "42df1f23fbeb45c28fecefb02a303bbc",
       "version_major": 2,
       "version_minor": 0
      },
      "text/plain": [
       "  0%|          | 0/1648877 [00:00<?, ?it/s]"
      ]
     },
     "metadata": {},
     "output_type": "display_data"
    },
    {
     "name": "stdout",
     "output_type": "stream",
     "text": [
      "Extracting data/MNIST/raw/t10k-images-idx3-ubyte.gz to data/MNIST/raw\n",
      "\n",
      "Downloading http://yann.lecun.com/exdb/mnist/t10k-labels-idx1-ubyte.gz\n",
      "Downloading http://yann.lecun.com/exdb/mnist/t10k-labels-idx1-ubyte.gz to data/MNIST/raw/t10k-labels-idx1-ubyte.gz\n"
     ]
    },
    {
     "data": {
      "application/vnd.jupyter.widget-view+json": {
       "model_id": "2f1d38602d07477a8b64f9355bcb43de",
       "version_major": 2,
       "version_minor": 0
      },
      "text/plain": [
       "  0%|          | 0/4542 [00:00<?, ?it/s]"
      ]
     },
     "metadata": {},
     "output_type": "display_data"
    },
    {
     "name": "stdout",
     "output_type": "stream",
     "text": [
      "Extracting data/MNIST/raw/t10k-labels-idx1-ubyte.gz to data/MNIST/raw\n",
      "\n"
     ]
    }
   ],
   "source": [
    "# Load training and test data\n",
    "training_data = datasets.MNIST(\n",
    "    root=DATA_DIR,\n",
    "    train=True,\n",
    "    download=True,\n",
    "    transform=T.ToTensor(), # convert to Tensor and normalize to (0, 1)\n",
    ")\n",
    "\n",
    "test_data = datasets.MNIST(\n",
    "    root=DATA_DIR,\n",
    "    train=False,\n",
    "    download=True,\n",
    "    transform=T.ToTensor(), # convert to Tensor and normalize to (0,1)\n",
    ")"
   ]
  },
  {
   "cell_type": "code",
   "execution_count": 5,
   "id": "7c7e2cb9-16ea-44e9-8e68-87d7ba7c6104",
   "metadata": {},
   "outputs": [],
   "source": [
    "# Create data loaders\n",
    "train_dataloader = DataLoader(training_data, batch_size=BATCH_SIZE)\n",
    "test_dataloader = DataLoader(test_data, batch_size=BATCH_SIZE)"
   ]
  },
  {
   "cell_type": "code",
   "execution_count": 6,
   "id": "bf6bc0d0-0416-4770-8e0d-d7251645573a",
   "metadata": {},
   "outputs": [
    {
     "name": "stdout",
     "output_type": "stream",
     "text": [
      "img_np : 0.0 1.0\n"
     ]
    },
    {
     "data": {
      "image/png": "[encoded data removed]",
      "text/plain": [
       "<Figure size 1000x1000 with 1 Axes>"
      ]
     },
     "metadata": {},
     "output_type": "display_data"
    }
   ],
   "source": [
    "# Show training samples\n",
    "grid = vu.set_grid(train_dataloader.dataset.data, num_cells=48)\n",
    "vu.show(grid)"
   ]
  },
  {
   "cell_type": "code",
   "execution_count": 7,
   "id": "84eea0c8-cb8e-402e-8c2b-f07788948371",
   "metadata": {},
   "outputs": [
    {
     "name": "stdout",
     "output_type": "stream",
     "text": [
      "img_np : 0.0 1.0\n"
     ]
    },
    {
     "data": {
      "image/png": "[encoded data removed]",
      "text/plain": [
       "<Figure size 1000x1000 with 1 Axes>"
      ]
     },
     "metadata": {},
     "output_type": "display_data"
    }
   ],
   "source": [
    "# Show test samples\n",
    "grid = vu.set_grid(test_dataloader.dataset.data, num_cells=48)\n",
    "vu.show(grid)"
   ]
  },
  {
   "cell_type": "code",
   "execution_count": 8,
   "id": "d1e9844a-c72d-4adc-8fa1-85673be7e3b7",
   "metadata": {},
   "outputs": [],
   "source": [
    "X = train_dataloader.dataset.data\n",
    "y = train_dataloader.dataset.targets"
   ]
  },
  {
   "cell_type": "code",
   "execution_count": 9,
   "id": "40fd4292-81d7-4ba1-8e34-81a007d80ea2",
   "metadata": {},
   "outputs": [
    {
     "name": "stdout",
     "output_type": "stream",
     "text": [
      "torch.Size([60000, 28, 28])\n",
      "torch.Size([60000])\n"
     ]
    }
   ],
   "source": [
    "print(X.size())\n",
    "print(y.size())"
   ]
  },
  {
   "cell_type": "markdown",
   "id": "eeb62ed3-19b2-497a-a7c0-417dba850fe9",
   "metadata": {},
   "source": [
    "### Create NN model"
   ]
  },
  {
   "cell_type": "code",
   "execution_count": 10,
   "id": "b739adf3-5b1f-4429-859e-ce7e5b29afbd",
   "metadata": {},
   "outputs": [
    {
     "name": "stdout",
     "output_type": "stream",
     "text": [
      "Using cpu device\n",
      "Sequential(\n",
      "  (0): Linear(in_features=784, out_features=512, bias=True)\n",
      "  (1): Tanh()\n",
      "  (2): Linear(in_features=512, out_features=256, bias=True)\n",
      "  (3): Tanh()\n",
      "  (4): Linear(in_features=256, out_features=10, bias=True)\n",
      ")\n"
     ]
    }
   ],
   "source": [
    "# Define model: MLP\n",
    "print(f\"Using {DEVICE} device\")\n",
    "\n",
    "model = nn.Sequential(\n",
    "    nn.Linear(784, 512),\n",
    "    nn.Tanh(),\n",
    "    nn.Linear(512, 256),\n",
    "    nn.Tanh(),\n",
    "    nn.Linear(256, 10)\n",
    ")\n",
    "\n",
    "print(model)\n",
    "\n",
    "model.to(DEVICE)\n",
    "\n",
    "model_path = os.path.join(MODEL_DIR, \"mlp_mnist.pth\")"
   ]
  },
  {
   "cell_type": "code",
   "execution_count": 11,
   "id": "a4d8929c-8614-4b12-bfb4-c48807dfc686",
   "metadata": {},
   "outputs": [],
   "source": [
    "# Define loss function\n",
    "loss_fn = nn.CrossEntropyLoss()\n",
    "\n",
    "# Define optimizer\n",
    "opt = optim.SGD(\n",
    "    model.parameters(),\n",
    "    lr=LEARNING_RATE,\n",
    "    weight_decay=LAMBDA_L2\n",
    ")"
   ]
  },
  {
   "cell_type": "markdown",
   "id": "6a44124d-443e-441f-96c9-4f0d60375e7f",
   "metadata": {},
   "source": [
    "### Model Training and Inference"
   ]
  },
  {
   "cell_type": "code",
   "execution_count": 12,
   "id": "24fbcee1-6beb-4129-9cd0-f2a49f42bc4f",
   "metadata": {},
   "outputs": [],
   "source": [
    "def train(dataloader, model, loss_fn, opt):\n",
    "    size = len(dataloader.dataset)\n",
    "    for batch, (X, y) in enumerate(dataloader):\n",
    "        X, y = X.to(DEVICE), y.to(DEVICE)\n",
    "        # print(batch, X.size(), y.size(), sep=' || ')\n",
    "\n",
    "        # Flatten the input dimentionality\n",
    "        X = torch.flatten(X, start_dim=1)\n",
    "\n",
    "        # Compute prediction error\n",
    "        y_pred = model(X)\n",
    "        loss = loss_fn(y_pred, y)\n",
    "\n",
    "        # Backprop\n",
    "        opt.zero_grad()\n",
    "\n",
    "        loss.backward()\n",
    "        opt.step()\n",
    "\n",
    "        if batch % 100 == 0:\n",
    "            loss_val = loss.item()\n",
    "            current = batch * len(X)\n",
    "            print(f\"### [Batch-{batch}]-Loss : {loss:>7f} [{current:>5d}]/{size:>5d}\")\n"
   ]
  },
  {
   "cell_type": "code",
   "execution_count": 13,
   "id": "f042670b-f121-4406-a6a2-9b84ee3cbd9c",
   "metadata": {},
   "outputs": [],
   "source": [
    "def infer(dataloader, model, loss_fn):\n",
    "    size = len(dataloader.dataset)\n",
    "    model.eval()\n",
    "    loss, correct = 0, 0\n",
    "    num_batches = len(dataloader)\n",
    "    with torch.no_grad():\n",
    "        for X, y in dataloader:\n",
    "            X, y = X.to(DEVICE), y.to(DEVICE)\n",
    "            X = torch.flatten(X, start_dim=1)\n",
    "            y_pred = model(X)\n",
    "            loss += loss_fn(y_pred, y).item()\n",
    "            correct += (y_pred.argmax(1) == y).type(torch.float).sum().item()\n",
    "\n",
    "    loss /= num_batches\n",
    "    correct /= size\n",
    "    \n",
    "    return loss, correct"
   ]
  },
  {
   "cell_type": "code",
   "execution_count": null,
   "id": "98848ce8-fe59-42d0-92a8-698e2943aa6e",
   "metadata": {},
   "outputs": [
    {
     "name": "stdout",
     "output_type": "stream",
     "text": [
      "Epoch 4/10 -- train loss: 1.1776, train acc: 0.75, test loss: 1.1612, test acc: 0.76\n",
      "### [Batch-0]-Loss : 1.196526 [    0]/60000\n",
      "### [Batch-100]-Loss : 1.105304 [ 6400]/60000\n",
      "### [Batch-200]-Loss : 1.183316 [12800]/60000\n",
      "### [Batch-300]-Loss : 1.055220 [19200]/60000\n",
      "### [Batch-400]-Loss : 1.043650 [25600]/60000\n",
      "### [Batch-500]-Loss : 1.040284 [32000]/60000\n",
      "### [Batch-600]-Loss : 0.973326 [38400]/60000\n",
      "### [Batch-700]-Loss : 1.135388 [44800]/60000\n",
      "### [Batch-800]-Loss : 1.040743 [51200]/60000\n",
      "### [Batch-900]-Loss : 0.982657 [57600]/60000\n",
      " > Training time: 2.707 secs\n",
      " > Model models/mlp_mnist.pth stored !\n"
     ]
    }
   ],
   "source": [
    "train_losses = []\n",
    "train_accs = []\n",
    "test_losses = []\n",
    "test_accs = []\n",
    "\n",
    "# Mini-batch gradient descent training\n",
    "for t in range(EPOCHS):\n",
    "    # Measure loss and accuracy\n",
    "    train_loss, train_acc = infer(train_dataloader, model, loss_fn)\n",
    "    test_loss, test_acc = infer(test_dataloader, model, loss_fn)\n",
    "    \n",
    "    train_losses.append(train_loss)\n",
    "    train_accs.append(train_acc)\n",
    "    test_losses.append(test_loss)\n",
    "    test_accs.append(test_acc)\n",
    "    \n",
    "    \n",
    "    display.clear_output(wait=True)\n",
    "    print(f\"Epoch {t}/{EPOCHS} -- train loss: {train_loss:>.4f}, train acc: {train_acc:>.2f}, test loss: {test_loss:>.4f}, test acc: {test_acc:>.2f}\")\n",
    "    \n",
    "    start_t = time.time()\n",
    "    train(train_dataloader, model, loss_fn, opt)\n",
    "    elapsed_t = time.time() - start_t\n",
    "    print(f\" > Training time: {elapsed_t:>.3f} secs\")\n",
    "    \n",
    "    # Save model\n",
    "    os.makedirs(MODEL_DIR, exist_ok=True)\n",
    "    torch.save(model.state_dict(), model_path)\n",
    "    print(f\" > Model {model_path} stored !\")\n",
    "    \n",
    "    \n",
    "train_loss, train_acc = infer(train_dataloader, model, loss_fn)\n",
    "test_loss, test_acc = infer(test_dataloader, model, loss_fn)\n",
    "\n",
    "print(f\"Final Epoch -- train loss: {train_loss:>.4f}, train acc: {train_acc:>.2f}, test loss: {test_loss:>.4f}, test acc: {test_acc:>.2f}\")\n",
    "\n",
    "train_losses.append(train_loss)\n",
    "train_accs.append(train_acc)\n",
    "test_losses.append(test_loss)\n",
    "test_accs.append(test_acc)\n",
    "\n",
    "results = {\n",
    "    'train_loss': train_losses,\n",
    "    'train_acc': train_accs,\n",
    "    'test_loss': test_losses,\n",
    "    'test_acc': test_accs\n",
    "}\n"
   ]
  },
  {
   "cell_type": "code",
   "execution_count": null,
   "id": "63752388-e9c7-4fd1-bd1a-0d25a666290f",
   "metadata": {},
   "outputs": [],
   "source": [
    "# Plot accuracy\n",
    "plot_results(results['train_acc'], results['test_acc'], title='Accuracy')"
   ]
  },
  {
   "cell_type": "code",
   "execution_count": null,
   "id": "10b55aab-0f7f-4a86-9112-93455bc8e8d2",
   "metadata": {},
   "outputs": [],
   "source": [
    "# Plot loss\n",
    "plot_results(results['train_loss'], results['test_loss'], title='Loss')"
   ]
  }
 ],
 "metadata": {
  "kernelspec": {
   "display_name": "Python 3 (ipykernel)",
   "language": "python",
   "name": "python3"
  },
  "language_info": {
   "codemirror_mode": {
    "name": "ipython",
    "version": 3
   },
   "file_extension": ".py",
   "mimetype": "text/x-python",
   "name": "python",
   "nbconvert_exporter": "python",
   "pygments_lexer": "ipython3",
   "version": "3.10.5"
  }
 },
 "nbformat": 4,
 "nbformat_minor": 5
}
