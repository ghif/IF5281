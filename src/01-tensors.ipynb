{
 "cells": [
  {
   "cell_type": "code",
   "execution_count": 1,
   "id": "c466fd58-1605-4f0b-8844-5395f776f328",
   "metadata": {},
   "outputs": [],
   "source": [
    "import torch"
   ]
  },
  {
   "cell_type": "markdown",
   "id": "239e5c56-f24d-4d28-bc02-6b06bc5522f0",
   "metadata": {},
   "source": [
    "### Torch !"
   ]
  },
  {
   "cell_type": "code",
   "execution_count": 2,
   "id": "86119743-5aa1-42bf-896f-74f8b709f7fc",
   "metadata": {},
   "outputs": [
    {
     "data": {
      "text/plain": [
       "torch.Tensor"
      ]
     },
     "execution_count": 2,
     "metadata": {},
     "output_type": "execute_result"
    }
   ],
   "source": [
    "# Generate a tensor of size 2 x 3 x 4)\n",
    "T = torch.Tensor(2, 3, 4)\n",
    "type(T)"
   ]
  },
  {
   "cell_type": "code",
   "execution_count": 3,
   "id": "c86d0529-02eb-40a1-a469-53fb3c4805e5",
   "metadata": {},
   "outputs": [
    {
     "data": {
      "text/plain": [
       "torch.Size([2, 3, 4])"
      ]
     },
     "execution_count": 3,
     "metadata": {},
     "output_type": "execute_result"
    }
   ],
   "source": [
    "T.size()"
   ]
  },
  {
   "cell_type": "code",
   "execution_count": 4,
   "id": "fb51bd74-9d9b-4a3a-986a-42116a930381",
   "metadata": {},
   "outputs": [
    {
     "name": "stdout",
     "output_type": "stream",
     "text": [
      "point in a 24 dimensional space\n",
      "organised in 3 sub-dimensions\n"
     ]
    }
   ],
   "source": [
    "# prints dimensional space and sub-dimensions\n",
    "print(f'point in a {T.numel()} dimensional space')\n",
    "print(f'organised in {T.dim()} sub-dimensions')"
   ]
  },
  {
   "cell_type": "code",
   "execution_count": 5,
   "id": "ec286ff3-d6fa-40d6-86f1-45053bb1b4c1",
   "metadata": {},
   "outputs": [
    {
     "data": {
      "text/plain": [
       "tensor([[[5., 6., 1., 0.],\n",
       "         [6., 6., 7., 9.],\n",
       "         [9., 4., 1., 6.]],\n",
       "\n",
       "        [[1., 9., 0., 4.],\n",
       "         [1., 2., 4., 5.],\n",
       "         [2., 0., 2., 3.]]])"
      ]
     },
     "execution_count": 5,
     "metadata": {},
     "output_type": "execute_result"
    }
   ],
   "source": [
    "# Mind the underscore!\n",
    "# Any operation that mutates a tensor in-place is post-fixed with an_.\n",
    "# For example: x.copy_(y), x.t_(), x.random_(n) will change x\n",
    "T.random_(10)"
   ]
  },
  {
   "cell_type": "code",
   "execution_count": 6,
   "id": "ddfc3603-8517-453f-bbd8-28d3eb8a430f",
   "metadata": {},
   "outputs": [
    {
     "data": {
      "text/plain": [
       "tensor([[[5., 6., 1., 0.],\n",
       "         [6., 6., 7., 9.],\n",
       "         [9., 4., 1., 6.]],\n",
       "\n",
       "        [[1., 9., 0., 4.],\n",
       "         [1., 2., 4., 5.],\n",
       "         [2., 0., 2., 3.]]])"
      ]
     },
     "execution_count": 6,
     "metadata": {},
     "output_type": "execute_result"
    }
   ],
   "source": [
    "T"
   ]
  },
  {
   "cell_type": "code",
   "execution_count": 7,
   "id": "8b4a8351-d462-41c2-8a15-962e7fbfebed",
   "metadata": {},
   "outputs": [
    {
     "data": {
      "text/plain": [
       "tensor([[5., 6., 1., 0., 6., 6., 7., 9.],\n",
       "        [9., 4., 1., 6., 1., 9., 0., 4.],\n",
       "        [1., 2., 4., 5., 2., 0., 2., 3.]])"
      ]
     },
     "execution_count": 7,
     "metadata": {},
     "output_type": "execute_result"
    }
   ],
   "source": [
    "R = torch.Tensor(T)\n",
    "R.resize_(3, 8)\n",
    "R"
   ]
  },
  {
   "cell_type": "code",
   "execution_count": 8,
   "id": "3a85cc03-1ad8-4218-b1bb-967f7f95ef33",
   "metadata": {},
   "outputs": [
    {
     "data": {
      "text/plain": [
       "tensor([[0., 0., 0., 0., 0., 0., 0., 0.],\n",
       "        [0., 0., 0., 0., 0., 0., 0., 0.],\n",
       "        [0., 0., 0., 0., 0., 0., 0., 0.]])"
      ]
     },
     "execution_count": 8,
     "metadata": {},
     "output_type": "execute_result"
    }
   ],
   "source": [
    "R.zero_()"
   ]
  },
  {
   "cell_type": "code",
   "execution_count": 9,
   "id": "63ad2a62-0d60-4192-af04-9b993a0d3dbc",
   "metadata": {},
   "outputs": [
    {
     "data": {
      "text/plain": [
       "tensor([[0., 0., 0., 0., 0., 0., 0., 0.],\n",
       "        [0., 0., 0., 0., 0., 0., 0., 0.],\n",
       "        [0., 0., 0., 0., 0., 0., 0., 0.]])"
      ]
     },
     "execution_count": 9,
     "metadata": {},
     "output_type": "execute_result"
    }
   ],
   "source": [
    "R"
   ]
  },
  {
   "cell_type": "code",
   "execution_count": 10,
   "id": "99dccbc2-9c6d-4e0e-8d8f-5831ee29c19b",
   "metadata": {},
   "outputs": [
    {
     "data": {
      "text/plain": [
       "tensor([[[0., 0., 0., 0.],\n",
       "         [0., 0., 0., 0.],\n",
       "         [0., 0., 0., 0.]],\n",
       "\n",
       "        [[0., 0., 0., 0.],\n",
       "         [0., 0., 0., 0.],\n",
       "         [0., 0., 0., 0.]]])"
      ]
     },
     "execution_count": 10,
     "metadata": {},
     "output_type": "execute_result"
    }
   ],
   "source": [
    "T"
   ]
  },
  {
   "cell_type": "code",
   "execution_count": 11,
   "id": "00f36e5e-89e8-4356-a995-998e4fee1c7c",
   "metadata": {},
   "outputs": [],
   "source": [
    "S = R.clone()"
   ]
  },
  {
   "cell_type": "code",
   "execution_count": 12,
   "id": "ee9e8834-2e04-459b-8718-9e6a8fa6f88d",
   "metadata": {},
   "outputs": [
    {
     "data": {
      "text/plain": [
       "tensor([[1., 1., 1., 1., 1., 1., 1., 1.],\n",
       "        [1., 1., 1., 1., 1., 1., 1., 1.],\n",
       "        [1., 1., 1., 1., 1., 1., 1., 1.]])"
      ]
     },
     "execution_count": 12,
     "metadata": {},
     "output_type": "execute_result"
    }
   ],
   "source": [
    "S.fill_(1)"
   ]
  },
  {
   "cell_type": "code",
   "execution_count": 13,
   "id": "902b7412-78c7-4a7d-aca2-deb6bcd76403",
   "metadata": {},
   "outputs": [
    {
     "data": {
      "text/plain": [
       "tensor([[0., 0., 0., 0., 0., 0., 0., 0.],\n",
       "        [0., 0., 0., 0., 0., 0., 0., 0.],\n",
       "        [0., 0., 0., 0., 0., 0., 0., 0.]])"
      ]
     },
     "execution_count": 13,
     "metadata": {},
     "output_type": "execute_result"
    }
   ],
   "source": [
    "# because we cloned R, the in-place operation of S does not effect R\n",
    "R"
   ]
  },
  {
   "cell_type": "markdown",
   "id": "e42c2a46-b8b8-4eab-bf7b-200553601107",
   "metadata": {},
   "source": [
    "### Vectors (1D Tensors)"
   ]
  },
  {
   "cell_type": "code",
   "execution_count": 14,
   "id": "9a0ec93f-5206-4119-8a73-72049935667b",
   "metadata": {},
   "outputs": [
    {
     "data": {
      "text/plain": [
       "tensor([1., 2., 3., 4.])"
      ]
     },
     "execution_count": 14,
     "metadata": {},
     "output_type": "execute_result"
    }
   ],
   "source": [
    "# Create a 1D tensor of integers 1 to 4\n",
    "v = torch.Tensor([1, 2, 3, 4])\n",
    "v"
   ]
  },
  {
   "cell_type": "code",
   "execution_count": 15,
   "id": "38a923c1-0bc0-4549-a563-b814f8459dbf",
   "metadata": {},
   "outputs": [
    {
     "name": "stdout",
     "output_type": "stream",
     "text": [
      "dim: 1. size: 4\n"
     ]
    }
   ],
   "source": [
    "# Print number of dimensions (1D) and size of tensor\n",
    "print(f'dim: {v.dim()}. size: {v.size()[0]}')"
   ]
  },
  {
   "cell_type": "code",
   "execution_count": 16,
   "id": "4e07cc6b-2489-447c-a087-fe6020efbf04",
   "metadata": {},
   "outputs": [
    {
     "data": {
      "text/plain": [
       "tensor([2., 0., 3., 0.])"
      ]
     },
     "execution_count": 16,
     "metadata": {},
     "output_type": "execute_result"
    }
   ],
   "source": [
    "w = torch.Tensor([2, 0, 3, 0])\n",
    "w"
   ]
  },
  {
   "cell_type": "code",
   "execution_count": 17,
   "id": "d9194ea0-33be-4c3e-b4bf-8d3bdfefef6d",
   "metadata": {},
   "outputs": [
    {
     "data": {
      "text/plain": [
       "tensor([2., 0., 9., 0.])"
      ]
     },
     "execution_count": 17,
     "metadata": {},
     "output_type": "execute_result"
    }
   ],
   "source": [
    "# Element-wise multiplication\n",
    "v * w"
   ]
  },
  {
   "cell_type": "code",
   "execution_count": 18,
   "id": "1afd7b37-6de9-4ca7-94a7-c23b8fbde976",
   "metadata": {},
   "outputs": [
    {
     "data": {
      "text/plain": [
       "tensor(11.)"
      ]
     },
     "execution_count": 18,
     "metadata": {},
     "output_type": "execute_result"
    }
   ],
   "source": [
    "# Dot product\n",
    "v @ w"
   ]
  },
  {
   "cell_type": "code",
   "execution_count": 19,
   "id": "b3d04a9b-9592-47cf-b5c3-2f8eddfe359d",
   "metadata": {},
   "outputs": [
    {
     "data": {
      "text/plain": [
       "tensor([ 5., 18., 14., 13., 16.])"
      ]
     },
     "execution_count": 19,
     "metadata": {},
     "output_type": "execute_result"
    }
   ],
   "source": [
    "x = torch.Tensor(5).random_(20)\n",
    "x"
   ]
  },
  {
   "cell_type": "code",
   "execution_count": 20,
   "id": "157d3be2-b200-4003-bb00-80d825cff01b",
   "metadata": {},
   "outputs": [
    {
     "name": "stdout",
     "output_type": "stream",
     "text": [
      "first: 5.0 and last: 16.0\n"
     ]
    }
   ],
   "source": [
    "print(f'first: {x[0]} and last: {x[-1]}')"
   ]
  },
  {
   "cell_type": "code",
   "execution_count": 21,
   "id": "0a88553c-7bd8-4d65-adfb-472483302aec",
   "metadata": {},
   "outputs": [
    {
     "data": {
      "text/plain": [
       "tensor([18., 14.])"
      ]
     },
     "execution_count": 21,
     "metadata": {},
     "output_type": "execute_result"
    }
   ],
   "source": [
    "# Extract sub-tensor [from:to]\n",
    "x[1:2 + 1]"
   ]
  },
  {
   "cell_type": "code",
   "execution_count": 22,
   "id": "a5bcf298-6929-4e74-9efd-90d27992ac11",
   "metadata": {},
   "outputs": [
    {
     "data": {
      "text/plain": [
       "tensor([1., 2., 3., 4.])"
      ]
     },
     "execution_count": 22,
     "metadata": {},
     "output_type": "execute_result"
    }
   ],
   "source": [
    "v"
   ]
  },
  {
   "cell_type": "code",
   "execution_count": 23,
   "id": "f99cd48c-c8bc-4e39-959f-af1ddf88c693",
   "metadata": {},
   "outputs": [
    {
     "data": {
      "text/plain": [
       "tensor([1, 2, 3, 4])"
      ]
     },
     "execution_count": 23,
     "metadata": {},
     "output_type": "execute_result"
    }
   ],
   "source": [
    "# Create a tensor with integers ranging from 1 to 5, excluding 5\n",
    "v = torch.arange(1, 4+1)\n",
    "v"
   ]
  },
  {
   "cell_type": "code",
   "execution_count": 24,
   "id": "d094ca6f-5429-4753-a14e-3cc361d270ad",
   "metadata": {},
   "outputs": [
    {
     "name": "stdout",
     "output_type": "stream",
     "text": [
      "tensor([ 1,  4,  9, 16]) tensor([1, 2, 3, 4])\n"
     ]
    }
   ],
   "source": [
    "# Square all elements in the tensor\n",
    "print(v.pow(2), v)"
   ]
  },
  {
   "cell_type": "markdown",
   "id": "5f675fc4-fdc1-4aab-bcd0-1e90d30af976",
   "metadata": {},
   "source": [
    "### Matrices (2D Tensors)"
   ]
  },
  {
   "cell_type": "code",
   "execution_count": 25,
   "id": "d61588d7-b947-4008-a15e-7365437de90e",
   "metadata": {},
   "outputs": [
    {
     "data": {
      "text/plain": [
       "tensor([[2., 5., 3., 7.],\n",
       "        [4., 2., 1., 9.]])"
      ]
     },
     "execution_count": 25,
     "metadata": {},
     "output_type": "execute_result"
    }
   ],
   "source": [
    "# Create a 2x4 tensor\n",
    "M = torch.Tensor([[2, 5, 3, 7],\n",
    "                [4, 2, 1, 9]])\n",
    "M"
   ]
  },
  {
   "cell_type": "code",
   "execution_count": 26,
   "id": "47143d14-56e8-44ee-b029-5b5f13c4faac",
   "metadata": {},
   "outputs": [
    {
     "data": {
      "text/plain": [
       "2"
      ]
     },
     "execution_count": 26,
     "metadata": {},
     "output_type": "execute_result"
    }
   ],
   "source": [
    "M.dim()"
   ]
  },
  {
   "cell_type": "code",
   "execution_count": 27,
   "id": "5195b438-5473-4f22-86df-c31346a8b88d",
   "metadata": {},
   "outputs": [
    {
     "name": "stdout",
     "output_type": "stream",
     "text": [
      "2--4--torch.Size([2, 4])\n"
     ]
    }
   ],
   "source": [
    "print(M.size(0), M.size(1), M.size(), sep='--')"
   ]
  },
  {
   "cell_type": "code",
   "execution_count": 28,
   "id": "96add1ba-9776-47b0-86eb-a0247012fa01",
   "metadata": {},
   "outputs": [
    {
     "data": {
      "text/plain": [
       "8"
      ]
     },
     "execution_count": 28,
     "metadata": {},
     "output_type": "execute_result"
    }
   ],
   "source": [
    "# Returns the total number of elements\n",
    "M.numel()"
   ]
  },
  {
   "cell_type": "code",
   "execution_count": 29,
   "id": "bf734f25-2947-4f17-9a6a-7f3a34bda2d0",
   "metadata": {},
   "outputs": [
    {
     "data": {
      "text/plain": [
       "tensor(3.)"
      ]
     },
     "execution_count": 29,
     "metadata": {},
     "output_type": "execute_result"
    }
   ],
   "source": [
    "# Indexing row 0, column 2 (0-indexed)\n",
    "M[0][2]"
   ]
  },
  {
   "cell_type": "code",
   "execution_count": 30,
   "id": "a6ca2853-1bfc-45a2-bd37-3583f0000cbf",
   "metadata": {},
   "outputs": [
    {
     "data": {
      "text/plain": [
       "tensor(3.)"
      ]
     },
     "execution_count": 30,
     "metadata": {},
     "output_type": "execute_result"
    }
   ],
   "source": [
    "# Indexing row 0, column 2 (0-indexed), same as above\n",
    "M[0, 2]"
   ]
  },
  {
   "cell_type": "code",
   "execution_count": 31,
   "id": "fa5cb588-c86f-47b7-bc50-73101bafe0f6",
   "metadata": {},
   "outputs": [
    {
     "data": {
      "text/plain": [
       "tensor([5., 2.])"
      ]
     },
     "execution_count": 31,
     "metadata": {},
     "output_type": "execute_result"
    }
   ],
   "source": [
    "# Indexing column 2, all rows (returns size 2)\n",
    "M[:, 1]"
   ]
  },
  {
   "cell_type": "code",
   "execution_count": 32,
   "id": "45ee2be5-44db-4ed7-938f-344fd2273877",
   "metadata": {},
   "outputs": [
    {
     "data": {
      "text/plain": [
       "tensor([[5.],\n",
       "        [2.]])"
      ]
     },
     "execution_count": 32,
     "metadata": {},
     "output_type": "execute_result"
    }
   ],
   "source": [
    "# Indexing column 2, all rows (returns size 2x1)\n",
    "M[:, [1]]"
   ]
  },
  {
   "cell_type": "code",
   "execution_count": 33,
   "id": "e86857f6-133f-4487-bd2f-5fa05dc2222f",
   "metadata": {},
   "outputs": [
    {
     "data": {
      "text/plain": [
       "tensor([1., 2., 3., 4.])"
      ]
     },
     "execution_count": 33,
     "metadata": {},
     "output_type": "execute_result"
    }
   ],
   "source": [
    "# Create tensor of numbers from 1 to 5 (excluding 5)\n",
    "v = torch.arange(1., 4+1)\n",
    "v"
   ]
  },
  {
   "cell_type": "code",
   "execution_count": 34,
   "id": "a6853e9d-bfc3-4da5-b7aa-624085674a57",
   "metadata": {},
   "outputs": [
    {
     "data": {
      "text/plain": [
       "tensor([49., 47.])"
      ]
     },
     "execution_count": 34,
     "metadata": {},
     "output_type": "execute_result"
    }
   ],
   "source": [
    "# Dot product\n",
    "M @ v"
   ]
  },
  {
   "cell_type": "code",
   "execution_count": 35,
   "id": "43e600e9-e6fb-4cd8-a912-57d404f1bd60",
   "metadata": {},
   "outputs": [
    {
     "data": {
      "text/plain": [
       "tensor([[2.3398, 5.5606, 3.6193, 7.8190],\n",
       "        [4.5994, 2.3081, 1.6291, 9.9104]])"
      ]
     },
     "execution_count": 35,
     "metadata": {},
     "output_type": "execute_result"
    }
   ],
   "source": [
    "# Add a random tensor of size 2x4 to M\n",
    "M + torch.rand(2, 4)"
   ]
  },
  {
   "cell_type": "code",
   "execution_count": 36,
   "id": "8c7e84f0-747b-4941-af43-d6bad2e10ba1",
   "metadata": {},
   "outputs": [
    {
     "data": {
      "text/plain": [
       "tensor([[1.7749, 4.5831, 2.8621, 6.0696],\n",
       "        [3.2588, 1.9382, 0.4915, 8.5537]])"
      ]
     },
     "execution_count": 36,
     "metadata": {},
     "output_type": "execute_result"
    }
   ],
   "source": [
    "# Substract a random tensor of size 2x4 to M\n",
    "M - torch.rand(2, 4)"
   ]
  },
  {
   "cell_type": "code",
   "execution_count": 37,
   "id": "024d761e-9aae-48e5-bce0-7221676e20e7",
   "metadata": {},
   "outputs": [
    {
     "data": {
      "text/plain": [
       "tensor([[0.4317, 1.6137, 1.9475, 5.4664],\n",
       "        [3.8114, 0.3120, 0.3751, 8.0162]])"
      ]
     },
     "execution_count": 37,
     "metadata": {},
     "output_type": "execute_result"
    }
   ],
   "source": [
    "# Multiply a random tensor of size 2x4 to M\n",
    "M * torch.rand(2, 4)"
   ]
  },
  {
   "cell_type": "code",
   "execution_count": 38,
   "id": "1f635787-39a7-4401-b526-b6dafc898014",
   "metadata": {},
   "outputs": [
    {
     "data": {
      "text/plain": [
       "tensor([[ 9.0252,  6.2591,  8.2505, 12.6824],\n",
       "        [20.4058,  4.4757,  3.2232, 16.2929]])"
      ]
     },
     "execution_count": 38,
     "metadata": {},
     "output_type": "execute_result"
    }
   ],
   "source": [
    "# Divide M by a random tensor of size 2x4\n",
    "M / torch.rand(2, 4)"
   ]
  },
  {
   "cell_type": "markdown",
   "id": "2328ef4e-9398-411d-b443-e983171416f4",
   "metadata": {},
   "source": [
    "### Constructors"
   ]
  },
  {
   "cell_type": "code",
   "execution_count": 39,
   "id": "ebc509b4-558b-4d14-8fe8-9d43d0251e2b",
   "metadata": {},
   "outputs": [
    {
     "data": {
      "text/plain": [
       "tensor([3., 4., 5., 6., 7., 8.])"
      ]
     },
     "execution_count": 39,
     "metadata": {},
     "output_type": "execute_result"
    }
   ],
   "source": [
    "# Create tensor from 3 to 8, with each having a space of 1\n",
    "torch.arange(3., 8+1)"
   ]
  },
  {
   "cell_type": "code",
   "execution_count": 40,
   "id": "ad543968-d55e-4b4b-97b1-b3736f226882",
   "metadata": {},
   "outputs": [
    {
     "data": {
      "text/plain": [
       "tensor([ 5.7000,  3.7000,  1.7000, -0.3000])"
      ]
     },
     "execution_count": 40,
     "metadata": {},
     "output_type": "execute_result"
    }
   ],
   "source": [
    "# Create tensor from 5.7 to -2.1 with each having a space of -2\n",
    "torch.arange(5.7, -2.1, -2)"
   ]
  },
  {
   "cell_type": "code",
   "execution_count": 41,
   "id": "e5e482a7-3ca7-47e7-aa64-342861153fda",
   "metadata": {},
   "outputs": [
    {
     "data": {
      "text/plain": [
       "tensor([[3.0000, 3.2632, 3.5263, 3.7895, 4.0526, 4.3158, 4.5789, 4.8421, 5.1053,\n",
       "         5.3684, 5.6316, 5.8947, 6.1579, 6.4211, 6.6842, 6.9474, 7.2105, 7.4737,\n",
       "         7.7368, 8.0000]])"
      ]
     },
     "execution_count": 41,
     "metadata": {},
     "output_type": "execute_result"
    }
   ],
   "source": [
    "# Returns a 1D tensor of steps equally spaced points between start=3, end=8 and steps=20\n",
    "torch.linspace(3, 8, 20).view(1, -1)"
   ]
  },
  {
   "cell_type": "code",
   "execution_count": 42,
   "id": "75b69266-9cb5-4825-8015-4b2fbe49c677",
   "metadata": {},
   "outputs": [
    {
     "data": {
      "text/plain": [
       "tensor([[0., 0., 0.],\n",
       "        [0., 0., 0.],\n",
       "        [0., 0., 0.],\n",
       "        [0., 0., 0.],\n",
       "        [0., 0., 0.]])"
      ]
     },
     "execution_count": 42,
     "metadata": {},
     "output_type": "execute_result"
    }
   ],
   "source": [
    "# Create a tensor filled with 0's\n",
    "torch.zeros(5, 3)"
   ]
  },
  {
   "cell_type": "code",
   "execution_count": 43,
   "id": "e9e50924-bfbb-49e0-a65a-6fee985ad19d",
   "metadata": {},
   "outputs": [
    {
     "data": {
      "text/plain": [
       "tensor([[[1., 1., 1., 1., 1., 1., 1., 1., 1.],\n",
       "         [1., 1., 1., 1., 1., 1., 1., 1., 1.]],\n",
       "\n",
       "        [[1., 1., 1., 1., 1., 1., 1., 1., 1.],\n",
       "         [1., 1., 1., 1., 1., 1., 1., 1., 1.]],\n",
       "\n",
       "        [[1., 1., 1., 1., 1., 1., 1., 1., 1.],\n",
       "         [1., 1., 1., 1., 1., 1., 1., 1., 1.]],\n",
       "\n",
       "        [[1., 1., 1., 1., 1., 1., 1., 1., 1.],\n",
       "         [1., 1., 1., 1., 1., 1., 1., 1., 1.]],\n",
       "\n",
       "        [[1., 1., 1., 1., 1., 1., 1., 1., 1.],\n",
       "         [1., 1., 1., 1., 1., 1., 1., 1., 1.]]])"
      ]
     },
     "execution_count": 43,
     "metadata": {},
     "output_type": "execute_result"
    }
   ],
   "source": [
    "# Create a tensor filled with 1's\n",
    "torch.ones(5, 2, 9)"
   ]
  },
  {
   "cell_type": "code",
   "execution_count": 44,
   "id": "58bd1bec-1fde-4d3a-a7ba-7ca5fe8f4483",
   "metadata": {},
   "outputs": [
    {
     "data": {
      "text/plain": [
       "tensor([[1., 0., 0., 0., 0., 0., 0., 0., 0., 0.],\n",
       "        [0., 1., 0., 0., 0., 0., 0., 0., 0., 0.],\n",
       "        [0., 0., 1., 0., 0., 0., 0., 0., 0., 0.],\n",
       "        [0., 0., 0., 1., 0., 0., 0., 0., 0., 0.],\n",
       "        [0., 0., 0., 0., 1., 0., 0., 0., 0., 0.],\n",
       "        [0., 0., 0., 0., 0., 1., 0., 0., 0., 0.],\n",
       "        [0., 0., 0., 0., 0., 0., 1., 0., 0., 0.],\n",
       "        [0., 0., 0., 0., 0., 0., 0., 1., 0., 0.],\n",
       "        [0., 0., 0., 0., 0., 0., 0., 0., 1., 0.],\n",
       "        [0., 0., 0., 0., 0., 0., 0., 0., 0., 1.]])"
      ]
     },
     "execution_count": 44,
     "metadata": {},
     "output_type": "execute_result"
    }
   ],
   "source": [
    "# Create a tensor with the diagonal filled with 1\n",
    "torch.eye(10)"
   ]
  },
  {
   "cell_type": "code",
   "execution_count": 45,
   "id": "80983fc5-5ab5-4428-99f2-412feff69ca5",
   "metadata": {},
   "outputs": [],
   "source": [
    "# Set default plots\n",
    "from matplotlib import pyplot as plt"
   ]
  },
  {
   "cell_type": "code",
   "execution_count": 46,
   "id": "ebc24b78-5abe-41cd-bb4b-cad92cf474ba",
   "metadata": {},
   "outputs": [
    {
     "data": {
      "text/plain": [
       "(array([ 2.,  3.,  0.,  1.,  3.,  3.,  7.,  7., 10., 13., 18.,  9., 12.,\n",
       "        18., 19., 19., 26., 29., 40., 32., 48., 48., 45., 48., 43., 58.,\n",
       "        47., 49., 33., 42., 28., 30., 28., 36., 29., 21., 19., 21., 15.,\n",
       "        14., 10.,  6.,  2.,  3.,  4.,  0.,  0.,  1.,  0.,  1.]),\n",
       " array([-3.05549526, -2.9323175 , -2.80913949, -2.68596172, -2.56278372,\n",
       "        -2.43960595, -2.31642795, -2.19325018, -2.07007241, -1.94689441,\n",
       "        -1.82371664, -1.70053875, -1.57736087, -1.45418298, -1.3310051 ,\n",
       "        -1.20782721, -1.08464944, -0.9614715 , -0.83829367, -0.71511579,\n",
       "        -0.5919379 , -0.46876004, -0.34558219, -0.22240432, -0.09922645,\n",
       "         0.02395141,  0.14712928,  0.27030715,  0.39348501,  0.5166629 ,\n",
       "         0.63984072,  0.76301861,  0.88619649,  1.00937438,  1.13255227,\n",
       "         1.25573003,  1.37890792,  1.5020858 ,  1.62526369,  1.74844158,\n",
       "         1.87161946,  1.99479723,  2.11797523,  2.241153  ,  2.36433077,\n",
       "         2.48750877,  2.61068654,  2.73386455,  2.85704231,  2.98022032,\n",
       "         3.10339808]),\n",
       " <BarContainer object of 50 artists>)"
      ]
     },
     "execution_count": 46,
     "metadata": {},
     "output_type": "execute_result"
    },
    {
     "data": {
      "image/png": "[encoded data removed]",
      "text/plain": [
       "<Figure size 640x480 with 1 Axes>"
      ]
     },
     "metadata": {},
     "output_type": "display_data"
    }
   ],
   "source": [
    "# Numpy bridge\n",
    "plt.hist(torch.randn(1000).numpy(), 50)"
   ]
  },
  {
   "cell_type": "markdown",
   "id": "f4b0be7e-b0cb-4045-9b6c-3f4e678c1609",
   "metadata": {},
   "source": [
    "### Casting"
   ]
  },
  {
   "cell_type": "code",
   "execution_count": 47,
   "id": "13fef17f-6f87-41ca-b504-02a4e8f09951",
   "metadata": {},
   "outputs": [
    {
     "data": {
      "text/plain": [
       "torch.BFloat16Tensor\n",
       "torch.BoolTensor\n",
       "torch.ByteTensor\n",
       "torch.CharTensor\n",
       "torch.DoubleTensor\n",
       "torch.FloatTensor\n",
       "torch.HalfTensor\n",
       "torch.IntTensor\n",
       "torch.LongTensor\n",
       "torch.ShortTensor\n",
       "torch.Tensor"
      ]
     },
     "metadata": {},
     "output_type": "display_data"
    }
   ],
   "source": [
    "torch.*Tensor?"
   ]
  },
  {
   "cell_type": "code",
   "execution_count": 48,
   "id": "345311aa-0059-4b8e-a253-a9008b929df7",
   "metadata": {},
   "outputs": [
    {
     "data": {
      "text/plain": [
       "tensor([[2., 5., 3., 7.],\n",
       "        [4., 2., 1., 9.]])"
      ]
     },
     "execution_count": 48,
     "metadata": {},
     "output_type": "execute_result"
    }
   ],
   "source": [
    "M"
   ]
  },
  {
   "cell_type": "code",
   "execution_count": 49,
   "id": "e2dd7cc9-df0e-41a1-a2d0-ee192f4d0b1e",
   "metadata": {},
   "outputs": [
    {
     "data": {
      "text/plain": [
       "tensor([[2., 5., 3., 7.],\n",
       "        [4., 2., 1., 9.]], dtype=torch.float64)"
      ]
     },
     "execution_count": 49,
     "metadata": {},
     "output_type": "execute_result"
    }
   ],
   "source": [
    "M_double = M.double()\n",
    "M_double"
   ]
  },
  {
   "cell_type": "code",
   "execution_count": 50,
   "id": "ce035bb2-2ec3-4faa-ad01-ffbccc677130",
   "metadata": {},
   "outputs": [
    {
     "data": {
      "text/plain": [
       "tensor([[2, 5, 3, 7],\n",
       "        [4, 2, 1, 9]], dtype=torch.uint8)"
      ]
     },
     "execution_count": 50,
     "metadata": {},
     "output_type": "execute_result"
    }
   ],
   "source": [
    "M_byte = M.byte()\n",
    "M_byte"
   ]
  },
  {
   "cell_type": "code",
   "execution_count": 51,
   "id": "6cb10792-18c1-49c3-b984-e665a7609f7d",
   "metadata": {},
   "outputs": [
    {
     "data": {
      "text/plain": [
       "device(type='cpu')"
      ]
     },
     "execution_count": 51,
     "metadata": {},
     "output_type": "execute_result"
    }
   ],
   "source": [
    "device = torch.device(\"cuda:0\" if torch.cuda.is_available() else \"cpu\")\n",
    "device"
   ]
  },
  {
   "cell_type": "code",
   "execution_count": 52,
   "id": "88acc143-bda9-4227-8e04-e666cbd29a9d",
   "metadata": {},
   "outputs": [
    {
     "data": {
      "text/plain": [
       "tensor([[2., 5., 3., 7.],\n",
       "        [4., 2., 1., 9.]])"
      ]
     },
     "execution_count": 52,
     "metadata": {},
     "output_type": "execute_result"
    }
   ],
   "source": [
    "M.to(device)"
   ]
  },
  {
   "cell_type": "code",
   "execution_count": 53,
   "id": "340eb575-99fe-4761-8743-7b8440263941",
   "metadata": {},
   "outputs": [
    {
     "data": {
      "text/plain": [
       "array([[2., 5., 3., 7.],\n",
       "       [4., 2., 1., 9.]], dtype=float32)"
      ]
     },
     "execution_count": 53,
     "metadata": {},
     "output_type": "execute_result"
    }
   ],
   "source": [
    "# Converts tensor to numpy array\n",
    "M_np = M.numpy()\n",
    "M_np"
   ]
  },
  {
   "cell_type": "code",
   "execution_count": 54,
   "id": "f1e3b4ae-a6cb-4802-9312-f61401a168c9",
   "metadata": {},
   "outputs": [
    {
     "name": "stdout",
     "output_type": "stream",
     "text": [
      "tensor([0, 1, 2, 3, 4]) [0 1 2 3 4]\n"
     ]
    }
   ],
   "source": [
    "# Create a tensor of integers from numpy\n",
    "import numpy as np\n",
    "n_np = np.arange(5)\n",
    "n = torch.from_numpy(n_np)\n",
    "print(n, n_np)"
   ]
  },
  {
   "cell_type": "code",
   "execution_count": 55,
   "id": "25ba659d-1185-4ea1-ae17-17f492f66dae",
   "metadata": {},
   "outputs": [
    {
     "data": {
      "text/plain": [
       "array([0, 2, 4, 6, 8])"
      ]
     },
     "execution_count": 55,
     "metadata": {},
     "output_type": "execute_result"
    }
   ],
   "source": [
    "n.mul_(2)\n",
    "n_np"
   ]
  },
  {
   "cell_type": "markdown",
   "id": "07807ed7-1f1b-4097-835c-d9e9d92424a9",
   "metadata": {},
   "source": [
    "### Concatenation"
   ]
  },
  {
   "cell_type": "code",
   "execution_count": 56,
   "id": "0b83e3aa-fdf5-4315-9fdf-f1c67c130090",
   "metadata": {},
   "outputs": [],
   "source": [
    "# Create two tensors of size 1x4\n",
    "a = torch.Tensor([[1, 2, 3, 4]])\n",
    "b = torch.Tensor([[5, 6, 7, 8]])"
   ]
  },
  {
   "cell_type": "code",
   "execution_count": 57,
   "id": "49e80a1b-7af5-46d8-8351-ae2650f8b60d",
   "metadata": {},
   "outputs": [
    {
     "data": {
      "text/plain": [
       "tensor([[1., 2., 3., 4.],\n",
       "        [5., 6., 7., 8.]])"
      ]
     },
     "execution_count": 57,
     "metadata": {},
     "output_type": "execute_result"
    }
   ],
   "source": [
    "torch.cat((a,b), 0)"
   ]
  },
  {
   "cell_type": "code",
   "execution_count": 58,
   "id": "8fc1cab1-dd87-4ab2-a67f-93383fd8c58a",
   "metadata": {},
   "outputs": [
    {
     "data": {
      "text/plain": [
       "tensor([[1., 2., 3., 4., 5., 6., 7., 8.]])"
      ]
     },
     "execution_count": 58,
     "metadata": {},
     "output_type": "execute_result"
    }
   ],
   "source": [
    "torch.cat((a,b), 1)"
   ]
  }
 ],
 "metadata": {
  "kernelspec": {
   "display_name": "Python 3 (ipykernel)",
   "language": "python",
   "name": "python3"
  },
  "language_info": {
   "codemirror_mode": {
    "name": "ipython",
    "version": 3
   },
   "file_extension": ".py",
   "mimetype": "text/x-python",
   "name": "python",
   "nbconvert_exporter": "python",
   "pygments_lexer": "ipython3",
   "version": "3.10.5"
  }
 },
 "nbformat": 4,
 "nbformat_minor": 5
}
