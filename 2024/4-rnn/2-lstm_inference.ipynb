{
 "cells": [
  {
   "cell_type": "code",
   "execution_count": null,
   "metadata": {},
   "outputs": [],
   "source": [
    "import sys, os\n",
    "sys.path.append(os.path.abspath(os.path.join(os.getcwd(), os.pardir)))\n",
    "\n",
    "from time import process_time\n",
    "\n",
    "import numpy as np\n",
    "import json\n",
    "import matplotlib.pyplot as plt\n",
    "\n",
    "from sequential_tasks import TemporalOrderExp6aSequence as QRSU\n",
    "\n",
    "from torch import nn\n",
    "from torch.nn import functional as F\n",
    "import torch\n",
    "\n",
    "import model_utils as mu\n",
    "from plot_lib import plot_results, set_default, print_colourbar, plot_state\n",
    "\n",
    "from tqdm import tqdm"
   ]
  },
  {
   "cell_type": "code",
   "execution_count": null,
   "metadata": {},
   "outputs": [],
   "source": [
    "set_default(figsize=(20, 10))"
   ]
  },
  {
   "cell_type": "code",
   "execution_count": null,
   "metadata": {},
   "outputs": [],
   "source": [
    "# Constants\n",
    "model_dir = \"/Users/mghifary/Work/Code/AI/IF5281/2024/models\"\n",
    "device = \"mps\" if torch.backends.mps.is_available() else \"cpu\"\n",
    "# model_type = \"rnn\"\n",
    "model_type = \"lstm\"\n",
    "# difficulty = \"normal\"\n",
    "difficulty = \"moderate\""
   ]
  },
  {
   "cell_type": "code",
   "execution_count": null,
   "metadata": {},
   "outputs": [],
   "source": [
    "# Create a data generator\n",
    "if difficulty == \"easy\":\n",
    "    difficulty_level = QRSU.DifficultyLevel.EASY\n",
    "elif difficulty == \"normal\":\n",
    "    difficulty_level = QRSU.DifficultyLevel.NORMAL\n",
    "elif difficulty == \"moderate\":\n",
    "    difficulty_level = QRSU.DifficultyLevel.MODERATE\n",
    "elif difficulty == \"hard\":\n",
    "    difficulty_level = QRSU.DifficultyLevel.HARD\n",
    "else:\n",
    "    difficulty_level = QRSU.DifficultyLevel.NIGHTMARE\n",
    "\n",
    "example_generator = QRSU.get_predefined_generator(\n",
    "    difficulty_level=difficulty_level,\n",
    "    batch_size=32,\n",
    ")\n",
    "\n",
    "example_batch = example_generator[1]\n",
    "print(f'The return type is a {type(example_batch)} with length {len(example_batch)}.')\n",
    "print(f'The first item in the tuple is the batch of sequences with shape {example_batch[0].shape}.')\n",
    "print(f'The first element in the batch of sequences is:\\n {example_batch[0][0, :, :]}')\n",
    "print(f'The second item in the tuple is the corresponding batch of class labels with shape {example_batch[1].shape}.')\n",
    "print(f'The first element in the batch of class labels is:\\n {example_batch[1][0, :]}')\n",
    "\n",
    "\n",
    "# Decoding the first sequence\n",
    "sequence_decoded = example_generator.decode_x(example_batch[0][0, :, :])\n",
    "print(f'The sequence is: {sequence_decoded}')\n",
    "\n",
    "# Decoding the class label of the first sequence\n",
    "class_label_decoded = example_generator.decode_y(example_batch[1][0])\n",
    "print(f'The class label is: {class_label_decoded}')\n"
   ]
  },
  {
   "cell_type": "code",
   "execution_count": null,
   "metadata": {},
   "outputs": [],
   "source": [
    "# Setup the training and test data generators\n",
    "batch_size = 32\n",
    "train_data_gen = QRSU.get_predefined_generator(difficulty_level, batch_size)\n",
    "test_data_gen = QRSU.get_predefined_generator(difficulty_level, batch_size)  "
   ]
  },
  {
   "cell_type": "code",
   "execution_count": null,
   "metadata": {},
   "outputs": [],
   "source": [
    "# Setup the RNN and training settings\n",
    "input_size = train_data_gen.n_symbols\n",
    "# hidden_size = 8 # easy\n",
    "# hidden_size = 16\n",
    "hidden_size = 64 # normal\n",
    "# hidden_size = 256 # moderate\n",
    "# hidden_size = 512 # hard\n",
    "output_size = train_data_gen.n_classes    \n",
    "\n",
    "\n",
    "model = mu.SimpleLSTM(\n",
    "    input_size=input_size, \n",
    "    hidden_size=hidden_size,\n",
    "    output_size=output_size,\n",
    "    num_layers=1\n",
    ")\n",
    "# Load model\n",
    "model_name = f\"{model_type}_qrsu-{difficulty}\"\n",
    "model_path = os.path.join(model_dir, f\"{model_name}.pth\")\n",
    "model.load_state_dict(torch.load(model_path))\n",
    "model = model.to(device)"
   ]
  },
  {
   "cell_type": "code",
   "execution_count": null,
   "metadata": {},
   "outputs": [],
   "source": [
    "model.eval()\n",
    "with torch.no_grad():\n",
    "    data = test_data_gen[0][0]\n",
    "    X = torch.from_numpy(data).float().to(device)\n",
    "    H_t, C_t = model.get_states_across_time(X)\n",
    "\n",
    "print(\"Color range is as follows:\")\n",
    "print_colourbar()\n",
    "\n",
    "plot_state(X.cpu(), C_t, b=9, decoder=test_data_gen.decode_x)  # 3, 6, 9"
   ]
  },
  {
   "cell_type": "code",
   "execution_count": null,
   "metadata": {},
   "outputs": [],
   "source": [
    "b = 4\n",
    "actual_data = test_data_gen.decode_x(X.cpu()[b, :, :].numpy())\n",
    "actual_data"
   ]
  },
  {
   "cell_type": "code",
   "execution_count": null,
   "metadata": {},
   "outputs": [],
   "source": [
    "X.cpu()[b, :, :].shape"
   ]
  },
  {
   "cell_type": "code",
   "execution_count": null,
   "metadata": {},
   "outputs": [],
   "source": [
    "X.cpu().shape"
   ]
  },
  {
   "cell_type": "code",
   "execution_count": null,
   "metadata": {},
   "outputs": [],
   "source": [
    "len(actual_data)"
   ]
  },
  {
   "cell_type": "code",
   "execution_count": null,
   "metadata": {},
   "outputs": [],
   "source": [
    "X.cpu()"
   ]
  },
  {
   "cell_type": "code",
   "execution_count": null,
   "metadata": {},
   "outputs": [],
   "source": []
  }
 ],
 "metadata": {
  "kernelspec": {
   "display_name": "Python 3",
   "language": "python",
   "name": "python3"
  },
  "language_info": {
   "codemirror_mode": {
    "name": "ipython",
    "version": 3
   },
   "file_extension": ".py",
   "mimetype": "text/x-python",
   "name": "python",
   "nbconvert_exporter": "python",
   "pygments_lexer": "ipython3",
   "version": "3.11.5"
  }
 },
 "nbformat": 4,
 "nbformat_minor": 2
}
