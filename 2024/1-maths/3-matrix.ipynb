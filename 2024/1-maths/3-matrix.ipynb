{
 "cells": [
  {
   "cell_type": "markdown",
   "metadata": {},
   "source": [
    "## Matriks\n",
    "\n",
    "Matriks merupakan array 2 dimensi yang memiliki baris dan kolom. \n",
    "Untuk matriks beranggotakan bilangan riil, kita dapat menuliskannya dengan notasi $\\mathbf{A} \\in \\mathbb{R}^{m \\times k}$:\n",
    "\n",
    "$$\n",
    "\\mathbf{A} = \n",
    "\\begin{bmatrix}\n",
    "a_{11} & a_{12} & \\cdots & a_{1k} \\\\\n",
    "a_{21} & a_{22} & \\cdots & a_{2k} \\\\\n",
    "\\vdots & \\vdots & \\ddots & \\vdots \\\\\n",
    "a_{m1} & a_{m2} & \\cdots & a_{mk}\n",
    "\\end{bmatrix}\n",
    "$$\n",
    "\n",
    "Sebagai contoh, berikut sebuah matriks $\\mathbf{A}$ berdimensi 3 x 4:\n",
    "\n",
    "$$\n",
    "\\mathbf{A} = \n",
    "\\begin{bmatrix}\n",
    "0 & 1 & -2.3 & 0.1 \\\\\n",
    "1.3 & 4 & -0.1 & 1 \\\\\n",
    "4.1 & -1 & 0 & 1.7\n",
    "\\end{bmatrix}\n",
    "$$"
   ]
  },
  {
   "cell_type": "markdown",
   "metadata": {},
   "source": [
    "### Pembentukkan matriks\n",
    "\n",
    "Seperti halnya pada vektor, NumPy menyediakan berbagai cara untuk membentuk matriks."
   ]
  },
  {
   "cell_type": "markdown",
   "metadata": {},
   "source": [
    "**Hard-coded**"
   ]
  },
  {
   "cell_type": "code",
   "execution_count": 1,
   "metadata": {},
   "outputs": [
    {
     "name": "stdout",
     "output_type": "stream",
     "text": [
      "Value: tensor([[ 0.0000,  1.0000, -2.3000,  0.1000],\n",
      "        [ 1.3000,  4.0000, -0.1000,  1.0000],\n",
      "        [ 4.1000, -1.0000,  0.0000,  1.7000]])\n",
      "Shape: (3, 4)\n"
     ]
    }
   ],
   "source": [
    "import torch\n",
    "A = torch.tensor([\n",
    "    [0, 1, -2.3, 0.1], \n",
    "    [1.3, 4, -0.1, 1], \n",
    "    [4.1, -1, 0, 1.7]\n",
    "])\n",
    "\n",
    "m, k = A.shape # get matrix dimension\n",
    "\n",
    "print(f\"Value: {A}\")\n",
    "print(f\"Shape: {m, k}\")"
   ]
  },
  {
   "cell_type": "markdown",
   "metadata": {},
   "source": [
    "**Random**"
   ]
  },
  {
   "cell_type": "code",
   "execution_count": 2,
   "metadata": {},
   "outputs": [
    {
     "name": "stdout",
     "output_type": "stream",
     "text": [
      "A : \n",
      "tensor([[ 0.2522, -0.7411, -0.0436,  0.5761],\n",
      "        [-0.0903, -0.7518, -0.5611,  0.9922],\n",
      "        [-2.1897,  0.6052,  0.6832, -1.9686],\n",
      "        [ 2.3814,  1.1294,  0.5553, -1.2869],\n",
      "        [-0.2259, -0.2119,  0.8788, -0.1476]])\n"
     ]
    }
   ],
   "source": [
    "A = torch.randn(5, 4)\n",
    "print(f\"A : \\n{A}\")"
   ]
  },
  {
   "cell_type": "markdown",
   "metadata": {},
   "source": [
    "**Matriks Nol, Identitas, Diagonal**"
   ]
  },
  {
   "cell_type": "code",
   "execution_count": 3,
   "metadata": {},
   "outputs": [
    {
     "name": "stdout",
     "output_type": "stream",
     "text": [
      "Zeros: \n",
      "tensor([[0., 0., 0.],\n",
      "        [0., 0., 0.],\n",
      "        [0., 0., 0.]])\n",
      "Ones: \n",
      "tensor([[1., 1., 1.],\n",
      "        [1., 1., 1.],\n",
      "        [1., 1., 1.]])\n",
      "Diagonal: \n",
      "tensor([[1., 0., 0.],\n",
      "        [0., 1., 0.],\n",
      "        [0., 0., 1.]])\n"
     ]
    }
   ],
   "source": [
    "Z = torch.zeros((3, 3))\n",
    "I = torch.ones((3, 3))\n",
    "D = torch.diag(torch.ones(3))\n",
    "\n",
    "print(f\"Zeros: \\n{Z}\")\n",
    "print(f\"Ones: \\n{I}\")\n",
    "print(f\"Diagonal: \\n{D}\")"
   ]
  },
  {
   "cell_type": "markdown",
   "metadata": {},
   "source": [
    "**Submatrix / Slicing**"
   ]
  },
  {
   "cell_type": "code",
   "execution_count": 5,
   "metadata": {},
   "outputs": [
    {
     "name": "stdout",
     "output_type": "stream",
     "text": [
      "A: \n",
      "tensor([[ 1, -1,  3, -2],\n",
      "        [-2, -3, -5,  2],\n",
      "        [-3,  3, -2, -1],\n",
      "        [-3, -3,  3,  2]])\n",
      "B: \n",
      "tensor([[-2, -1],\n",
      "        [ 3,  2]])\n"
     ]
    }
   ],
   "source": [
    "A = torch.randint(-5, high=5, size=(4, 4))\n",
    "print(f\"A: \\n{A}\")\n",
    "\n",
    "B = A[2:4, 2:4] # slicing\n",
    "print(f\"B: \\n{B}\")"
   ]
  },
  {
   "cell_type": "markdown",
   "metadata": {},
   "source": [
    "**Penggabungan matriks**"
   ]
  },
  {
   "cell_type": "markdown",
   "metadata": {},
   "source": [
    "Matriks dapat dibentuk dari penggabungan matriks-matriks lain dengan menggunakan `hstack()` (*horizontal merge*) atau `vstack()` (*vertical merge*)"
   ]
  },
  {
   "cell_type": "code",
   "execution_count": 6,
   "metadata": {},
   "outputs": [
    {
     "name": "stdout",
     "output_type": "stream",
     "text": [
      "A shape: torch.Size([3, 2])\n",
      "B shape: torch.Size([3, 4])\n",
      "(hstack) C shape: torch.Size([3, 6])\n",
      "A shape: torch.Size([5, 3])\n",
      "B shape: torch.Size([2, 3])\n",
      "(vstack) C shape: torch.Size([7, 3])\n"
     ]
    }
   ],
   "source": [
    "A = torch.randn(3, 2)\n",
    "B = torch.randn(3, 4)\n",
    "\n",
    "print(f\"A shape: {A.shape}\")\n",
    "print(f\"B shape: {B.shape}\")\n",
    "\n",
    "C = torch.hstack((A, B)) # horizontal merge\n",
    "print(f\"(hstack) C shape: {C.shape}\")\n",
    "\n",
    "A = torch.randn(5, 3)\n",
    "B = torch.randn(2, 3)\n",
    "\n",
    "print(f\"A shape: {A.shape}\")\n",
    "print(f\"B shape: {B.shape}\")\n",
    "\n",
    "C = torch.vstack((A, B)) # vertical merge\n",
    "print(f\"(vstack) C shape: {C.shape}\")"
   ]
  },
  {
   "cell_type": "markdown",
   "metadata": {},
   "source": [
    "**Mengubah vektor dimensi $d$ menjadi matriks**"
   ]
  },
  {
   "cell_type": "markdown",
   "metadata": {},
   "source": [
    "Pada NumPy, fungsi `reshape()` dapat mengubah bentuk atau dimensi dari vektor atau matriks tanpa mengubah data."
   ]
  },
  {
   "cell_type": "code",
   "execution_count": 7,
   "metadata": {},
   "outputs": [
    {
     "name": "stdout",
     "output_type": "stream",
     "text": [
      "v shape: torch.Size([4])\n",
      "M shape: torch.Size([1, 4])\n",
      "w shape: torch.Size([4])\n",
      "tensor([True, True, True, True])\n"
     ]
    }
   ],
   "source": [
    "v = torch.randn(4)\n",
    "print(f\"v shape: {v.shape}\")\n",
    "\n",
    "M = torch.reshape(v, (1, 4))\n",
    "print(f\"M shape: {M.shape}\")\n",
    "\n",
    "w = M.flatten() # vectorization: go back to original vector\n",
    "print(f\"w shape: {w.shape}\")\n",
    "\n",
    "print(v == w)"
   ]
  },
  {
   "cell_type": "markdown",
   "metadata": {},
   "source": [
    "### Operasi Dasar Matriks\n",
    "\n",
    "Diketahui matriks $\\mathbf{A}, \\mathbf{B} \\in \\mathbb{R}^{m \\times k}$, dan skalar $c \\in \\mathbb{R}$.\n",
    "\n",
    "- **Penjumlahan**: $\\mathbf{C} = \\mathbf{A} + \\mathbf{B}$\n",
    "- **Pengurangan**: $\\mathbf{C} = \\mathbf{A} - \\mathbf{B}$\n",
    "- **Perkalian dengan skalar**: $\\mathbf{C} = c \\mathbf{A}$\n",
    "- **Perkalian antar elemen matriks**: $\\mathbf{C} = \\mathbf{A} * \\mathbf{B}$"
   ]
  },
  {
   "cell_type": "code",
   "execution_count": 8,
   "metadata": {},
   "outputs": [
    {
     "name": "stdout",
     "output_type": "stream",
     "text": [
      "Addition: \n",
      "tensor([[1, 6],\n",
      "        [9, 3],\n",
      "        [3, 5]])\n",
      "Scalar mult: \n",
      "tensor([[ 0.0000, 10.0000],\n",
      "        [17.5000,  0.0000],\n",
      "        [ 7.5000,  2.5000]])\n",
      "Element-wise mult: \n",
      "tensor([[ 0,  8],\n",
      "        [14,  0],\n",
      "        [ 0,  4]])\n"
     ]
    }
   ],
   "source": [
    "A = torch.tensor([[0, 4], [7,0], [3,1]])\n",
    "B = torch.tensor([[1, 2], [2,3], [0,4]])\n",
    "C = A + B\n",
    "print(f\"Addition: \\n{C}\")\n",
    "\n",
    "C = 2.5 * A\n",
    "print(f\"Scalar mult: \\n{C}\")\n",
    "\n",
    "C = A * B\n",
    "print(f\"Element-wise mult: \\n{C}\")"
   ]
  },
  {
   "cell_type": "markdown",
   "metadata": {},
   "source": [
    "### Inner Product"
   ]
  },
  {
   "cell_type": "markdown",
   "metadata": {},
   "source": [
    "#### Perkalian matriks-vektor\n",
    "\n",
    "Perkalian matriks-vektor merupakan generalisasi inner product dari 2 vektor. Misal terdapat matriks $\\mathbf{A} \\in \\mathbb{R}^{m \\times k}$ dan vektor $\\mathbf{v} \\in \\mathbb{R}^k$, perkalian matriks-vektor menghasilkan sebuah vektor baru $\\mathbf{y} \\in \\mathbb{R}^m$:\n",
    "\n",
    "$$\n",
    "\\mathbf{y} = \\mathbf{A} \\mathbf{v}\n",
    "$$"
   ]
  },
  {
   "cell_type": "code",
   "execution_count": 9,
   "metadata": {},
   "outputs": [
    {
     "name": "stdout",
     "output_type": "stream",
     "text": [
      "A: \n",
      "tensor([[-1.3240,  0.9305, -0.6140],\n",
      "        [-0.0893,  0.6910,  0.5257],\n",
      "        [-0.0222,  0.7500,  0.5476],\n",
      "        [ 0.3137,  0.0094, -0.3567],\n",
      "        [-1.3050, -0.0865, -0.9215]])\n",
      "v: \n",
      "tensor([1.5348, 0.3060, 0.5473])\n",
      "Matrix-vector mult: \n",
      "tensor([-2.0834,  0.3621,  0.4952,  0.2891, -2.5336])\n"
     ]
    }
   ],
   "source": [
    "A = torch.randn(5, 3)\n",
    "v = torch.randn(3)\n",
    "\n",
    "print(f\"A: \\n{A}\")\n",
    "print(f\"v: \\n{v}\")\n",
    "\n",
    "y = A @ v\n",
    "print(f\"Matrix-vector mult: \\n{y}\")"
   ]
  },
  {
   "cell_type": "markdown",
   "metadata": {},
   "source": [
    "#### Perkalian matriks-matriks\n",
    "Diketahui matriks $\\mathbf{A} \\in \\mathbb{R}^{m \\times d}$ dan $\\mathbf{B} \\in \\mathbb{R}^{d \\times k}$, perkalian antar kedua matriks tsb menghasilkan matriks baru $\\mathbf{C} \\in \\mathbb{R}^{m \\times k}$:\n",
    "\n",
    "$$\n",
    "\\mathbf{C} = \\mathbf{A} \\mathbf{B}\n",
    "$$"
   ]
  },
  {
   "cell_type": "code",
   "execution_count": 10,
   "metadata": {},
   "outputs": [
    {
     "name": "stdout",
     "output_type": "stream",
     "text": [
      "A: \n",
      "tensor([[-10,   3],\n",
      "        [  6,  -9],\n",
      "        [ -7,   1],\n",
      "        [ -4,  -1]])\n",
      "B: \n",
      "tensor([[-5,  1,  1],\n",
      "        [ 4, -1,  3]])\n",
      "C: \n",
      "tensor([[ 62, -13,  -1],\n",
      "        [-66,  15, -21],\n",
      "        [ 39,  -8,  -4],\n",
      "        [ 16,  -3,  -7]])\n"
     ]
    }
   ],
   "source": [
    "A = torch.randint(-10, high=10, size=(4, 2))\n",
    "B = torch.randint(-5, high=5, size=(2, 3))\n",
    "\n",
    "print(f\"A: \\n{A}\")\n",
    "print(f\"B: \\n{B}\")\n",
    "\n",
    "C = A @ B\n",
    "print(f\"C: \\n{C}\")"
   ]
  },
  {
   "cell_type": "markdown",
   "metadata": {},
   "source": [
    "#### Transpos\n",
    "Transpos merupakan operator untuk menukar posisi baris dan kolom matriks. Tranpos dari matriks $\\mathbf{A} \\in \\mathbb{R}^{m \\times k}$ ditulis dengan $\\mathbf{A}^\\top \\in \\mathbb{R}^{k \\times m} $.\n",
    "\n",
    "Sebagai contoh, diketahui matriks $\\mathbf{A} \\in \\mathbb{R}^{2 \\times 3}$\n",
    "$$\n",
    "\\mathbf{A} = \n",
    "\\begin{bmatrix}\n",
    "1 & 2 & 3 \\\\\n",
    "4 & 5 & 6\n",
    "\\end{bmatrix}\n",
    "$$\n",
    "\n",
    "Transpos dari matriks tsb adalah\n",
    "\n",
    "$$\n",
    "\\mathbf{A}^\\top = \n",
    "\\begin{bmatrix}\n",
    "1 & 4 \\\\\n",
    "2 & 5 \\\\\n",
    "3 & 6\n",
    "\\end{bmatrix}\n",
    "$$"
   ]
  },
  {
   "cell_type": "code",
   "execution_count": 11,
   "metadata": {},
   "outputs": [
    {
     "name": "stdout",
     "output_type": "stream",
     "text": [
      "B shape: torch.Size([3, 2])\n",
      "B.T shape: torch.Size([2, 3])\n"
     ]
    }
   ],
   "source": [
    "A = torch.randn(4, 2)\n",
    "B = torch.randn(3, 2)\n",
    "\n",
    "# C = A @ B # can't be computed! matrix B needs to be trasponsed\n",
    "\n",
    "C = A @ B.T # B is transposed\n",
    "\n",
    "\n",
    "print(f\"B shape: {B.shape}\")\n",
    "print(f\"B.T shape: {B.T.shape}\")\n"
   ]
  },
  {
   "cell_type": "markdown",
   "metadata": {},
   "source": [
    "### Inverse\n",
    "\n",
    "**Left-inverse**: Matriks $\\mathbf{X} \\in \\mathbb{R}^{k \\times m}$ merupakan *left-inverse* dari matriks $\\mathbf{A} \\in \\mathbb{R}^{m \\times k}$ jika memenuhi:\n",
    "\n",
    "$$\n",
    "\\mathbf{X} \\mathbf{A} = \\mathbf{I}\n",
    "$$\n",
    "\n",
    "**Right-inverse**: Matriks $\\mathbf{X}$ merupakan *right-inverse* dari matriks $\\mathbf{A}$ jika memenuhi:\n",
    "\n",
    "$$\n",
    "\\mathbf{A} \\mathbf{X} = \\mathbf{I}\n",
    "$$\n",
    "\n",
    "Jika $\\mathbf{X}$ memenuhi baik *left-inverse* maupun *right-inverse* di atas, maka $\\mathbf{X}$ disebut sebagai matriks inverse dari $\\mathbf{A}$ atau ditulis dengan $\\mathbf{A}^{-1}$.\n",
    "\n",
    "Syarat awal agar $\\mathbf{A}$ memiliki inverse adalah harus berbentuk matriks segiempat, i.e., $\\mathbb{R}^{m \\times m}$."
   ]
  },
  {
   "cell_type": "code",
   "execution_count": 17,
   "metadata": {},
   "outputs": [
    {
     "name": "stdout",
     "output_type": "stream",
     "text": [
      "X: \n",
      " tensor([[-1.,  7.,  0., -1.],\n",
      "        [ 0., -1.,  8.,  7.],\n",
      "        [ 9., -2., -1., -1.],\n",
      "        [ 9.,  6., -2.,  8.]])\n",
      "Inverse of X: \n",
      " tensor([[ 0.0297,  0.0149,  0.1100,  0.0045],\n",
      "        [ 0.1321,  0.0035,  0.0011,  0.0136],\n",
      "        [ 0.1087,  0.1168,  0.0895, -0.0775],\n",
      "        [-0.1053,  0.0098, -0.1022,  0.0905]])\n",
      "tensor([[ 1.0000e+00,  9.3132e-10,  0.0000e+00,  7.4506e-09],\n",
      "        [ 1.4901e-08,  1.0000e+00,  1.6065e-08, -8.3819e-09],\n",
      "        [-1.4901e-08,  0.0000e+00,  1.0000e+00, -5.5879e-09],\n",
      "        [-1.1921e-07,  0.0000e+00, -5.9605e-08,  1.0000e+00]])\n",
      "tensor([[ 1.0000e+00, -2.7940e-09,  9.3132e-10, -3.7253e-09],\n",
      "        [ 8.3819e-09,  1.0000e+00,  0.0000e+00,  1.4901e-08],\n",
      "        [-7.4506e-09,  4.4703e-08,  1.0000e+00, -5.9605e-08],\n",
      "        [-7.4506e-09, -4.4703e-08,  0.0000e+00,  1.0000e+00]])\n"
     ]
    },
    {
     "name": "stderr",
     "output_type": "stream",
     "text": [
      "/var/folders/b9/jjp98g8j2mbcn65j0fgl0dzw0000gp/T/ipykernel_45825/3068695327.py:2: UserWarning: To copy construct from a tensor, it is recommended to use sourceTensor.clone().detach() or sourceTensor.clone().detach().requires_grad_(True), rather than torch.tensor(sourceTensor).\n",
      "  X = torch.tensor(X, dtype=torch.float32)\n"
     ]
    }
   ],
   "source": [
    "X = torch.randint(-2, 10, size=(4, 4))\n",
    "X = torch.tensor(X, dtype=torch.float32)\n",
    "\n",
    "print(f\"X: \\n {X}\")\n",
    "\n",
    "Xinv = torch.inverse(X)\n",
    "print(f\"Inverse of X: \\n {Xinv}\")\n",
    "\n",
    "print(f\"{X @ Xinv}\")\n",
    "print(f\"{Xinv @ X}\")\n",
    "\n"
   ]
  },
  {
   "cell_type": "markdown",
   "metadata": {},
   "source": [
    "### Norm matriks\n",
    "\n",
    "Konsep norm juga dapat diaplikasikan pada matriks yang merepresentasikan besaran skalar (*magnitude*) dari suatu matriks. \n",
    "Sebagai contoh, Euclidean norm dari matriks $\\mathbf{A} \\in \\mathbb{R}^{m \\times k}$ adalah:\n",
    "\n",
    "$$\n",
    "\\| \\mathbf{A} \\| = \\sqrt{\\left( \\sum_{i=1}^{m} \\sum_{j=1}^{k} a^2_{ij} \\right)}\n",
    "$$"
   ]
  },
  {
   "cell_type": "code",
   "execution_count": 20,
   "metadata": {},
   "outputs": [
    {
     "name": "stdout",
     "output_type": "stream",
     "text": [
      "A: \n",
      "tensor([[0.8939, 0.5246, 0.1485],\n",
      "        [0.9371, 0.7116, 0.4570],\n",
      "        [0.3421, 0.5689, 0.4858],\n",
      "        [0.6688, 0.4131, 0.8019]])\n",
      "Norm(A): 2.151106119155884\n"
     ]
    }
   ],
   "source": [
    "A = torch.rand((4, 3))\n",
    "print(f\"A: \\n{A}\")\n",
    "\n",
    "print(f\"Norm(A): {torch.norm(A)}\")"
   ]
  },
  {
   "cell_type": "markdown",
   "metadata": {},
   "source": []
  }
 ],
 "metadata": {
  "kernelspec": {
   "display_name": "Python 3",
   "language": "python",
   "name": "python3"
  },
  "language_info": {
   "codemirror_mode": {
    "name": "ipython",
    "version": 3
   },
   "file_extension": ".py",
   "mimetype": "text/x-python",
   "name": "python",
   "nbconvert_exporter": "python",
   "pygments_lexer": "ipython3",
   "version": "3.11.5"
  },
  "orig_nbformat": 4
 },
 "nbformat": 4,
 "nbformat_minor": 2
}
