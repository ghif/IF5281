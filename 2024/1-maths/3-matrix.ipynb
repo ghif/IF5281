{
 "cells": [
  {
   "cell_type": "markdown",
   "metadata": {},
   "source": [
    "## Matriks\n",
    "\n",
    "Matriks merupakan array 2 dimensi yang memiliki baris dan kolom. \n",
    "Untuk matriks beranggotakan bilangan riil, kita dapat menuliskannya dengan notasi $\\mathbf{A} \\in \\mathbb{R}^{m \\times k}$:\n",
    "\n",
    "$$\n",
    "\\mathbf{A} = \n",
    "\\begin{bmatrix}\n",
    "a_{11} & a_{12} & \\cdots & a_{1k} \\\\\n",
    "a_{21} & a_{22} & \\cdots & a_{2k} \\\\\n",
    "\\vdots & \\vdots & \\ddots & \\vdots \\\\\n",
    "a_{m1} & a_{m2} & \\cdots & a_{mk}\n",
    "\\end{bmatrix}\n",
    "$$\n",
    "\n",
    "Sebagai contoh, berikut sebuah matriks $\\mathbf{A}$ berdimensi 3 x 4:\n",
    "\n",
    "$$\n",
    "\\mathbf{A} = \n",
    "\\begin{bmatrix}\n",
    "0 & 1 & -2.3 & 0.1 \\\\\n",
    "1.3 & 4 & -0.1 & 1 \\\\\n",
    "4.1 & -1 & 0 & 1.7\n",
    "\\end{bmatrix}\n",
    "$$"
   ]
  },
  {
   "cell_type": "markdown",
   "metadata": {},
   "source": [
    "### Pembentukkan matriks\n",
    "\n",
    "Seperti halnya pada vektor, NumPy menyediakan berbagai cara untuk membentuk matriks."
   ]
  },
  {
   "cell_type": "markdown",
   "metadata": {},
   "source": [
    "**Hard-coded**"
   ]
  },
  {
   "cell_type": "code",
   "execution_count": 1,
   "metadata": {},
   "outputs": [
    {
     "name": "stdout",
     "output_type": "stream",
     "text": [
      "Value: tensor([[ 0.0000,  1.0000, -2.3000,  0.1000],\n",
      "        [ 1.3000,  4.0000, -0.1000,  1.0000],\n",
      "        [ 4.1000, -1.0000,  0.0000,  1.7000]])\n",
      "Shape: (3, 4)\n"
     ]
    }
   ],
   "source": [
    "import torch\n",
    "A = torch.tensor([\n",
    "    [0, 1, -2.3, 0.1], \n",
    "    [1.3, 4, -0.1, 1], \n",
    "    [4.1, -1, 0, 1.7]\n",
    "])\n",
    "\n",
    "m, k = A.shape # get matrix dimension\n",
    "\n",
    "print(f\"Value: {A}\")\n",
    "print(f\"Shape: {m, k}\")"
   ]
  },
  {
   "cell_type": "markdown",
   "metadata": {},
   "source": [
    "**Random**"
   ]
  },
  {
   "cell_type": "code",
   "execution_count": 2,
   "metadata": {},
   "outputs": [
    {
     "name": "stdout",
     "output_type": "stream",
     "text": [
      "A : \n",
      "tensor([[-0.5667, -0.9549, -0.1511, -0.0268],\n",
      "        [-1.1908,  1.1531, -1.0063,  0.5480],\n",
      "        [ 2.3592,  0.5208,  1.2168,  0.1762],\n",
      "        [-0.2991, -0.5100, -0.6074, -0.9104],\n",
      "        [-0.4850, -0.5041, -1.3742,  1.2502]])\n"
     ]
    }
   ],
   "source": [
    "A = torch.randn(5, 4)\n",
    "print(f\"A : \\n{A}\")"
   ]
  },
  {
   "cell_type": "markdown",
   "metadata": {},
   "source": [
    "**Matriks Nol, Identitas, Diagonal**"
   ]
  },
  {
   "cell_type": "code",
   "execution_count": 3,
   "metadata": {},
   "outputs": [
    {
     "name": "stdout",
     "output_type": "stream",
     "text": [
      "Zeros: \n",
      "tensor([[0., 0., 0.],\n",
      "        [0., 0., 0.],\n",
      "        [0., 0., 0.]])\n",
      "Ones: \n",
      "tensor([[1., 1., 1.],\n",
      "        [1., 1., 1.],\n",
      "        [1., 1., 1.]])\n",
      "Diagonal: \n",
      "tensor([[1., 0., 0.],\n",
      "        [0., 1., 0.],\n",
      "        [0., 0., 1.]])\n"
     ]
    }
   ],
   "source": [
    "Z = torch.zeros((3, 3))\n",
    "I = torch.ones((3, 3))\n",
    "D = torch.diag(torch.ones(3))\n",
    "\n",
    "print(f\"Zeros: \\n{Z}\")\n",
    "print(f\"Ones: \\n{I}\")\n",
    "print(f\"Diagonal: \\n{D}\")"
   ]
  },
  {
   "cell_type": "markdown",
   "metadata": {},
   "source": [
    "**Submatrix / Slicing**"
   ]
  },
  {
   "cell_type": "code",
   "execution_count": 4,
   "metadata": {},
   "outputs": [
    {
     "name": "stdout",
     "output_type": "stream",
     "text": [
      "A: \n",
      "tensor([[ 2, -1, -2, -3],\n",
      "        [ 2, -3,  3, -4],\n",
      "        [-5, -3, -1, -1],\n",
      "        [-3, -5, -4, -5]])\n",
      "B: \n",
      "tensor([[-1, -1],\n",
      "        [-4, -5]])\n"
     ]
    }
   ],
   "source": [
    "A = torch.randint(-5, high=5, size=(4, 4))\n",
    "print(f\"A: \\n{A}\")\n",
    "\n",
    "B = A[2:4, 2:4] # slicing\n",
    "print(f\"B: \\n{B}\")"
   ]
  },
  {
   "cell_type": "markdown",
   "metadata": {},
   "source": [
    "**Penggabungan matriks**"
   ]
  },
  {
   "cell_type": "markdown",
   "metadata": {},
   "source": [
    "Matriks dapat dibentuk dari penggabungan matriks-matriks lain dengan menggunakan `hstack()` (*horizontal merge*) atau `vstack()` (*vertical merge*)"
   ]
  },
  {
   "cell_type": "code",
   "execution_count": 5,
   "metadata": {},
   "outputs": [
    {
     "name": "stdout",
     "output_type": "stream",
     "text": [
      "A shape: torch.Size([3, 2])\n",
      "B shape: torch.Size([3, 4])\n",
      "(hstack) C shape: torch.Size([3, 6])\n",
      "A shape: torch.Size([5, 3])\n",
      "B shape: torch.Size([2, 3])\n",
      "(vstack) C shape: torch.Size([7, 3])\n"
     ]
    }
   ],
   "source": [
    "A = torch.randn(3, 2)\n",
    "B = torch.randn(3, 4)\n",
    "\n",
    "print(f\"A shape: {A.shape}\")\n",
    "print(f\"B shape: {B.shape}\")\n",
    "\n",
    "C = torch.hstack((A, B)) # horizontal merge\n",
    "print(f\"(hstack) C shape: {C.shape}\")\n",
    "\n",
    "A = torch.randn(5, 3)\n",
    "B = torch.randn(2, 3)\n",
    "\n",
    "print(f\"A shape: {A.shape}\")\n",
    "print(f\"B shape: {B.shape}\")\n",
    "\n",
    "C = torch.vstack((A, B)) # vertical merge\n",
    "print(f\"(vstack) C shape: {C.shape}\")"
   ]
  },
  {
   "cell_type": "markdown",
   "metadata": {},
   "source": [
    "**Mengubah vektor dimensi $d$ menjadi matriks**"
   ]
  },
  {
   "cell_type": "markdown",
   "metadata": {},
   "source": [
    "Pada NumPy, fungsi `reshape()` dapat mengubah bentuk atau dimensi dari vektor atau matriks tanpa mengubah data."
   ]
  },
  {
   "cell_type": "code",
   "execution_count": 6,
   "metadata": {},
   "outputs": [
    {
     "name": "stdout",
     "output_type": "stream",
     "text": [
      "v shape: torch.Size([4])\n",
      "M shape: torch.Size([1, 4])\n",
      "w shape: torch.Size([4])\n",
      "tensor([True, True, True, True])\n"
     ]
    }
   ],
   "source": [
    "v = torch.randn(4)\n",
    "print(f\"v shape: {v.shape}\")\n",
    "\n",
    "M = torch.reshape(v, (1, 4))\n",
    "print(f\"M shape: {M.shape}\")\n",
    "\n",
    "w = M.flatten() # vectorization: go back to original vector\n",
    "print(f\"w shape: {w.shape}\")\n",
    "\n",
    "print(v == w)"
   ]
  },
  {
   "cell_type": "markdown",
   "metadata": {},
   "source": [
    "### Operasi Dasar Matriks\n",
    "\n",
    "Diketahui matriks $\\mathbf{A}, \\mathbf{B} \\in \\mathbb{R}^{m \\times k}$, dan skalar $c \\in \\mathbb{R}$.\n",
    "\n",
    "- **Penjumlahan**: $\\mathbf{C} = \\mathbf{A} + \\mathbf{B}$\n",
    "- **Pengurangan**: $\\mathbf{C} = \\mathbf{A} - \\mathbf{B}$\n",
    "- **Perkalian dengan skalar**: $\\mathbf{C} = c \\mathbf{A}$\n",
    "- **Perkalian antar elemen matriks**: $\\mathbf{C} = \\mathbf{A} * \\mathbf{B}$"
   ]
  },
  {
   "cell_type": "code",
   "execution_count": 7,
   "metadata": {},
   "outputs": [
    {
     "name": "stdout",
     "output_type": "stream",
     "text": [
      "Addition: \n",
      "tensor([[1, 6],\n",
      "        [9, 3],\n",
      "        [3, 5]])\n",
      "Scalar mult: \n",
      "tensor([[ 0.0000, 10.0000],\n",
      "        [17.5000,  0.0000],\n",
      "        [ 7.5000,  2.5000]])\n",
      "Element-wise mult: \n",
      "tensor([[ 0,  8],\n",
      "        [14,  0],\n",
      "        [ 0,  4]])\n"
     ]
    }
   ],
   "source": [
    "A = torch.tensor([[0, 4], [7,0], [3,1]])\n",
    "B = torch.tensor([[1, 2], [2,3], [0,4]])\n",
    "C = A + B\n",
    "print(f\"Addition: \\n{C}\")\n",
    "\n",
    "C = 2.5 * A\n",
    "print(f\"Scalar mult: \\n{C}\")\n",
    "\n",
    "C = A * B\n",
    "print(f\"Element-wise mult: \\n{C}\")"
   ]
  },
  {
   "cell_type": "markdown",
   "metadata": {},
   "source": [
    "### Inner Product"
   ]
  },
  {
   "cell_type": "markdown",
   "metadata": {},
   "source": [
    "#### Perkalian matriks-vektor\n",
    "\n",
    "Perkalian matriks-vektor merupakan generalisasi inner product dari 2 vektor. Misal terdapat matriks $\\mathbf{A} \\in \\mathbb{R}^{m \\times k}$ dan vektor $\\mathbf{v} \\in \\mathbb{R}^k$, perkalian matriks-vektor menghasilkan sebuah vektor baru $\\mathbf{y} \\in \\mathbb{R}^m$:\n",
    "\n",
    "$$\n",
    "\\mathbf{y} = \\mathbf{A} \\mathbf{v}\n",
    "$$"
   ]
  },
  {
   "cell_type": "code",
   "execution_count": 8,
   "metadata": {},
   "outputs": [
    {
     "name": "stdout",
     "output_type": "stream",
     "text": [
      "A: \n",
      "tensor([[-0.2658,  2.7013, -2.1775],\n",
      "        [ 0.2778, -0.6002, -0.0570],\n",
      "        [ 0.6318,  0.4194, -0.1213],\n",
      "        [-0.1906,  1.8913, -1.5526],\n",
      "        [ 1.1335,  2.1166, -0.9840]])\n",
      "v: \n",
      "tensor([-0.2752,  0.1757,  0.2761])\n",
      "Matrix-vector mult: \n",
      "tensor([-0.0534, -0.1976, -0.1337, -0.0439, -0.2117])\n"
     ]
    }
   ],
   "source": [
    "A = torch.randn(5, 3)\n",
    "v = torch.randn(3)\n",
    "\n",
    "print(f\"A: \\n{A}\")\n",
    "print(f\"v: \\n{v}\")\n",
    "\n",
    "y = A @ v\n",
    "print(f\"Matrix-vector mult: \\n{y}\")"
   ]
  },
  {
   "cell_type": "markdown",
   "metadata": {},
   "source": [
    "#### Perkalian matriks-matriks\n",
    "Diketahui matriks $\\mathbf{A} \\in \\mathbb{R}^{m \\times d}$ dan $\\mathbf{B} \\in \\mathbb{R}^{d \\times k}$, perkalian antar kedua matriks tsb menghasilkan matriks baru $\\mathbf{C} \\in \\mathbb{R}^{m \\times k}$:\n",
    "\n",
    "$$\n",
    "\\mathbf{C} = \\mathbf{A} \\mathbf{B}\n",
    "$$"
   ]
  },
  {
   "cell_type": "code",
   "execution_count": 9,
   "metadata": {},
   "outputs": [
    {
     "name": "stdout",
     "output_type": "stream",
     "text": [
      "A: \n",
      "tensor([[-7,  4],\n",
      "        [ 7, -6],\n",
      "        [-5, -6],\n",
      "        [ 8,  9]])\n",
      "B: \n",
      "tensor([[ 4, -5,  2],\n",
      "        [ 0,  0, -4]])\n",
      "C: \n",
      "tensor([[-28,  35, -30],\n",
      "        [ 28, -35,  38],\n",
      "        [-20,  25,  14],\n",
      "        [ 32, -40, -20]])\n"
     ]
    }
   ],
   "source": [
    "A = torch.randint(-10, high=10, size=(4, 2))\n",
    "B = torch.randint(-5, high=5, size=(2, 3))\n",
    "\n",
    "print(f\"A: \\n{A}\")\n",
    "print(f\"B: \\n{B}\")\n",
    "\n",
    "C = A @ B\n",
    "print(f\"C: \\n{C}\")"
   ]
  },
  {
   "cell_type": "markdown",
   "metadata": {},
   "source": [
    "#### Transpos\n",
    "Transpos merupakan operator untuk menukar posisi baris dan kolom matriks. Tranpos dari matriks $\\mathbf{A} \\in \\mathbb{R}^{m \\times k}$ ditulis dengan $\\mathbf{A}^\\top \\in \\mathbb{R}^{k \\times m} $.\n",
    "\n",
    "Sebagai contoh, diketahui matriks $\\mathbf{A} \\in \\mathbb{R}^{2 \\times 3}$\n",
    "$$\n",
    "\\mathbf{A} = \n",
    "\\begin{bmatrix}\n",
    "1 & 2 & 3 \\\\\n",
    "4 & 5 & 6\n",
    "\\end{bmatrix}\n",
    "$$\n",
    "\n",
    "Transpos dari matriks tsb adalah\n",
    "\n",
    "$$\n",
    "\\mathbf{A}^\\top = \n",
    "\\begin{bmatrix}\n",
    "1 & 4 \\\\\n",
    "2 & 5 \\\\\n",
    "3 & 6\n",
    "\\end{bmatrix}\n",
    "$$"
   ]
  },
  {
   "cell_type": "code",
   "execution_count": 10,
   "metadata": {},
   "outputs": [
    {
     "name": "stdout",
     "output_type": "stream",
     "text": [
      "B shape: torch.Size([3, 2])\n",
      "B.T shape: torch.Size([2, 3])\n"
     ]
    }
   ],
   "source": [
    "A = torch.randn(4, 2)\n",
    "B = torch.randn(3, 2)\n",
    "\n",
    "# C = A @ B # can't be computed! matrix B needs to be trasponsed\n",
    "\n",
    "C = A @ B.T # B is transposed\n",
    "\n",
    "\n",
    "print(f\"B shape: {B.shape}\")\n",
    "print(f\"B.T shape: {B.T.shape}\")\n"
   ]
  },
  {
   "cell_type": "markdown",
   "metadata": {},
   "source": [
    "### Inverse\n",
    "\n",
    "**Left-inverse**: Matriks $\\mathbf{X} \\in \\mathbb{R}^{k \\times m}$ merupakan *left-inverse* dari matriks $\\mathbf{A} \\in \\mathbb{R}^{m \\times k}$ jika memenuhi:\n",
    "\n",
    "$$\n",
    "\\mathbf{X} \\mathbf{A} = \\mathbf{I}\n",
    "$$\n",
    "\n",
    "**Right-inverse**: Matriks $\\mathbf{X}$ merupakan *right-inverse* dari matriks $\\mathbf{A}$ jika memenuhi:\n",
    "\n",
    "$$\n",
    "\\mathbf{A} \\mathbf{X} = \\mathbf{I}\n",
    "$$\n",
    "\n",
    "Jika $\\mathbf{X}$ memenuhi baik *left-inverse* maupun *right-inverse* di atas, maka $\\mathbf{X}$ disebut sebagai matriks inverse dari $\\mathbf{A}$ atau ditulis dengan $\\mathbf{A}^{-1}$.\n",
    "\n",
    "Syarat awal agar $\\mathbf{A}$ memiliki inverse adalah harus berbentuk matriks segiempat, i.e., $\\mathbb{R}^{m \\times m}$."
   ]
  },
  {
   "cell_type": "code",
   "execution_count": 11,
   "metadata": {},
   "outputs": [
    {
     "name": "stdout",
     "output_type": "stream",
     "text": [
      "X: \n",
      " tensor([[ 8.,  5.,  8.,  5.],\n",
      "        [ 6.,  6., -2.,  9.],\n",
      "        [ 1.,  2.,  2., -2.],\n",
      "        [ 2.,  1.,  1.,  3.]])\n",
      "Inverse of X: \n",
      " tensor([[ 1.3061,  0.4898, -2.1837, -5.1020],\n",
      "        [-0.7143, -0.1429,  1.4286,  2.5714],\n",
      "        [-0.4286, -0.2857,  0.8571,  2.1429],\n",
      "        [-0.4898, -0.1837,  0.6939,  2.1633]])\n",
      "tensor([[ 1.0000e+00,  0.0000e+00,  9.5367e-07, -3.8147e-06],\n",
      "        [ 2.3842e-07,  1.0000e+00, -4.7684e-07, -1.9073e-06],\n",
      "        [ 5.9605e-08,  2.9802e-08,  1.0000e+00, -4.7684e-07],\n",
      "        [ 1.1921e-07,  0.0000e+00,  0.0000e+00,  1.0000e+00]])\n",
      "tensor([[ 1.0000e+00,  4.7684e-07,  4.7684e-07, -9.5367e-07],\n",
      "        [ 0.0000e+00,  1.0000e+00, -2.3842e-07, -2.3842e-07],\n",
      "        [ 0.0000e+00, -2.3842e-07,  1.0000e+00, -2.3842e-07],\n",
      "        [-4.7684e-07, -2.3842e-07,  0.0000e+00,  1.0000e+00]])\n"
     ]
    },
    {
     "name": "stderr",
     "output_type": "stream",
     "text": [
      "/var/folders/b9/jjp98g8j2mbcn65j0fgl0dzw0000gp/T/ipykernel_90736/3068695327.py:2: UserWarning: To copy construct from a tensor, it is recommended to use sourceTensor.clone().detach() or sourceTensor.clone().detach().requires_grad_(True), rather than torch.tensor(sourceTensor).\n",
      "  X = torch.tensor(X, dtype=torch.float32)\n"
     ]
    }
   ],
   "source": [
    "X = torch.randint(-2, 10, size=(4, 4))\n",
    "X = torch.tensor(X, dtype=torch.float32)\n",
    "\n",
    "print(f\"X: \\n {X}\")\n",
    "\n",
    "Xinv = torch.inverse(X)\n",
    "print(f\"Inverse of X: \\n {Xinv}\")\n",
    "\n",
    "print(f\"{X @ Xinv}\")\n",
    "print(f\"{Xinv @ X}\")\n",
    "\n"
   ]
  },
  {
   "cell_type": "markdown",
   "metadata": {},
   "source": [
    "### Norm matriks\n",
    "\n",
    "Konsep norm juga dapat diaplikasikan pada matriks yang merepresentasikan besaran skalar (*magnitude*) dari suatu matriks. \n",
    "Sebagai contoh, Euclidean norm dari matriks $\\mathbf{A} \\in \\mathbb{R}^{m \\times k}$ adalah:\n",
    "\n",
    "$$\n",
    "\\| \\mathbf{A} \\| = \\sqrt{\\left( \\sum_{i=1}^{m} \\sum_{j=1}^{k} a^2_{ij} \\right)}\n",
    "$$"
   ]
  },
  {
   "cell_type": "code",
   "execution_count": 12,
   "metadata": {},
   "outputs": [
    {
     "name": "stdout",
     "output_type": "stream",
     "text": [
      "A: \n",
      "tensor([[0.1563, 0.1097, 0.8389],\n",
      "        [0.6022, 0.7991, 0.4085],\n",
      "        [0.3876, 0.8535, 0.8313],\n",
      "        [0.5284, 0.7485, 0.7790]])\n",
      "Norm(A): 2.2191340923309326\n"
     ]
    }
   ],
   "source": [
    "A = torch.rand((4, 3))\n",
    "print(f\"A: \\n{A}\")\n",
    "\n",
    "print(f\"Norm(A): {torch.norm(A)}\")"
   ]
  },
  {
   "cell_type": "markdown",
   "metadata": {},
   "source": []
  }
 ],
 "metadata": {
  "kernelspec": {
   "display_name": "Python 3",
   "language": "python",
   "name": "python3"
  },
  "language_info": {
   "codemirror_mode": {
    "name": "ipython",
    "version": 3
   },
   "file_extension": ".py",
   "mimetype": "text/x-python",
   "name": "python",
   "nbconvert_exporter": "python",
   "pygments_lexer": "ipython3",
   "version": "3.11.5"
  },
  "orig_nbformat": 4
 },
 "nbformat": 4,
 "nbformat_minor": 2
}
