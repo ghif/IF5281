{
 "cells": [
  {
   "cell_type": "markdown",
   "metadata": {},
   "source": [
    "## Fungsi Linear"
   ]
  },
  {
   "cell_type": "markdown",
   "metadata": {},
   "source": [
    "Fungsi merupakan cara untuk memetakan suatu nilai atau objek tertentu ke nilai yang lain. Notasi fungsi $f: \\mathbb{R}^m \\rightarrow \\mathbb{R}$ berarti pemetaan nilai dari vektor berdimensi $m$ menjadi suatu nilai skalar.\n",
    "\n",
    "Sebagai contoh, misalkan terdapat vektor $\\mathbf{x} = (x_1, \\ldots, x_4)$, berikut salah satu bentuk fungsi yang mungkin untuk memetakan ke nilai skalar:\n",
    "\n",
    "$$\n",
    "y = f(\\mathbf{x}) = x_1 + x_2 - x^2_4\n",
    "$$\n",
    "\n",
    "Python menyediakan beberapa cara untuk mendefinisikan fungsi."
   ]
  },
  {
   "cell_type": "markdown",
   "metadata": {},
   "source": [
    "**Lambda function**: fungsi yang didefinisikan tanpa nama."
   ]
  },
  {
   "cell_type": "code",
   "execution_count": 1,
   "metadata": {},
   "outputs": [],
   "source": [
    "import torch"
   ]
  },
  {
   "cell_type": "code",
   "execution_count": 2,
   "metadata": {},
   "outputs": [
    {
     "data": {
      "text/plain": [
       "-5.0"
      ]
     },
     "execution_count": 2,
     "metadata": {},
     "output_type": "execute_result"
    }
   ],
   "source": [
    "f = lambda x: x[0] + x[1] - x[3] ** 2\n",
    "f([-1.0, 0.0, 1.0, 2.0])"
   ]
  },
  {
   "cell_type": "markdown",
   "metadata": {},
   "source": [
    "**def function**: pendefinisian fungsi untuk kebutuhan yang lebih kompleks, dapat mengakomodasi multi-input dan multi-output."
   ]
  },
  {
   "cell_type": "code",
   "execution_count": 3,
   "metadata": {},
   "outputs": [
    {
     "data": {
      "text/plain": [
       "-5.0"
      ]
     },
     "execution_count": 3,
     "metadata": {},
     "output_type": "execute_result"
    }
   ],
   "source": [
    "def simple_function(x):\n",
    "    \"\"\"\n",
    "    Args:\n",
    "        x (ndarray): a vector of length 4\n",
    "    \n",
    "    Returns:\n",
    "        y (float): a scalar value\n",
    "    \"\"\"\n",
    "    y = x[0] + x[1] - x[3] ** 2\n",
    "    return y\n",
    "\n",
    "simple_function([-1.0, 0.0, 1.0, 2.0])"
   ]
  },
  {
   "cell_type": "markdown",
   "metadata": {},
   "source": [
    "### Superposisi\n",
    "\n",
    "Superposisi merupakan sebuah sifat yang dapat memvalidasi apakah suatu fungsi merupakan fungsi linear. Misal terdapat vektor $\\mathbf{x}, \\mathbf{y} \\in \\mathbb{R}^m$, skalar $\\alpha, \\beta \\in \\mathbb{R}$, dan fungsi $f: \\mathbb{R}^m \\rightarrow \\mathbb{R}$, persamaan superposisi dapat ditulis sbb:\n",
    "\n",
    "$$\n",
    "f(\\alpha \\mathbf{x} + \\beta \\mathbf{y}) = \\alpha f(\\mathbf{x}) + \\beta f(\\mathbf{y}).\n",
    "$$\n",
    "\n",
    "*Penting*: fungsi $f: \\mathbb{R}^m \\rightarrow \\mathbb{R}$ merupakan fungsi linear jika memenuhi sifat pada persamaan di atas!\n",
    "\n",
    "Contoh: cek linearitas fungsi inner product $f(\\mathbf{x}) = \\mathbf{a}^\\top \\mathbf{x} $."
   ]
  },
  {
   "cell_type": "code",
   "execution_count": 4,
   "metadata": {},
   "outputs": [
    {
     "name": "stdout",
     "output_type": "stream",
     "text": [
      "a: tensor([1., 2., 3., 4., 5.])\n",
      "x: tensor([0.2234, 0.0207, 0.5618, 0.7418, 0.6364])\n",
      "lhs: 55.059043884277344\n",
      "rhs: 55.059043884277344\n",
      "tensor(True)\n"
     ]
    }
   ],
   "source": [
    "f = lambda a, x: a @ x\n",
    "\n",
    "a = torch.tensor([1.0, 2.0, 3.0, 4.0, 5.0])\n",
    "x = torch.rand(5)\n",
    "y = torch.rand(5)\n",
    "\n",
    "alpha = 3.0\n",
    "beta = 5.0\n",
    "\n",
    "print(f\"a: {a}\")\n",
    "print(f\"x: {x}\")\n",
    "\n",
    "lhs = f(a, alpha * x + beta * y)\n",
    "print(f\"lhs: {lhs}\")\n",
    "\n",
    "rhs = alpha * f(a, x) + beta * f(a, y)\n",
    "print(f\"rhs: {rhs}\")\n",
    "\n",
    "print(lhs == rhs)"
   ]
  },
  {
   "cell_type": "markdown",
   "metadata": {},
   "source": [
    "### Aproksimasi Taylor"
   ]
  },
  {
   "cell_type": "markdown",
   "metadata": {},
   "source": [
    "Dalam banyak kasus, fungsi skalar $f: \\mathbb{R}^m \\rightarrow \\mathbb{R}$ dapat dan perlu diaproksimasi dengan fungsi linear atau *affine*, dengan syarat fungsi $f$ dapat diturunkan (*differentiable*). Aproksimasi Taylor menggunakan turunan untuk membentuk suatu fungsi linear $g(\\mathbf{x})$ yang mendekati fungsi $f(\\mathbf{x})$ (yang tidak harus bersifat linear).\n",
    "\n",
    "(First-order) aproksimasi Taylor dari fungsi $f$ pada titik ($\\mathbf{z} \\in \\mathbb{R}^m$) atau yang dekat dengan itu didefinisikan sbb:\n",
    "\n",
    "$$\n",
    "f^\\prime(\\mathbf{x}) = f(\\mathbf{z}) + \\frac{\\partial f}{\\partial x_1} (z_1) + \\frac{\\partial f}{\\partial x_2} (z_2) + \\cdots + \\frac{\\partial f}{\\partial x_m} (z_m)\n",
    "$$\n",
    "\n",
    "Dalam format vektor dapat dituliskan menjadi:\n",
    "$$\n",
    "f^\\prime(\\mathbf{x}) = f(\\mathbf{z}) + \\nabla_x f(\\mathbf{z})^\\top (\\mathbf{x} - \\mathbf{z})\n",
    "$$\n",
    "\n",
    "dimana \n",
    "$\n",
    "\\nabla_x f(\\mathbf{z})= \n",
    "(\n",
    "\\frac{\\partial f}{\\partial x_1 (z_1)},\n",
    "\\frac{\\partial f}{\\partial x_1 (z_2)},\n",
    "\\cdots,\n",
    " \\frac{\\partial f}{\\partial x_m (z_m)}\n",
    ")\n",
    "$ merupakan vektor gradien."
   ]
  },
  {
   "cell_type": "markdown",
   "metadata": {},
   "source": [
    "**Contoh**. Terdapat sebuah fungsi non-linear $f: \\mathbb{R}^2 \\rightarrow \\mathbb{R}$,\n",
    "$$f(\\mathbf{x}) = x_1 + \\exp(x_2 - x_1)$$\n",
    "\n",
    "Fungsi linear hasil aproksimasi Taylor (first-order) pada titik atau yang dekat dengan $\\mathbf{z} = (1, 2)$ adalah sbb:\n",
    "$$\n",
    "f^\\prime(\\mathbf{x}) = f((1, 2)) + \\nabla_x f((1, 2))^\\top (\\mathbf{x} - (1, 2)) = 3.7183 + (-1.7183, 2.7183)^\\top (\\mathbf{x} - (1,2))\n",
    "$$.\n",
    "\n",
    "Dapat dicek bahwa:\n",
    "- $\\mathbf{x} = (1,2) \\rightarrow$  $f(\\mathbf{x}) = 3.7183$ dan $f^\\prime(\\mathbf{x}) = 3.7183$ \n",
    "- $\\mathbf{x} = (0.96,1.98) \\rightarrow$  $f(\\mathbf{x}) = 3.7332$ dan $f^\\prime(\\mathbf{x}) = 3.7326$ \n",
    "- $\\mathbf{x} = (1.10,2.11) \\rightarrow$  $f(\\mathbf{x}) = 3.8456$ dan $f^\\prime(\\mathbf{x}) = 3.8455$ "
   ]
  },
  {
   "cell_type": "code",
   "execution_count": 5,
   "metadata": {},
   "outputs": [],
   "source": [
    "# Define f function\n",
    "f = lambda x: x[0] + torch.exp(x[1] - x[0])\n",
    "\n",
    "# Define the first-order gradient of f\n",
    "grad_f = lambda z: torch.tensor([1 - torch.exp(z[1] - z[0]), torch.exp(z[1] - z[0])])\n",
    "\n",
    "# Taylor approximation\n",
    "z = torch.tensor([1.0, 2.0])\n",
    "f_prime = lambda x: f(z) + grad_f(z) @ (x - z)"
   ]
  },
  {
   "cell_type": "code",
   "execution_count": 6,
   "metadata": {},
   "outputs": [
    {
     "name": "stdout",
     "output_type": "stream",
     "text": [
      "tensor([1., 2.]) -> 3.7182817459106445 and 3.7182817459106445\n",
      "tensor([0.9600, 1.9800]) -> 3.7331948280334473 and 3.73264741897583\n",
      "tensor([1.1000, 2.1100]) -> 3.8456006050109863 and 3.8454642295837402\n"
     ]
    }
   ],
   "source": [
    "x = torch.tensor([1.0, 2.0])\n",
    "print(f\"{x} -> {f(x)} and {f_prime(x)}\")\n",
    "\n",
    "x = torch.tensor([0.96, 1.98])\n",
    "print(f\"{x} -> {f(x)} and {f_prime(x)}\")\n",
    "\n",
    "x = torch.tensor([1.10, 2.11])\n",
    "print(f\"{x} -> {f(x)} and {f_prime(x)}\")"
   ]
  },
  {
   "cell_type": "code",
   "execution_count": null,
   "metadata": {},
   "outputs": [],
   "source": []
  }
 ],
 "metadata": {
  "kernelspec": {
   "display_name": "Python 3",
   "language": "python",
   "name": "python3"
  },
  "language_info": {
   "codemirror_mode": {
    "name": "ipython",
    "version": 3
   },
   "file_extension": ".py",
   "mimetype": "text/x-python",
   "name": "python",
   "nbconvert_exporter": "python",
   "pygments_lexer": "ipython3",
   "version": "3.11.5"
  },
  "orig_nbformat": 4
 },
 "nbformat": 4,
 "nbformat_minor": 2
}
