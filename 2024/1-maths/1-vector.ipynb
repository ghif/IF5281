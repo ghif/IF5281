{
 "cells": [
  {
   "cell_type": "markdown",
   "metadata": {},
   "source": [
    "## Vektor"
   ]
  },
  {
   "cell_type": "markdown",
   "metadata": {},
   "source": [
    "Vektor merupakan sebuah objek yang terdiri dari bilangan-bilangan skalar terurut. Berikut ini contoh vektor dengan anggota bilangan berjumlah 4.\n",
    "\n",
    "$$\n",
    "\\mathbf{v} = \n",
    "\\begin{bmatrix}\n",
    "-1.1 \\\\\n",
    "0.0 \\\\\n",
    "3.6 \\\\\n",
    "-7.2\n",
    "\\end{bmatrix}\n",
    "\\text{atau}\n",
    "\\begin{pmatrix}\n",
    "-1.1 \\\\\n",
    "0.0 \\\\\n",
    "3.6 \\\\\n",
    "-7.2\n",
    "\\end{pmatrix}\n",
    "$$\n",
    "\n",
    "Jumlah anggota dari vektor biasa diistilahkan dengan *size* atau *dimension*.\n",
    "\n",
    "\n",
    "Jika bilangan-bilangan skalar tersebut berjenis bilangan riil, maka sebuah vektor dapat dinyatakan sebagai anggota di ruang bilangan riil/Euclidean: $\\mathbf{v} \\in \\mathbb{R}^n$, dimana $n$ merupakan jumlah elemen atau dimensi dari vektor."
   ]
  },
  {
   "cell_type": "markdown",
   "metadata": {},
   "source": [
    "### Pembentukan Vektor\n",
    "Pada NumPy, vektor direpresentasikan dalam array 1 dimensi."
   ]
  },
  {
   "cell_type": "code",
   "execution_count": 3,
   "metadata": {},
   "outputs": [
    {
     "name": "stdout",
     "output_type": "stream",
     "text": [
      "arr: tensor([-1.1000,  0.0000,  3.6000, -7.2000])\n",
      "shape: torch.Size([4])\n",
      "dimension: 1\n"
     ]
    }
   ],
   "source": [
    "import torch\n",
    "\n",
    "arr = torch.tensor([-1.1, 0.0, 3.6, -7.2])\n",
    "print(f\"arr: {arr}\") # print array values\n",
    "print(f\"shape: {arr.shape}\") # print array dimension\n",
    "print(f\"dimension: {arr.ndim}\") # print number of dimensions"
   ]
  },
  {
   "cell_type": "markdown",
   "metadata": {},
   "source": [
    "Pembentukan vektor di atas menggunakan fungsi `array()` dengan menuliskan nilai elemen-elemen secara eksplisit. \n",
    "Adapun cara-cara lain untuk membentuk vektor:"
   ]
  },
  {
   "cell_type": "markdown",
   "metadata": {},
   "source": [
    "**Membuat array dengan elemen terurut**"
   ]
  },
  {
   "cell_type": "code",
   "execution_count": 9,
   "metadata": {},
   "outputs": [
    {
     "data": {
      "text/plain": [
       "[tensor(24),\n",
       " tensor(22),\n",
       " tensor(20),\n",
       " tensor(18),\n",
       " tensor(16),\n",
       " tensor(14),\n",
       " tensor(12),\n",
       " tensor(10),\n",
       " tensor(8),\n",
       " tensor(6),\n",
       " tensor(4)]"
      ]
     },
     "execution_count": 9,
     "metadata": {},
     "output_type": "execute_result"
    }
   ],
   "source": [
    "list(arr)[::-1]"
   ]
  },
  {
   "cell_type": "code",
   "execution_count": 12,
   "metadata": {},
   "outputs": [
    {
     "name": "stdout",
     "output_type": "stream",
     "text": [
      "np.arange(<start>, <stop>, <step>)\n",
      "arr: tensor([0, 1, 2, 3, 4, 5, 6, 7, 8, 9])\n",
      "arr: tensor([2., 3., 4., 5., 6., 7., 8., 9.])\n",
      "arr: tensor([ 4,  6,  8, 10, 12, 14, 16, 18, 20, 22, 24])\n",
      "arr: tensor([24, 22, 20, 18, 16, 14, 12, 10,  8,  6,  4])\n"
     ]
    }
   ],
   "source": [
    "print(f\"np.arange(<start>, <stop>, <step>)\")\n",
    "# Create a vector with elements of 0-9\n",
    "arr = torch.arange(10)\n",
    "print(f\"arr: {arr}\")\n",
    "\n",
    "# Create a vector with elements of 2.0 - 9.0\n",
    "arr = torch.arange(2, 10, dtype=torch.float)\n",
    "print(f\"arr: {arr}\")\n",
    "\n",
    "# Create a vector with elements between 4 - 25 with a step of 2\n",
    "arr = torch.arange(4, 25, 2)\n",
    "print(f\"arr: {arr}\")\n",
    "\n",
    "# Reverse the array\n",
    "print(f\"arr: {torch.flip(arr, dims=(0,))}\")"
   ]
  },
  {
   "cell_type": "code",
   "execution_count": 15,
   "metadata": {},
   "outputs": [
    {
     "name": "stdout",
     "output_type": "stream",
     "text": [
      "torch.linspace(<start>, <stop>, <num>)\n",
      "arr: tensor([ 1.2000,  2.2333,  3.2667,  4.3000,  5.3333,  6.3667,  7.4000,  8.4333,\n",
      "         9.4667, 10.5000])\n"
     ]
    }
   ],
   "source": [
    "print(f\"torch.linspace(<start>, <stop>, <num>)\")\n",
    "# Create a vector with <num> elements that spaced evenly on a interval of <start> to <stop>\n",
    "arr = torch.linspace(1.2, 10.5, 10)\n",
    "print(f\"arr: {arr}\")"
   ]
  },
  {
   "cell_type": "markdown",
   "metadata": {},
   "source": [
    "**Membuat array dengan seluruh elemen bernilai 0 atau 1**"
   ]
  },
  {
   "cell_type": "code",
   "execution_count": 19,
   "metadata": {},
   "outputs": [
    {
     "name": "stdout",
     "output_type": "stream",
     "text": [
      "zeros: tensor([0., 0., 0., 0., 0.])\n",
      "ones: tensor([1., 1., 1., 1., 1.])\n",
      "unit: tensor([1., 0., 0., 0., 0.])\n"
     ]
    }
   ],
   "source": [
    "zeros = torch.zeros(5)\n",
    "print(f\"zeros: {zeros}\")\n",
    "\n",
    "ones = torch.ones(5)\n",
    "print(f\"ones: {ones}\")\n",
    "\n",
    "# Create a unit vector\n",
    "unit = torch.clone(zeros)\n",
    "unit[0] = 1\n",
    "print(f\"unit: {unit}\")\n"
   ]
  },
  {
   "cell_type": "markdown",
   "metadata": {},
   "source": [
    "**Membuat array dengan elemen secara acak**"
   ]
  },
  {
   "cell_type": "code",
   "execution_count": 24,
   "metadata": {},
   "outputs": [
    {
     "name": "stdout",
     "output_type": "stream",
     "text": [
      "Random Vector\n",
      "arr (uniform dist): tensor([0.7371, 0.4827, 0.3355, 0.2283, 0.6275])\n",
      "arr (normal dist): tensor([-0.4495,  0.0963, -0.1501,  2.6240,  0.8941])\n"
     ]
    }
   ],
   "source": [
    "print(f\"Random Vector\")\n",
    "# Create a random vector with 5 elements\n",
    "arr = torch.rand(5) # samples from uniform distribution\n",
    "print(f\"arr (uniform dist): {arr}\")\n",
    "\n",
    "arr = torch.randn(5) # samples from normal distribution (mean=0, std=1)\n",
    "print(f\"arr (normal dist): {arr}\")\n"
   ]
  },
  {
   "cell_type": "markdown",
   "metadata": {},
   "source": [
    "### Penggabungan Vektor\n",
    "Di beberapa kasus tertentu, akan bermanfaat untuk kita dapat menuliskan vektor yang dibentuk dari penggabungan (*concatenation* atau *stacking*).\n",
    "Misal terdapat 3 vektor $\\mathbf{a} \\in \\mathbb{R}^2$, $\\mathbf{b} \\in \\mathbb{R}^3$, dan $\\mathbf{c} \\in \\mathbb{R}^4$, penggabungan 3 vektor tersebut secara berurutan dapat ditulis menjadi:\n",
    "\n",
    "$$\n",
    "\\mathbf{d} = \n",
    "\\begin{bmatrix}\n",
    "\\mathbf{a} \\\\\n",
    "\\mathbf{b} \\\\ \n",
    "\\mathbf{c} \n",
    "\\end{bmatrix} \\in \\mathbb{R}^9\n",
    "$$\n",
    "\n",
    "Kita dapat menggunakan fungsi `np.concatenate()` untuk melakukan hal tersebut."
   ]
  },
  {
   "cell_type": "code",
   "execution_count": 25,
   "metadata": {},
   "outputs": [
    {
     "name": "stdout",
     "output_type": "stream",
     "text": [
      "d (torch.Size([9])): tensor([0, 1, 0, 1, 2, 0, 1, 2, 3])\n"
     ]
    }
   ],
   "source": [
    "a = torch.arange(0, 2)\n",
    "b = torch.arange(0, 3)\n",
    "c = torch.arange(0, 4)\n",
    "\n",
    "d = torch.concatenate((a, b, c))\n",
    "print(f\"d ({d.shape}): {d}\")"
   ]
  },
  {
   "cell_type": "markdown",
   "metadata": {},
   "source": [
    "### Subvektor\n",
    "Pada persamaan di atas, kita dapat mengatakan bahwa $\\mathbf{a}$, $\\mathbf{b}$, atau $\\mathbf{c}$ merupakan subvektor dari $\\mathbf{d}$.\n",
    "\n",
    "Kita dapat menggunakan metode *slicing* untuk mendapatkan subvektor."
   ]
  },
  {
   "cell_type": "code",
   "execution_count": 26,
   "metadata": {},
   "outputs": [
    {
     "name": "stdout",
     "output_type": "stream",
     "text": [
      "a: tensor([0, 1]), b: tensor([0, 1, 2]), c: tensor([0, 1, 2, 3])\n"
     ]
    }
   ],
   "source": [
    "a = d[:2]\n",
    "b = d[2:5]\n",
    "c = d[5:]\n",
    "\n",
    "print(f\"a: {a}, b: {b}, c: {c}\")"
   ]
  },
  {
   "cell_type": "markdown",
   "metadata": {},
   "source": [
    "### Operasi Aljabar pada Vektor"
   ]
  },
  {
   "cell_type": "markdown",
   "metadata": {},
   "source": [
    "**Penjumlahan dan pengurangan**"
   ]
  },
  {
   "cell_type": "code",
   "execution_count": 29,
   "metadata": {},
   "outputs": [
    {
     "name": "stdout",
     "output_type": "stream",
     "text": [
      "a + b = tensor([-1.1459,  0.3628,  0.3940, -0.6494,  1.3203, -0.0494])\n",
      "a - b = tensor([ 0.6231,  2.0455,  0.5790, -1.3814, -0.9146,  1.1402])\n"
     ]
    }
   ],
   "source": [
    "a = torch.randn(6)\n",
    "b = torch.randn(6)\n",
    "c = a + b\n",
    "d = a - b\n",
    "print(f\"a + b = {c}\")\n",
    "print(f\"a - b = {d}\")"
   ]
  },
  {
   "cell_type": "markdown",
   "metadata": {},
   "source": [
    "### Perkalian dan Pembagian"
   ]
  },
  {
   "cell_type": "code",
   "execution_count": 30,
   "metadata": {},
   "outputs": [
    {
     "name": "stdout",
     "output_type": "stream",
     "text": [
      "a : tensor([-0.2614,  1.2041,  0.4865, -1.0154,  0.2028,  0.5454])\n",
      "scalar * vector: tensor([-0.7842,  3.6124,  1.4595, -3.0462,  0.6085,  1.6362])\n",
      "vector / scalar: tensor([-0.0871,  0.4014,  0.1622, -0.3385,  0.0676,  0.1818])\n"
     ]
    }
   ],
   "source": [
    "\n",
    "print(f\"a : {a}\")\n",
    "c = 3 * a # scalar * vector\n",
    "print(f\"scalar * vector: {c}\")\n",
    "\n",
    "c = a / 3 # vector / scalar\n",
    "print(f\"vector / scalar: {c}\")"
   ]
  },
  {
   "cell_type": "markdown",
   "metadata": {},
   "source": [
    "### Inner Product\n",
    "\n",
    "Diketahui 2 buah vektor $\\mathbf{a}, \\mathbf{b} \\in \\mathbb{R}^m$, *inner product* dari kedua vektor tersebut adalah\n",
    "\n",
    "$$\n",
    "c = \\langle \\mathbf{a}, \\mathbf{b} \\rangle = \\mathbf{a}^\\top \\mathbf{b} = \\sum_{i=1}^m a_i b_i \\in \\mathbb{R}\n",
    "$$"
   ]
  },
  {
   "cell_type": "markdown",
   "metadata": {},
   "source": [
    "Berikut beberapa cara untuk menghitung inner product dengan NumPy."
   ]
  },
  {
   "cell_type": "code",
   "execution_count": 32,
   "metadata": {},
   "outputs": [
    {
     "name": "stdout",
     "output_type": "stream",
     "text": [
      "c1: -1.2962878942489624, c2: -1.2962878942489624, c3: -1.2962878942489624\n"
     ]
    }
   ],
   "source": [
    "# Some ways to calculate the inner product of two vectors\n",
    "c1 = torch.inner(a, b)\n",
    "c2 = torch.dot(a, b)\n",
    "c3 = a @ b\n",
    "\n",
    "print(f\"c1: {c1}, c2: {c2}, c3: {c3}\")"
   ]
  },
  {
   "cell_type": "markdown",
   "metadata": {},
   "source": [
    "#"
   ]
  },
  {
   "cell_type": "markdown",
   "metadata": {},
   "source": [
    "**Net Present Value (NPV)**. Sebagai contoh, berikut penggunaan inner product untuk menghitung angka NPV dari suatu vektor *cash flow* $c$ dengan *interest rate* $r$."
   ]
  },
  {
   "cell_type": "code",
   "execution_count": 34,
   "metadata": {},
   "outputs": [
    {
     "name": "stdout",
     "output_type": "stream",
     "text": [
      "c: tensor([0.1000, 0.1000, 0.1000, 1.1000])\n",
      "d: tensor([1.0000, 0.9524, 0.9070, 0.8638])\n",
      "NPV: 1.2361624240875244\n"
     ]
    }
   ],
   "source": [
    "c = torch.tensor([0.1, 0.1, 0.1, 1.1])\n",
    "n = len(c)\n",
    "r = 0.05 # 5% per-period interest rate\n",
    "d = torch.tensor([(1+r)**-i for i in range(n)])\n",
    "print(f\"c: {c}\")\n",
    "print(f\"d: {d}\")\n",
    "NPV = c @ d\n",
    "print(f\"NPV: {NPV}\")"
   ]
  }
 ],
 "metadata": {
  "kernelspec": {
   "display_name": "Python 3",
   "language": "python",
   "name": "python3"
  },
  "language_info": {
   "codemirror_mode": {
    "name": "ipython",
    "version": 3
   },
   "file_extension": ".py",
   "mimetype": "text/x-python",
   "name": "python",
   "nbconvert_exporter": "python",
   "pygments_lexer": "ipython3",
   "version": "3.11.5"
  },
  "orig_nbformat": 4
 },
 "nbformat": 4,
 "nbformat_minor": 2
}
