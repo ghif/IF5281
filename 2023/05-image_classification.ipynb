{
 "cells": [
  {
   "cell_type": "markdown",
   "id": "387f9776-5955-47b6-99db-4ec212d7d60d",
   "metadata": {},
   "source": [
    "### Image Classification: MNIST Handwritten Digit"
   ]
  },
  {
   "cell_type": "code",
   "execution_count": 1,
   "id": "037b4739-3d62-407f-8087-d41af5e29e86",
   "metadata": {},
   "outputs": [
    {
     "name": "stderr",
     "output_type": "stream",
     "text": [
      "/Users/mghifary/.pyenv/versions/3.10.5/lib/python3.10/site-packages/torchvision/io/image.py:13: UserWarning: Failed to load image Python extension: dlopen(/Users/mghifary/.pyenv/versions/3.10.5/lib/python3.10/site-packages/torchvision/image.so, 0x0006): Symbol not found: __ZN3c106detail19maybe_wrap_dim_slowIxEET_S2_S2_b\n",
      "  Referenced from: /Users/mghifary/.pyenv/versions/3.10.5/lib/python3.10/site-packages/torchvision/image.so\n",
      "  Expected in: /Users/mghifary/.pyenv/versions/3.10.5/lib/python3.10/site-packages/torch/lib/libc10.dylib\n",
      "  warn(f\"Failed to load image Python extension: {e}\")\n",
      "/var/folders/wb/ttr9x7pn27q1_rp5vtjfr0s00000gn/T/ipykernel_1566/4082458122.py:17: DeprecationWarning: the imp module is deprecated in favour of importlib and slated for removal in Python 3.12; see the module's documentation for alternative uses\n",
      "  import imp\n"
     ]
    }
   ],
   "source": [
    "# Import all relevant predefined modules\n",
    "import os\n",
    "import time\n",
    "from IPython import display\n",
    "\n",
    "import torch\n",
    "from torch import nn, optim\n",
    "from torch.utils.data import DataLoader\n",
    "\n",
    "from torchvision import datasets\n",
    "import torchvision.transforms as T\n",
    "\n",
    "# My own modules\n",
    "import res.viz_utils as vu\n",
    "from res.plot_lib import plot_data, plot_model, plot_results, set_default\n",
    "\n",
    "import imp"
   ]
  },
  {
   "cell_type": "code",
   "execution_count": 2,
   "id": "a2dd21d9-db4f-49cc-90e5-517ed5e4c6e5",
   "metadata": {},
   "outputs": [],
   "source": [
    "set_default()"
   ]
  },
  {
   "cell_type": "code",
   "execution_count": 3,
   "id": "c8633c87-fefd-4e96-86ce-c906141d9aac",
   "metadata": {},
   "outputs": [],
   "source": [
    "# Constants\n",
    "DATA_DIR = \"data\"\n",
    "MODEL_DIR = \"models\"\n",
    "\n",
    "EPOCHS = 10\n",
    "BATCH_SIZE = 64\n",
    "LEARNING_RATE = 1e-3\n",
    "LAMBDA_L2 = 1e-5\n",
    "\n",
    "DEVICE = \"cuda\" if torch.cuda.is_available() else \"cpu\""
   ]
  },
  {
   "cell_type": "markdown",
   "id": "64d9f71a-fe35-4d9e-87f8-c45b951b872e",
   "metadata": {},
   "source": [
    "### Load MNIST dataset"
   ]
  },
  {
   "cell_type": "code",
   "execution_count": 4,
   "id": "fe52b0f9-416c-4579-85bc-fbf00e1b0fe3",
   "metadata": {},
   "outputs": [],
   "source": [
    "# Load training and test data\n",
    "training_data = datasets.MNIST(\n",
    "    root=DATA_DIR,\n",
    "    train=True,\n",
    "    download=True,\n",
    "    transform=T.ToTensor(), # convert to Tensor and normalize to (0, 1)\n",
    ")\n",
    "\n",
    "test_data = datasets.MNIST(\n",
    "    root=DATA_DIR,\n",
    "    train=False,\n",
    "    download=True,\n",
    "    transform=T.ToTensor(), # convert to Tensor and normalize to (0,1)\n",
    ")"
   ]
  }
 ],
 "metadata": {
  "kernelspec": {
   "display_name": "Python 3 (ipykernel)",
   "language": "python",
   "name": "python3"
  },
  "language_info": {
   "codemirror_mode": {
    "name": "ipython",
    "version": 3
   },
   "file_extension": ".py",
   "mimetype": "text/x-python",
   "name": "python",
   "nbconvert_exporter": "python",
   "pygments_lexer": "ipython3",
   "version": "3.10.5"
  }
 },
 "nbformat": 4,
 "nbformat_minor": 5
}
