{
 "cells": [
  {
   "cell_type": "markdown",
   "id": "11c16061-d14e-4c5d-9fd7-a93b912f5127",
   "metadata": {},
   "source": [
    "# IF5281 Classifying FashionMNIST with MLP\n",
    "Pada praktikum kali ini, teman-teman akan mencoba melatih sebuah model *multilayer percepton* yang dapat mengklasifikasi objek visual dari dataset FashionMNIST dengan menggunakan [PyTorch](https://pytorch.org).\n",
    "Bagi yang belum familiar dengan PyTorch disarankan mempelajari konsep dasarnya dengan mengikuti [tutorial berikut](https://pytorch.org/tutorials/).\n",
    "\n",
    "## Dependencies\n",
    "-- *Lewati bagian ini bagi yang sudah siap working environment di workstation masing-masing* --\n",
    "\n",
    "Jika menggunakan *local environment* pada PC/laptop masing-masing, pastikan *tools* atau *libraries* berikut ini tersedia:\n",
    "- [Python 3.x.x](https://www.python.org/)\n",
    "- [PyTorch](https://pytorch.org/) incl. torchvision\n",
    "- [Jupyter Lab atau Jupyter Notebook](https://jupyter.org/)\n",
    "\n",
    "Alternatif lainnya, Anda dapat menggunakan komputasi pada *cloud environment* seperti [Google Colab](https://colab.research.google.com/).\n",
    "\n",
    "## Warming Up\n",
    "Berikut disediakan *source code* implementasi klasifikasi objek MNIST yang sempat dibahas di kelas: .... Silakan digunakan sebagai *starter kit* untuk mengimplementasikan model klasifikasi [FashionMNIST](https://pytorch.org/vision/stable/generated/torchvision.datasets.FashionMNIST.html).\n",
    "\n",
    "## Challenge: Tweaking your classifier to be \"good enough\"\n",
    "Tujuan dari tantangan ini adalah sebagai pemanasan untuk lebih familiar dengan PyTorch dalam menghasilkan dan menyetel (*tuning*) model klasifikasi dengan pendekatan Deep Learning. \n",
    "Untuk itu, adapun beberapa tugas yang perlu Anda selesaikan.\n",
    "1. Buatlah *script* kode PyTorch yang mengimplementasikan *training* model MLP (dense layer neural net) dan proses *inference* untuk mengklasifikasi objek FashionMNIST dengan spesifikasi sebagai berikut: (__poin maks: 30__).\n",
    "    - 2-layer MLP: Linear -> Tanh (H1) -> Linear -> Tanh (H2) -> Linear (Output)\n",
    "    - Stochastic Gradient Descent (SGD) optimization\n",
    "    \n",
    "    \n",
    "2. Visualisasikan hasil *loss* dan *accuracy* sepanjang *epoch* berjalan dalam bentuk *time-series plot* (__poin maks: 20__).\n",
    "\n",
    "3. Lakukan perbaikan terhadap mekanisme *training* sehingga mendapatkan akurasi klasifikasi yang lebih baik. Silakan berkreasi terhadap cara atau trik apapun yang Anda lakukan (misal: menambah layer/memperbesar parameter, menggunakan fungsi non-linear/aktivasi lain, menggunakan metode optimisasi lain atau mengganti konfigurasinya, menambah metode regularisasi, dsb), dengan 1 batasan: menggunakan arsitektur MLP/dense layer (__poin maks: 30__).\n",
    "    - Test accuracy $\\geq 88\\%$ (30 poin)\n",
    "    - $82\\% \\leq \\text{test accuracy} < 88\\%$ (20 poin)\n",
    "    - Test accuracy $< 82\\%$ (poin: 10)\n",
    "\n",
    "\n",
    "4. Berikan penjelasan secara kronologis apa yang Anda lakukan pada langkah 3 beserta alasan mengapa Anda melakukan hal-hal tersebut sehingga mampu mencapai performa akurasi yang diinginkan -- penjelasan dapat dituliskan pada jupyter notebook script yang sama, dengan memanfaatkan mode *Markdown* (__poin maksimum: 20__).\n",
    "\n",
    "### Deliverables\n",
    "Hasil pekerjaan Anda dikumpulkan dalam format __[NIM]-[NAMALENGKAP]-IF5281-DL1-MLP.zip__ yang berisi:\n",
    "- 1 *Jupyter notebook script* (ipynb) yang berisi implementasi tantangan 1 (MLP standar) dan 2 (visualisasi)\n",
    "- 1 *Jupyter notebook script* (ipynb) yang berisi implementasi tantangan 3 (MLP optimum) dan penulisan tantangan 4.\n",
    "\n",
    "Batas akhir pengumpulan: __Rabu, 22 Februari 2023, 17:00 WIB__.\n",
    "\n",
    "Selamat belajar!"
   ]
  }
 ],
 "metadata": {
  "kernelspec": {
   "display_name": "Python 3 (ipykernel)",
   "language": "python",
   "name": "python3"
  },
  "language_info": {
   "codemirror_mode": {
    "name": "ipython",
    "version": 3
   },
   "file_extension": ".py",
   "mimetype": "text/x-python",
   "name": "python",
   "nbconvert_exporter": "python",
   "pygments_lexer": "ipython3",
   "version": "3.10.5"
  }
 },
 "nbformat": 4,
 "nbformat_minor": 5
}
