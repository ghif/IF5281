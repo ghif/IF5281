{
 "cells": [
  {
   "cell_type": "markdown",
   "id": "04b24b73",
   "metadata": {},
   "source": [
    "# Sequence to Sequence Modeling: Many to Many"
   ]
  },
  {
   "cell_type": "markdown",
   "id": "8c025247",
   "metadata": {},
   "source": [
    "Echoing signal $n$ steps is an example of synchronized many-to-many task."
   ]
  },
  {
   "cell_type": "code",
   "execution_count": 14,
   "id": "d720b52d",
   "metadata": {},
   "outputs": [],
   "source": [
    "from res.sequential_tasks import EchoData\n",
    "import torch\n",
    "import torch.nn as nn\n",
    "import torch.optim as optim\n",
    "import numpy as np\n",
    "\n",
    "torch.manual_seed(1)\n",
    "np.random.seed(3)"
   ]
  },
  {
   "cell_type": "markdown",
   "id": "5ff91c8a",
   "metadata": {},
   "source": [
    "## 1. Generate Toy Sequence to Sequence Dataset: Signal Echo"
   ]
  },
  {
   "cell_type": "code",
   "execution_count": 15,
   "id": "0bf5921b",
   "metadata": {},
   "outputs": [],
   "source": [
    "batch_size = 5\n",
    "echo_step = 3\n",
    "series_length = 20000\n",
    "BPTT_T = 20\n",
    "\n",
    "# EchoData provides input and target data for training a network to\n",
    "# echo a `series_length`-long stream of data. `.x_batch` contains the input series,\n",
    "# it has shape `[batch_size, series_length]`; `.y_batch` contains the target data,\n",
    "# it has the same shape as `.x_batch`.\n",
    "#\n",
    "# Unlike other training data in this course, successive batches from a single `EchoData`\n",
    "# object draw from the same stream. For example, in 08-seq_classification, training data\n",
    "# has the following format:\n",
    "#\n",
    "#   [[S11 S12...S1N], [S21 S22...S2N], ..., [SM1 SM2...SMN]]\n",
    "#\n",
    "# where `SIJ` represents the `j`th sample drawn from the `i`th stream. \n",
    "#\n",
    "# However, `EchoData` output has the following format (slicing along the batch dimension):\n",
    "#\n",
    "#   [[S11 S21...S1N], [S1(N+1) S1(N+2)...S2(2N)], ..., [S1(MN) S1(MN+1)...SM(MNN)]]\n",
    "#\n",
    "# This means that successive batches of data drawn from the same `EchoData` object\n",
    "# are not independent.\n",
    "train_data = EchoData(\n",
    "    echo_step=echo_step,\n",
    "    batch_size=batch_size,\n",
    "    series_length=series_length,\n",
    "    truncated_length=BPTT_T\n",
    ")\n",
    "total_values_in_one_chunck = batch_size * BPTT_T\n",
    "train_size = len(train_data)\n",
    "\n",
    "test_data = EchoData(\n",
    "    echo_step=echo_step,\n",
    "    batch_size=batch_size,\n",
    "    series_length=series_length,\n",
    "    truncated_length=BPTT_T,\n",
    ")\n",
    "test_size = len(test_data)"
   ]
  },
  {
   "cell_type": "code",
   "execution_count": 16,
   "id": "60a2802c",
   "metadata": {},
   "outputs": [
    {
     "name": "stdout",
     "output_type": "stream",
     "text": [
      "(1st input sequence)  x: 1 1 0 1 1 1 0 0 0 0 0 0 1 0 1 1 0 1 0 0 ... \n",
      "(1st target sequence) y: 0 0 0 1 1 0 1 1 1 0 0 0 0 0 0 1 0 1 1 0 ... \n"
     ]
    }
   ],
   "source": [
    "# Let's print first 20 timesteps of the first sequences to see the echo data:\n",
    "print('(1st input sequence)  x:', *train_data.x_batch[0, :20], '... ')\n",
    "print('(1st target sequence) y:', *train_data.y_batch[0, :20], '... ')"
   ]
  },
  {
   "cell_type": "code",
   "execution_count": 17,
   "id": "518761c7",
   "metadata": {},
   "outputs": [
    {
     "name": "stdout",
     "output_type": "stream",
     "text": [
      "x_batch:\n",
      "1 1 0 1 1 1 0 0 0 0 0 0 1 0 1 1 0 1 0 0 ...\n",
      "0 1 0 1 1 0 0 0 1 1 0 0 1 0 1 1 0 0 1 0 ...\n",
      "1 1 1 1 0 0 0 0 0 1 0 0 0 0 1 1 0 0 1 1 ...\n",
      "0 1 0 1 0 1 0 0 1 0 1 1 0 1 0 1 1 0 1 0 ...\n",
      "0 0 1 1 1 1 0 1 1 1 1 0 0 1 1 1 0 0 1 1 ...\n",
      "x_batch size: (5, 20000)\n",
      "\n",
      "y_batch:\n",
      "0 0 0 1 1 0 1 1 1 0 0 0 0 0 0 1 0 1 1 0 ...\n",
      "0 0 0 0 1 0 1 1 0 0 0 1 1 0 0 1 0 1 1 0 ...\n",
      "0 0 0 1 1 1 1 0 0 0 0 0 1 0 0 0 0 1 1 0 ...\n",
      "0 0 0 0 1 0 1 0 1 0 0 1 0 1 1 0 1 0 1 1 ...\n",
      "0 0 0 0 0 1 1 1 1 0 1 1 1 1 0 0 1 1 1 0 ...\n",
      "y_batch size: (5, 20000)\n"
     ]
    }
   ],
   "source": [
    "# batch_size different sequences are created:\n",
    "print('x_batch:', *(str(d)[1:-1] + ' ...' for d in train_data.x_batch[:, :20]), sep='\\n')\n",
    "print('x_batch size:', train_data.x_batch.shape)\n",
    "print()\n",
    "print('y_batch:', *(str(d)[1:-1] + ' ...' for d in train_data.y_batch[:, :20]), sep='\\n')\n",
    "print('y_batch size:', train_data.y_batch.shape)"
   ]
  },
  {
   "cell_type": "code",
   "execution_count": 18,
   "id": "c22635a0",
   "metadata": {},
   "outputs": [
    {
     "name": "stdout",
     "output_type": "stream",
     "text": [
      "x_chunk:\n",
      "[1 1 0 1 1 1 0 0 0 0 0 0 1 0 1 1 0 1 0 0]\n",
      "[0 1 0 1 1 0 0 0 1 1 0 0 1 0 1 1 0 0 1 0]\n",
      "[1 1 1 1 0 0 0 0 0 1 0 0 0 0 1 1 0 0 1 1]\n",
      "[0 1 0 1 0 1 0 0 1 0 1 1 0 1 0 1 1 0 1 0]\n",
      "[0 0 1 1 1 1 0 1 1 1 1 0 0 1 1 1 0 0 1 1]\n",
      "1st x_chunk size: (5, 20, 1)\n",
      "\n",
      "y_chunk:\n",
      "[0 0 0 1 1 0 1 1 1 0 0 0 0 0 0 1 0 1 1 0]\n",
      "[0 0 0 0 1 0 1 1 0 0 0 1 1 0 0 1 0 1 1 0]\n",
      "[0 0 0 1 1 1 1 0 0 0 0 0 1 0 0 0 0 1 1 0]\n",
      "[0 0 0 0 1 0 1 0 1 0 0 1 0 1 1 0 1 0 1 1]\n",
      "[0 0 0 0 0 1 1 1 1 0 1 1 1 1 0 0 1 1 1 0]\n",
      "1st y_chunk size: (5, 20, 1)\n"
     ]
    }
   ],
   "source": [
    "# In order to use RNNs data is organized into temporal\n",
    "# chunks of size [batch_size, T, feature_dim]\n",
    "print('x_chunk:', *train_data.x_chunks[0].squeeze(), sep='\\n')\n",
    "print('1st x_chunk size:', train_data.x_chunks[0].shape)\n",
    "print()\n",
    "print('y_chunk:', *train_data.y_chunks[0].squeeze(), sep='\\n')\n",
    "print('1st y_chunk size:', train_data.y_chunks[0].shape)"
   ]
  },
  {
   "cell_type": "markdown",
   "id": "baf916d2",
   "metadata": {},
   "source": [
    "## 2. Define Sequence Model"
   ]
  },
  {
   "cell_type": "code",
   "execution_count": 19,
   "id": "604c5e0b",
   "metadata": {},
   "outputs": [],
   "source": [
    "class SimpleRNN(nn.Module):\n",
    "    def __init__(self, input_size, hidden_size, output_size, num_layers=1):\n",
    "        super().__init__()\n",
    "        self.rnn = nn.RNN(\n",
    "            input_size=input_size,\n",
    "            hidden_size=hidden_size,\n",
    "            num_layers=num_layers,\n",
    "            nonlinearity='relu',\n",
    "            batch_first=True\n",
    "        )\n",
    "        self.linear = nn.Linear(\n",
    "            in_features=hidden_size,\n",
    "            out_features=output_size\n",
    "        )\n",
    "\n",
    "    def forward(self, x, hidden):\n",
    "        # In order to model the fact that successive batches belong to the same stream of data,\n",
    "        # we share the hidden state across successive invocations.\n",
    "        y, hidden = self.rnn(x, hidden)\n",
    "        y = self.linear(y)\n",
    "        return y, hidden\n",
    "    \n",
    "# class SimpleGRU(nn.Module):\n",
    "#     def __init__(self, input_size, hidden_size, output_size, num_layers=1):\n",
    "#         super().__init__()\n",
    "#         self.gru = nn.GRU(\n",
    "#             input_size=input_size,\n",
    "#             hidden_size=hidden_size,\n",
    "#             num_layers=num_layers,\n",
    "#             batch_first=True\n",
    "#         )\n",
    "#         self.linear = nn.Linear(\n",
    "#             in_features=hidden_size,\n",
    "#             out_features=output_size\n",
    "#         )\n",
    "\n",
    "#     def forward(self, x, hidden):\n",
    "#         # In order to model the fact that successive batches belong to the same stream of data,\n",
    "#         # we share the hidden state across successive invocations.\n",
    "#         y, hidden = self.gru(x, hidden)\n",
    "#         y = self.linear(y)\n",
    "#         return y, hidden"
   ]
  },
  {
   "cell_type": "markdown",
   "id": "06da150d",
   "metadata": {},
   "source": [
    "## 3. Train and Test Function"
   ]
  },
  {
   "cell_type": "code",
   "execution_count": 20,
   "id": "19ca37f0",
   "metadata": {},
   "outputs": [],
   "source": [
    "def train(model, train_data_gen, criterion, optimizer, device):\n",
    "    model.train()\n",
    "    \n",
    "    # New epoch --> fresh hidden state\n",
    "    hidden = None   \n",
    "    correct = 0\n",
    "    for batch_idx in range(train_size):\n",
    "        data, target = train_data_gen[batch_idx]\n",
    "        data, target = torch.from_numpy(data).float().to(device), torch.from_numpy(target).float().to(device)\n",
    "        \n",
    "        # Forward pass\n",
    "        if hidden is not None: hidden.detach_()\n",
    "        # logits, hidden = model(data, hidden)\n",
    "        logits, _ = model(data, hidden)\n",
    "        # logits, _ = model(data)\n",
    "        \n",
    "        loss = criterion(logits, target)\n",
    "        \n",
    "        optimizer.zero_grad()\n",
    "        loss.backward()\n",
    "        optimizer.step()\n",
    "        \n",
    "        pred = (torch.sigmoid(logits) > 0.5)\n",
    "        correct += (pred == target.byte()).int().sum().item()/total_values_in_one_chunck\n",
    "        \n",
    "    return correct, loss.item()"
   ]
  },
  {
   "cell_type": "code",
   "execution_count": 21,
   "id": "f235f861",
   "metadata": {},
   "outputs": [],
   "source": [
    "def test(model, test_data_gen, device):\n",
    "    model.eval()   \n",
    "    correct = 0\n",
    "    # New epoch --> fresh hidden state\n",
    "    hidden = None\n",
    "    with torch.no_grad():\n",
    "        for batch_idx in range(test_size):\n",
    "            data, target = test_data_gen[batch_idx]\n",
    "            data, target = torch.from_numpy(data).float().to(device), torch.from_numpy(target).float().to(device)\n",
    "#             logits, hidden = model(data, hidden)\n",
    "            if hidden is not None: hidden.detach_()\n",
    "            logits, hidden = model(data, hidden)\n",
    "            \n",
    "            pred = (torch.sigmoid(logits) > 0.5)\n",
    "            correct += (pred == target.byte()).int().sum().item()/total_values_in_one_chunck\n",
    "\n",
    "    return correct"
   ]
  },
  {
   "cell_type": "markdown",
   "id": "23a72dcf",
   "metadata": {},
   "source": [
    "## 4. Define RNN model"
   ]
  },
  {
   "attachments": {},
   "cell_type": "markdown",
   "id": "f6a3c865",
   "metadata": {},
   "source": [
    "#### Simple RNN"
   ]
  },
  {
   "cell_type": "code",
   "execution_count": 22,
   "id": "59de4a12",
   "metadata": {},
   "outputs": [],
   "source": [
    "feature_dim = 1 #since we have a scalar series\n",
    "h_units = 4\n",
    "device = torch.device(\"cuda:0\" if torch.cuda.is_available() else \"cpu\")\n",
    "\n",
    "model = SimpleRNN(\n",
    "    input_size=1,\n",
    "    hidden_size=h_units,\n",
    "    output_size=feature_dim\n",
    ").to(device)\n",
    "        \n",
    "criterion = nn.BCEWithLogitsLoss()\n",
    "optimizer = optim.RMSprop(model.parameters(), lr=0.001)"
   ]
  },
  {
   "attachments": {},
   "cell_type": "markdown",
   "id": "98c7d7a9",
   "metadata": {},
   "source": [
    "#### Simple GRU"
   ]
  },
  {
   "cell_type": "code",
   "execution_count": 23,
   "id": "2c1eec76",
   "metadata": {},
   "outputs": [],
   "source": [
    "# feature_dim = 1 #since we have a scalar series\n",
    "# h_units = 4\n",
    "\n",
    "# model_gru = SimpleGRU(\n",
    "#     input_size=1,\n",
    "#     hidden_size=h_units,\n",
    "#     output_size=feature_dim\n",
    "# ).to(device)\n",
    "        \n",
    "# criterion = nn.BCEWithLogitsLoss()\n",
    "# optimizer = optim.RMSprop(model_gru.parameters(), lr=0.001)"
   ]
  },
  {
   "cell_type": "markdown",
   "id": "3fcc0706",
   "metadata": {},
   "source": [
    "## 5.Training the model"
   ]
  },
  {
   "cell_type": "code",
   "execution_count": 24,
   "id": "bd945c4a",
   "metadata": {},
   "outputs": [
    {
     "ename": "TypeError",
     "evalue": "SimpleRNN.forward() missing 1 required positional argument: 'hidden'",
     "output_type": "error",
     "traceback": [
      "\u001b[0;31m---------------------------------------------------------------------------\u001b[0m",
      "\u001b[0;31mTypeError\u001b[0m                                 Traceback (most recent call last)",
      "\u001b[1;32m/Users/mghifary/Work/govtech/codes/AI/IF5281/07-seq2seq.ipynb Cell 20\u001b[0m in \u001b[0;36m5\n\u001b[1;32m      <a href='vscode-notebook-cell:/Users/mghifary/Work/govtech/codes/AI/IF5281/07-seq2seq.ipynb#X22sZmlsZQ%3D%3D?line=1'>2</a>\u001b[0m n_epochs \u001b[39m=\u001b[39m \u001b[39m5\u001b[39m\n\u001b[1;32m      <a href='vscode-notebook-cell:/Users/mghifary/Work/govtech/codes/AI/IF5281/07-seq2seq.ipynb#X22sZmlsZQ%3D%3D?line=3'>4</a>\u001b[0m \u001b[39mfor\u001b[39;00m epoch \u001b[39min\u001b[39;00m \u001b[39mrange\u001b[39m(\u001b[39m1\u001b[39m, n_epochs\u001b[39m+\u001b[39m\u001b[39m1\u001b[39m):\n\u001b[0;32m----> <a href='vscode-notebook-cell:/Users/mghifary/Work/govtech/codes/AI/IF5281/07-seq2seq.ipynb#X22sZmlsZQ%3D%3D?line=4'>5</a>\u001b[0m     correct, loss \u001b[39m=\u001b[39m train(model, train_data, criterion, optimizer, device)\n\u001b[1;32m      <a href='vscode-notebook-cell:/Users/mghifary/Work/govtech/codes/AI/IF5281/07-seq2seq.ipynb#X22sZmlsZQ%3D%3D?line=5'>6</a>\u001b[0m     train_accuracy \u001b[39m=\u001b[39m \u001b[39mfloat\u001b[39m(correct)\u001b[39m*\u001b[39m\u001b[39m100\u001b[39m\u001b[39m/\u001b[39m train_size\n\u001b[1;32m      <a href='vscode-notebook-cell:/Users/mghifary/Work/govtech/codes/AI/IF5281/07-seq2seq.ipynb#X22sZmlsZQ%3D%3D?line=6'>7</a>\u001b[0m     \u001b[39mprint\u001b[39m(\u001b[39mf\u001b[39m\u001b[39m'\u001b[39m\u001b[39mTrain Epoch: \u001b[39m\u001b[39m{\u001b[39;00mepoch\u001b[39m}\u001b[39;00m\u001b[39m/\u001b[39m\u001b[39m{\u001b[39;00mn_epochs\u001b[39m}\u001b[39;00m\u001b[39m, loss: \u001b[39m\u001b[39m{\u001b[39;00mloss\u001b[39m:\u001b[39;00m\u001b[39m.3f\u001b[39m\u001b[39m}\u001b[39;00m\u001b[39m, accuracy \u001b[39m\u001b[39m{\u001b[39;00mtrain_accuracy\u001b[39m:\u001b[39;00m\u001b[39m.1f\u001b[39m\u001b[39m}\u001b[39;00m\u001b[39m%\u001b[39m\u001b[39m'\u001b[39m)\n",
      "\u001b[1;32m/Users/mghifary/Work/govtech/codes/AI/IF5281/07-seq2seq.ipynb Cell 20\u001b[0m in \u001b[0;36m1\n\u001b[1;32m     <a href='vscode-notebook-cell:/Users/mghifary/Work/govtech/codes/AI/IF5281/07-seq2seq.ipynb#X22sZmlsZQ%3D%3D?line=11'>12</a>\u001b[0m \u001b[39mif\u001b[39;00m hidden \u001b[39mis\u001b[39;00m \u001b[39mnot\u001b[39;00m \u001b[39mNone\u001b[39;00m: hidden\u001b[39m.\u001b[39mdetach_()\n\u001b[1;32m     <a href='vscode-notebook-cell:/Users/mghifary/Work/govtech/codes/AI/IF5281/07-seq2seq.ipynb#X22sZmlsZQ%3D%3D?line=12'>13</a>\u001b[0m \u001b[39m# logits, hidden = model(data, hidden)\u001b[39;00m\n\u001b[1;32m     <a href='vscode-notebook-cell:/Users/mghifary/Work/govtech/codes/AI/IF5281/07-seq2seq.ipynb#X22sZmlsZQ%3D%3D?line=13'>14</a>\u001b[0m \u001b[39m# logits, _ = model(data, hidden)\u001b[39;00m\n\u001b[0;32m---> <a href='vscode-notebook-cell:/Users/mghifary/Work/govtech/codes/AI/IF5281/07-seq2seq.ipynb#X22sZmlsZQ%3D%3D?line=14'>15</a>\u001b[0m logits, _ \u001b[39m=\u001b[39m model(data)\n\u001b[1;32m     <a href='vscode-notebook-cell:/Users/mghifary/Work/govtech/codes/AI/IF5281/07-seq2seq.ipynb#X22sZmlsZQ%3D%3D?line=16'>17</a>\u001b[0m loss \u001b[39m=\u001b[39m criterion(logits, target)\n\u001b[1;32m     <a href='vscode-notebook-cell:/Users/mghifary/Work/govtech/codes/AI/IF5281/07-seq2seq.ipynb#X22sZmlsZQ%3D%3D?line=18'>19</a>\u001b[0m optimizer\u001b[39m.\u001b[39mzero_grad()\n",
      "File \u001b[0;32m~/.pyenv/versions/3.10.5/lib/python3.10/site-packages/torch/nn/modules/module.py:1501\u001b[0m, in \u001b[0;36mModule._call_impl\u001b[0;34m(self, *args, **kwargs)\u001b[0m\n\u001b[1;32m   1496\u001b[0m \u001b[39m# If we don't have any hooks, we want to skip the rest of the logic in\u001b[39;00m\n\u001b[1;32m   1497\u001b[0m \u001b[39m# this function, and just call forward.\u001b[39;00m\n\u001b[1;32m   1498\u001b[0m \u001b[39mif\u001b[39;00m \u001b[39mnot\u001b[39;00m (\u001b[39mself\u001b[39m\u001b[39m.\u001b[39m_backward_hooks \u001b[39mor\u001b[39;00m \u001b[39mself\u001b[39m\u001b[39m.\u001b[39m_backward_pre_hooks \u001b[39mor\u001b[39;00m \u001b[39mself\u001b[39m\u001b[39m.\u001b[39m_forward_hooks \u001b[39mor\u001b[39;00m \u001b[39mself\u001b[39m\u001b[39m.\u001b[39m_forward_pre_hooks\n\u001b[1;32m   1499\u001b[0m         \u001b[39mor\u001b[39;00m _global_backward_pre_hooks \u001b[39mor\u001b[39;00m _global_backward_hooks\n\u001b[1;32m   1500\u001b[0m         \u001b[39mor\u001b[39;00m _global_forward_hooks \u001b[39mor\u001b[39;00m _global_forward_pre_hooks):\n\u001b[0;32m-> 1501\u001b[0m     \u001b[39mreturn\u001b[39;00m forward_call(\u001b[39m*\u001b[39;49margs, \u001b[39m*\u001b[39;49m\u001b[39m*\u001b[39;49mkwargs)\n\u001b[1;32m   1502\u001b[0m \u001b[39m# Do not call functions when jit is used\u001b[39;00m\n\u001b[1;32m   1503\u001b[0m full_backward_hooks, non_full_backward_hooks \u001b[39m=\u001b[39m [], []\n",
      "\u001b[0;31mTypeError\u001b[0m: SimpleRNN.forward() missing 1 required positional argument: 'hidden'"
     ]
    }
   ],
   "source": [
    "# training\n",
    "n_epochs = 5\n",
    "\n",
    "for epoch in range(1, n_epochs+1):\n",
    "    correct, loss = train(model, train_data, criterion, optimizer, device)\n",
    "    train_accuracy = float(correct)*100/ train_size\n",
    "    print(f'Train Epoch: {epoch}/{n_epochs}, loss: {loss:.3f}, accuracy {train_accuracy:.1f}%')"
   ]
  },
  {
   "cell_type": "code",
   "execution_count": null,
   "id": "f0ce49b9",
   "metadata": {},
   "outputs": [
    {
     "name": "stdout",
     "output_type": "stream",
     "text": [
      "Test accuracy: 100.0%\n"
     ]
    }
   ],
   "source": [
    "#test\n",
    "correct = test(model, test_data, device)\n",
    "test_accuracy = float(correct) * 100 / test_size\n",
    "print(f'Test accuracy: {test_accuracy:.1f}%')"
   ]
  },
  {
   "cell_type": "code",
   "execution_count": null,
   "id": "8d6a983d",
   "metadata": {},
   "outputs": [
    {
     "name": "stdout",
     "output_type": "stream",
     "text": [
      "Input: tensor([[1, 1, 1, 1, 0, 0, 0, 1, 1, 1, 1, 1, 1, 0, 1, 1, 0, 0, 1, 0, 0, 1, 1, 1,\n",
      "         0, 1, 0, 0, 1, 1, 0, 1, 1, 1, 1, 0, 0, 1, 1, 0, 0, 0, 0, 1, 1, 1, 0, 1,\n",
      "         0, 0, 1, 1, 0, 1, 1, 0, 1, 0, 0, 1, 1, 1, 0, 1, 1, 0, 1, 1, 1, 1, 0, 0,\n",
      "         0, 0, 0, 1, 1, 1, 1, 1, 1, 1, 0, 0, 0, 0, 0, 0, 1, 1, 1, 1, 1, 1, 0, 0,\n",
      "         1, 1, 0, 0]], dtype=torch.uint8)\n",
      "Target: [[0 0 0 1 1 1 1 0 0 0 1 1 1 1 1 1 0 1 1 0 0 1 0 0 1 1 1 0 1 0 0 1 1 0 1 1\n",
      "  1 1 0 0 1 1 0 0 0 0 1 1 1 0 1 0 0 1 1 0 1 1 0 1 0 0 1 1 1 0 1 1 0 1 1 1\n",
      "  1 0 0 0 0 0 1 1 1 1 1 1 1 0 0 0 0 0 0 1 1 1 1 1 1 0 0 1]]\n",
      "Prediction: tensor([[1, 1, 0, 1, 1, 1, 1, 1, 1, 0, 1, 1, 1, 1, 1, 1, 0, 1, 1, 0, 0, 1, 0, 0,\n",
      "         1, 1, 1, 0, 1, 0, 0, 1, 1, 0, 1, 1, 1, 1, 0, 0, 1, 1, 0, 0, 0, 0, 1, 1,\n",
      "         1, 0, 1, 0, 0, 1, 1, 0, 1, 1, 0, 1, 0, 0, 1, 1, 1, 0, 1, 1, 0, 1, 1, 1,\n",
      "         1, 0, 0, 0, 0, 0, 1, 1, 1, 1, 1, 1, 1, 0, 0, 0, 0, 0, 0, 1, 1, 1, 1, 1,\n",
      "         1, 0, 0, 1]], dtype=torch.uint8)\n",
      "[False False  True  True  True  True  True False False  True  True  True\n",
      "  True  True  True  True  True  True  True  True  True  True  True  True\n",
      "  True  True  True  True  True  True  True  True  True  True  True  True\n",
      "  True  True  True  True  True  True  True  True  True  True  True  True\n",
      "  True  True  True  True  True  True  True  True  True  True  True  True\n",
      "  True  True  True  True  True  True  True  True  True  True  True  True\n",
      "  True  True  True  True  True  True  True  True  True  True  True  True\n",
      "  True  True  True  True  True  True  True  True  True  True  True  True\n",
      "  True  True  True  True]\n"
     ]
    }
   ],
   "source": [
    "# Let's try some echoing\n",
    "my_input = torch.empty(1, 100, 1).random_(2)\n",
    "hidden = None\n",
    "my_out, _ = model(my_input.to(device), hidden)\n",
    "my_pred = torch.where(my_out > .5, \n",
    "                      torch.ones_like(my_out), \n",
    "                      torch.zeros_like(my_out)).cpu()\n",
    "\n",
    "\n",
    "# print(my_input.view(1, -1).byte(), my_pred.view(1, -1).byte(), sep='\\n')\n",
    "\n",
    "# Calculate the expected output for our random input\n",
    "expected = np.roll(my_input, echo_step)\n",
    "expected[:, :echo_step] = 0\n",
    "correct = expected == my_pred.numpy()\n",
    "\n",
    "print(f'Input: {my_input.view(1, -1).byte()}')\n",
    "print(f'Target: {np.uint(expected.reshape(1, -1))}')\n",
    "print(f'Prediction: {my_pred.view(1, -1).byte()}')\n",
    "\n",
    "print(np.ndarray.flatten(correct))"
   ]
  }
 ],
 "metadata": {
  "kernelspec": {
   "display_name": "Python 3 (ipykernel)",
   "language": "python",
   "name": "python3"
  },
  "language_info": {
   "codemirror_mode": {
    "name": "ipython",
    "version": 3
   },
   "file_extension": ".py",
   "mimetype": "text/x-python",
   "name": "python",
   "nbconvert_exporter": "python",
   "pygments_lexer": "ipython3",
   "version": "3.10.5"
  }
 },
 "nbformat": 4,
 "nbformat_minor": 5
}
