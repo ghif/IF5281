{
 "cells": [
  {
   "cell_type": "markdown",
   "id": "2025a7f2",
   "metadata": {},
   "source": [
    "# Sequence Classification: Many to One"
   ]
  },
  {
   "cell_type": "markdown",
   "id": "9d7ac2e3",
   "metadata": {},
   "source": [
    "The goal is to classify sequences. Elements and targets are represented locally (input vectors with only one non-zero bit). The sequence starts with an $B$, ends with an $E$ (the \"trigger symbol\"), and otherwise consists of randomly chosen symbols from the set $\\{a, b, c, d\\}$ except for two elements at positions $t_1$ and $t_2$ that are either $X$ or $Y$.\n",
    "\n",
    "For the DifficultyLevel.HARD case, the sequence length is randomly chosen between $100$ and $110$, $t_1$ is randomly chosen between $10$ and $20$, and $t_2$ is randomly chosen between $50$ and $60$. There are $4$ sequence classes: $Q, R, S, U$, which depend on the temporal order of $X$ and $Y$.\n",
    "\n",
    "The rules are:\n",
    "- $X, X$ --> $Q$,\n",
    "- $X, Y$ --> $R$,\n",
    "- $Y, X$ --> $S$,\n",
    "- $Y, Y$ --> $U$."
   ]
  },
  {
   "cell_type": "code",
   "execution_count": 1,
   "id": "2f3c6cc6",
   "metadata": {},
   "outputs": [],
   "source": [
    "from res.sequential_tasks import TemporalOrderExp6aSequence as QRSU"
   ]
  },
  {
   "cell_type": "code",
   "execution_count": 2,
   "id": "6e165464",
   "metadata": {},
   "outputs": [],
   "source": [
    "# Create a data generator\n",
    "example_generator = QRSU.get_predefined_generator(\n",
    "    difficulty_level=QRSU.DifficultyLevel.EASY,\n",
    "    batch_size=32\n",
    ")"
   ]
  },
  {
   "cell_type": "code",
   "execution_count": 3,
   "id": "0d402119",
   "metadata": {},
   "outputs": [
    {
     "name": "stdout",
     "output_type": "stream",
     "text": [
      "The return type is a <class 'tuple'> with length 2.\n",
      "The first item in the tuple is the batch of sequences with shape (32, 9, 8)\n",
      "The first element in the batch of sequences is: \n",
      " [[0 0 0 0 0 0 0 0]\n",
      " [0 0 0 0 0 0 1 0]\n",
      " [0 0 0 1 0 0 0 0]\n",
      " [1 0 0 0 0 0 0 0]\n",
      " [0 0 0 0 1 0 0 0]\n",
      " [1 0 0 0 0 0 0 0]\n",
      " [0 0 0 0 1 0 0 0]\n",
      " [0 0 0 1 0 0 0 0]\n",
      " [0 0 0 0 0 0 0 1]]\n",
      "The second item in the tuple is the corresponding batch of class labels with shape (32, 4)\n",
      "The first element in the batch of class labels is : \n",
      " [1. 0. 0. 0.]\n"
     ]
    }
   ],
   "source": [
    "example_batch = example_generator[1]\n",
    "print(f'The return type is a {type(example_batch)} with length {len(example_batch)}.') \n",
    "print(f'The first item in the tuple is the batch of sequences with shape {example_batch[0].shape}')\n",
    "print(f'The first element in the batch of sequences is: \\n {example_batch[0][0, :, :]}')\n",
    "print(f'The second item in the tuple is the corresponding batch of class labels with shape {example_batch[1].shape}')\n",
    "print(f'The first element in the batch of class labels is : \\n {example_batch[1][0, :]}')"
   ]
  },
  {
   "cell_type": "code",
   "execution_count": 4,
   "id": "0c8dde0a",
   "metadata": {},
   "outputs": [
    {
     "data": {
      "text/plain": [
       "(9, 8)"
      ]
     },
     "execution_count": 4,
     "metadata": {},
     "output_type": "execute_result"
    }
   ],
   "source": [
    "example_batch[0][0].shape"
   ]
  },
  {
   "cell_type": "code",
   "execution_count": 5,
   "id": "d4f700ae",
   "metadata": {},
   "outputs": [
    {
     "name": "stdout",
     "output_type": "stream",
     "text": [
      "The sequence is: BbXcXcbE\n",
      "The class label is : Q\n"
     ]
    }
   ],
   "source": [
    "# Decoding the first sequence\n",
    "sequence_decoded = example_generator.decode_x(example_batch[0][0, :, :])\n",
    "print(f'The sequence is: {sequence_decoded}')\n",
    "\n",
    "# Decoding the class label of the first sequence\n",
    "class_label_decoded = example_generator.decode_y(example_batch[1][0])\n",
    "print(f'The class label is : {class_label_decoded}')"
   ]
  },
  {
   "cell_type": "code",
   "execution_count": 6,
   "id": "0a1631e8",
   "metadata": {},
   "outputs": [
    {
     "data": {
      "text/plain": [
       "(array([[0, 0, 0, 0, 0, 0, 0, 0],\n",
       "        [0, 0, 0, 0, 0, 0, 1, 0],\n",
       "        [0, 0, 0, 1, 0, 0, 0, 0],\n",
       "        [1, 0, 0, 0, 0, 0, 0, 0],\n",
       "        [0, 0, 0, 0, 1, 0, 0, 0],\n",
       "        [1, 0, 0, 0, 0, 0, 0, 0],\n",
       "        [0, 0, 0, 0, 1, 0, 0, 0],\n",
       "        [0, 0, 0, 1, 0, 0, 0, 0],\n",
       "        [0, 0, 0, 0, 0, 0, 0, 1]], dtype=int32),\n",
       " 'BbXcXcbE')"
      ]
     },
     "execution_count": 6,
     "metadata": {},
     "output_type": "execute_result"
    }
   ],
   "source": [
    "example_batch[0][0], example_generator.decode_x(example_batch[0][0])"
   ]
  },
  {
   "cell_type": "markdown",
   "id": "63b5f9e4",
   "metadata": {},
   "source": [
    "### Defining the Model"
   ]
  },
  {
   "cell_type": "code",
   "execution_count": 7,
   "id": "eeeaca48",
   "metadata": {},
   "outputs": [],
   "source": [
    "import torch\n",
    "import torch.nn as nn\n",
    "\n",
    "# Set the random seed for reproducible results\n",
    "torch.manual_seed(1)\n",
    "\n",
    "class SimpleRNN(nn.Module):\n",
    "    def __init__(self, input_size, hidden_size, output_size, num_layers=1):\n",
    "        super().__init__()\n",
    "        \n",
    "        self.rnn = nn.RNN(input_size, hidden_size, num_layers=num_layers, nonlinearity='relu', batch_first=True)\n",
    "        self.linear = nn.Linear(hidden_size, output_size)\n",
    "\n",
    "    def forward(self, x):\n",
    "        y, _ = self.rnn(x)\n",
    "        y = self.linear(y)\n",
    "        return y\n",
    "        \n",
    "class SimpleLSTM(nn.Module):\n",
    "    def __init__(self, input_size, hidden_size, output_size, num_layers=1):\n",
    "        super().__init__()\n",
    "        self.lstm = nn.LSTM(input_size, hidden_size, num_layers=num_layers, batch_first=True)\n",
    "        self.linear = nn.Linear(hidden_size, output_size)\n",
    "        \n",
    "    def forward(self, x):\n",
    "        y, _ = self.lstm(x)\n",
    "        y = self.linear(y)\n",
    "        return y\n",
    "    \n",
    "    def get_states_across_time(self, x):\n",
    "        h_c = None\n",
    "        h_list, c_list = list(), list()\n",
    "        with torch.no_grad():\n",
    "            for t in range(x.size(1)):\n",
    "                h_c = self.lstm(x[:, [t], :], h_c)[1]\n",
    "                h_list.append(h_c[0])\n",
    "                c_list.append(h_c[1])\n",
    "            \n",
    "            h = torch.cat(h_list)\n",
    "            c = torch.cat(c_list)\n",
    "            \n",
    "        return h, c"
   ]
  },
  {
   "cell_type": "markdown",
   "id": "3019ee72",
   "metadata": {},
   "source": [
    "### Define the training loop"
   ]
  },
  {
   "cell_type": "code",
   "execution_count": 8,
   "id": "b2fff95b",
   "metadata": {},
   "outputs": [],
   "source": [
    "def train(model, train_data_gen, criterion, optimizer, device):\n",
    "    # Set the model to training mode\n",
    "    model.train()\n",
    "    \n",
    "    # Store the number of sequences that were classified correctly\n",
    "    num_correct = 0\n",
    "    \n",
    "    # Iterate over every batch of sequences\n",
    "    for batch_idx in range(len(train_data_gen)):\n",
    "        # Request a batch of seqs and class labels, convert them into tensors of the correct type\n",
    "        data, target = train_data_gen[batch_idx]\n",
    "        data, target = torch.from_numpy(data).float().to(device), torch.from_numpy(target).long().to(device)\n",
    "        \n",
    "        # Perform the forward pass of the model\n",
    "        output = model(data)\n",
    "        \n",
    "        # Pick only the output corresponding to last sequence element\n",
    "        output = output[:, -1, :]\n",
    "        \n",
    "        target = target.argmax(dim=1)\n",
    "        loss = criterion(output, target)\n",
    "        \n",
    "        # Back propagation\n",
    "        optimizer.zero_grad()\n",
    "        loss.backward()\n",
    "        optimizer.step()\n",
    "        \n",
    "        y_pred = output.argmax(dim=1)\n",
    "        num_correct += (y_pred == target).sum().item()\n",
    "    \n",
    "    return num_correct, loss.item()"
   ]
  },
  {
   "cell_type": "markdown",
   "id": "cf9f5abf",
   "metadata": {},
   "source": [
    "### Define the test loop"
   ]
  },
  {
   "cell_type": "code",
   "execution_count": 9,
   "id": "b6c4ca80",
   "metadata": {},
   "outputs": [],
   "source": [
    "def test(model, test_data_gen, criterion, device):\n",
    "    # Set the model to evaluation mode\n",
    "    model.eval()\n",
    "    \n",
    "    # Store the number of sequences that were classified correctly\n",
    "    num_correct = 0\n",
    "    \n",
    "    with torch.no_grad():\n",
    "        # Iterate over every batch of sequences\n",
    "        for batch_idx in range(len(test_data_gen)):\n",
    "            # Request a batch of seqs and class labels, convert them into tensors of the correct type\n",
    "            data, target = test_data_gen[batch_idx]\n",
    "            data, target = torch.from_numpy(data).float().to(device), torch.from_numpy(target).long().to(device)\n",
    "\n",
    "            # Perform the forward pass of the model\n",
    "            output = model(data)\n",
    "\n",
    "            # Pick only the output corresponding to last sequence element\n",
    "            output = output[:, -1, :]\n",
    "\n",
    "            target = target.argmax(dim=1)\n",
    "            loss = criterion(output, target)\n",
    "\n",
    "            y_pred = output.argmax(dim=1)\n",
    "            num_correct += (y_pred == target).sum().item()\n",
    "            \n",
    "    return num_correct, loss.item()\n",
    "    "
   ]
  },
  {
   "cell_type": "markdown",
   "id": "b068ab3f",
   "metadata": {},
   "source": [
    "### Putting it All Together"
   ]
  },
  {
   "cell_type": "code",
   "execution_count": 10,
   "id": "30d53a9e",
   "metadata": {},
   "outputs": [],
   "source": [
    "import matplotlib.pyplot as plt\n",
    "from res.plot_lib import set_default, plot_state, print_colourbar"
   ]
  },
  {
   "cell_type": "code",
   "execution_count": 11,
   "id": "12b5b61a",
   "metadata": {},
   "outputs": [],
   "source": [
    "set_default()"
   ]
  },
  {
   "cell_type": "code",
   "execution_count": 12,
   "id": "237f14e1",
   "metadata": {},
   "outputs": [],
   "source": [
    "import time\n",
    "import numpy as np\n",
    "\n",
    "def train_and_test(model, train_data_gen, test_data_gen, criterion, optimizer, max_epochs, verbose=True):\n",
    "    device = torch.device('cuda:0' if torch.cuda.is_available() else 'cpu')\n",
    "    \n",
    "    model.to(device)\n",
    "    \n",
    "    # Track the value of the loss function and model accuracy across epochs\n",
    "    history_train = {'loss': [], 'acc': []}\n",
    "    history_test = {'loss': [], 'acc': []}\n",
    "    elapsed_times = []\n",
    "    \n",
    "    for epoch in range(max_epochs):\n",
    "        start_t = time.time()\n",
    "        \n",
    "        # Run the training loop and calculate the accuracy.\n",
    "        # Remember that the length of a data generator is the number of batches,\n",
    "        # so we multiply it by the batch size to recover the total number of sequences.\n",
    "        num_correct, loss = train(model, train_data_gen, criterion, optimizer, device)\n",
    "        accuracy = float(num_correct) / (len(train_data_gen) * train_data_gen.batch_size) * 100\n",
    "        history_train['loss'].append(loss)\n",
    "        history_train['acc'].append(accuracy)\n",
    "\n",
    "        # Do the same for the testing loop\n",
    "        num_correct, loss = test(model, test_data_gen, criterion, device)\n",
    "        accuracy = float(num_correct) / (len(test_data_gen) * test_data_gen.batch_size) * 100\n",
    "        history_test['loss'].append(loss)\n",
    "        history_test['acc'].append(accuracy)\n",
    "        \n",
    "        elapsed_t = time.time() - start_t\n",
    "        elapsed_times.append(elapsed_t)\n",
    "\n",
    "        if verbose or epoch + 1 == max_epochs:\n",
    "            print(f'[Epoch {epoch + 1}/{max_epochs}]'\n",
    "                  f\" loss: {history_train['loss'][-1]:.4f}, acc: {history_train['acc'][-1]:2.2f}%\"\n",
    "                  f\" - test_loss: {history_test['loss'][-1]:.4f}, test_acc: {history_test['acc'][-1]:2.2f}%\")\n",
    "            \n",
    "    print(f'Total training time: {np.sum(elapsed_times):.3f} seconds')\n",
    "    \n",
    "    # Generate diagnostic plots for the loss and accuracy\n",
    "    fig, axes = plt.subplots(ncols=2, figsize=(9, 4.5))\n",
    "    for ax, metric in zip(axes, ['loss', 'acc']):\n",
    "        ax.plot(history_train[metric])\n",
    "        ax.plot(history_test[metric])\n",
    "        ax.set_xlabel('epoch', fontsize=12)\n",
    "        ax.set_ylabel(metric, fontsize=12)\n",
    "        ax.legend(['Train', 'Test'], loc='best')\n",
    "    plt.show()\n",
    "\n",
    "    return model"
   ]
  },
  {
   "cell_type": "markdown",
   "id": "456dbed2",
   "metadata": {},
   "source": [
    "### Simple RNN: 10 epochs"
   ]
  },
  {
   "cell_type": "code",
   "execution_count": 13,
   "id": "1afa63af",
   "metadata": {},
   "outputs": [],
   "source": [
    "# Setup the training and test data generators\n",
    "difficulty = QRSU.DifficultyLevel.EASY\n",
    "batch_size = 32\n",
    "train_data_gen = QRSU.get_predefined_generator(difficulty, batch_size)\n",
    "test_data_gen = QRSU.get_predefined_generator(difficulty, batch_size)\n",
    "\n",
    "# Training config\n",
    "criterion = nn.CrossEntropyLoss()\n",
    "max_epochs = 20"
   ]
  },
  {
   "cell_type": "code",
   "execution_count": 14,
   "id": "787c980e",
   "metadata": {},
   "outputs": [],
   "source": [
    "# Define model and optimizer\n",
    "input_size = train_data_gen.n_symbols\n",
    "hidden_size = 4\n",
    "output_size = train_data_gen.n_classes\n",
    "model_rnn = SimpleRNN(input_size, hidden_size, output_size)\n",
    "\n",
    "optimizer = torch.optim.RMSprop(model_rnn.parameters(), lr=1e-3)"
   ]
  },
  {
   "cell_type": "code",
   "execution_count": 15,
   "id": "d45f8251",
   "metadata": {},
   "outputs": [
    {
     "name": "stdout",
     "output_type": "stream",
     "text": [
      "[Epoch 1/20] loss: 1.4213, acc: 24.29% - test_loss: 1.3710, test_acc: 31.35%\n",
      "[Epoch 2/20] loss: 1.3603, acc: 30.75% - test_loss: 1.3846, test_acc: 37.50%\n",
      "[Epoch 3/20] loss: 1.3673, acc: 40.22% - test_loss: 1.3910, test_acc: 40.12%\n",
      "[Epoch 4/20] loss: 1.3636, acc: 39.82% - test_loss: 1.3435, test_acc: 43.85%\n",
      "[Epoch 5/20] loss: 1.2752, acc: 44.35% - test_loss: 1.3282, test_acc: 36.59%\n",
      "[Epoch 6/20] loss: 1.2631, acc: 40.22% - test_loss: 1.2412, test_acc: 41.03%\n",
      "[Epoch 7/20] loss: 1.2340, acc: 44.35% - test_loss: 1.2670, test_acc: 47.58%\n",
      "[Epoch 8/20] loss: 1.1193, acc: 50.40% - test_loss: 1.2446, test_acc: 48.69%\n",
      "[Epoch 9/20] loss: 1.2194, acc: 48.89% - test_loss: 1.1098, test_acc: 50.81%\n",
      "[Epoch 10/20] loss: 1.0805, acc: 48.69% - test_loss: 1.0649, test_acc: 52.72%\n",
      "[Epoch 11/20] loss: 1.0800, acc: 56.96% - test_loss: 1.0458, test_acc: 54.54%\n",
      "[Epoch 12/20] loss: 0.9235, acc: 57.36% - test_loss: 1.0783, test_acc: 58.97%\n",
      "[Epoch 13/20] loss: 0.9903, acc: 61.69% - test_loss: 0.8852, test_acc: 59.07%\n",
      "[Epoch 14/20] loss: 0.9343, acc: 63.81% - test_loss: 0.8806, test_acc: 64.11%\n",
      "[Epoch 15/20] loss: 0.8066, acc: 65.93% - test_loss: 0.7750, test_acc: 65.62%\n",
      "[Epoch 16/20] loss: 0.7526, acc: 69.66% - test_loss: 0.6255, test_acc: 69.96%\n",
      "[Epoch 17/20] loss: 0.7128, acc: 68.85% - test_loss: 0.8309, test_acc: 70.67%\n",
      "[Epoch 18/20] loss: 0.5630, acc: 70.67% - test_loss: 0.6246, test_acc: 69.35%\n",
      "[Epoch 19/20] loss: 0.5634, acc: 73.19% - test_loss: 0.6146, test_acc: 72.58%\n",
      "[Epoch 20/20] loss: 0.4957, acc: 85.89% - test_loss: 0.3791, test_acc: 96.88%\n",
      "Total training time: 1.350 seconds\n"
     ]
    },
    {
     "data": {
      "image/png": "[encoded data removed]",
      "text/plain": [
       "<Figure size 900x450 with 2 Axes>"
      ]
     },
     "metadata": {},
     "output_type": "display_data"
    }
   ],
   "source": [
    "# Train RNN\n",
    "model_rnn = train_and_test(model_rnn, train_data_gen, test_data_gen, criterion, optimizer, max_epochs)"
   ]
  },
  {
   "cell_type": "markdown",
   "id": "37222c8a",
   "metadata": {},
   "source": [
    "### Simple LSTM: 10 Epochs"
   ]
  },
  {
   "cell_type": "code",
   "execution_count": 16,
   "id": "f516c8b1",
   "metadata": {},
   "outputs": [],
   "source": [
    "# Define model and optimizer\n",
    "input_size = train_data_gen.n_symbols\n",
    "hidden_size = 4\n",
    "output_size = train_data_gen.n_classes\n",
    "model_lstm = SimpleLSTM(input_size, hidden_size, output_size)\n",
    "\n",
    "optimizer = torch.optim.RMSprop(model_lstm.parameters(), lr=1e-3)"
   ]
  },
  {
   "cell_type": "code",
   "execution_count": 17,
   "id": "2d6544a0",
   "metadata": {},
   "outputs": [
    {
     "name": "stdout",
     "output_type": "stream",
     "text": [
      "[Epoch 1/20] loss: 1.4138, acc: 25.50% - test_loss: 1.4099, test_acc: 34.38%\n",
      "[Epoch 2/20] loss: 1.3788, acc: 34.88% - test_loss: 1.3406, test_acc: 41.33%\n",
      "[Epoch 3/20] loss: 1.2944, acc: 43.75% - test_loss: 1.3228, test_acc: 43.75%\n",
      "[Epoch 4/20] loss: 1.2703, acc: 47.58% - test_loss: 1.2293, test_acc: 49.70%\n",
      "[Epoch 5/20] loss: 1.1549, acc: 56.85% - test_loss: 1.1849, test_acc: 72.98%\n",
      "[Epoch 6/20] loss: 1.1281, acc: 74.70% - test_loss: 1.1370, test_acc: 70.36%\n",
      "[Epoch 7/20] loss: 1.0849, acc: 73.99% - test_loss: 1.0644, test_acc: 68.85%\n",
      "[Epoch 8/20] loss: 1.0093, acc: 79.03% - test_loss: 1.1041, test_acc: 84.78%\n",
      "[Epoch 9/20] loss: 0.9019, acc: 86.39% - test_loss: 0.9769, test_acc: 92.44%\n",
      "[Epoch 10/20] loss: 0.8381, acc: 94.46% - test_loss: 0.8283, test_acc: 95.77%\n",
      "[Epoch 11/20] loss: 0.7357, acc: 97.88% - test_loss: 0.7189, test_acc: 99.40%\n",
      "[Epoch 12/20] loss: 0.6685, acc: 99.80% - test_loss: 0.6966, test_acc: 99.90%\n",
      "[Epoch 13/20] loss: 0.6587, acc: 99.80% - test_loss: 0.6456, test_acc: 100.00%\n",
      "[Epoch 14/20] loss: 0.5510, acc: 100.00% - test_loss: 0.5767, test_acc: 99.90%\n",
      "[Epoch 15/20] loss: 0.4961, acc: 100.00% - test_loss: 0.5599, test_acc: 100.00%\n",
      "[Epoch 16/20] loss: 0.4276, acc: 100.00% - test_loss: 0.4799, test_acc: 100.00%\n",
      "[Epoch 17/20] loss: 0.4080, acc: 100.00% - test_loss: 0.4145, test_acc: 100.00%\n",
      "[Epoch 18/20] loss: 0.3422, acc: 100.00% - test_loss: 0.3929, test_acc: 100.00%\n",
      "[Epoch 19/20] loss: 0.3225, acc: 100.00% - test_loss: 0.3631, test_acc: 100.00%\n",
      "[Epoch 20/20] loss: 0.3329, acc: 100.00% - test_loss: 0.3079, test_acc: 100.00%\n",
      "Total training time: 1.634 seconds\n"
     ]
    },
    {
     "data": {
      "image/png": "[encoded data removed]",
      "text/plain": [
       "<Figure size 900x450 with 2 Axes>"
      ]
     },
     "metadata": {},
     "output_type": "display_data"
    }
   ],
   "source": [
    "# Train LSTM\n",
    "model_lstm = train_and_test(model_lstm, train_data_gen, test_data_gen, criterion, optimizer, max_epochs)"
   ]
  },
  {
   "cell_type": "markdown",
   "id": "0876cbb9",
   "metadata": {},
   "source": [
    "### Model Evaluation"
   ]
  },
  {
   "cell_type": "code",
   "execution_count": 18,
   "id": "7d4230a1",
   "metadata": {},
   "outputs": [],
   "source": [
    "import collections\n",
    "import random\n",
    "\n",
    "def evaluate_model(model, difficulty, seed=9001, verbose=False):\n",
    "    # Define a dictionary that maps class indices to labels\n",
    "    class_idx_to_label = {0: 'Q', 1: 'R', 2: 'S', 3: 'U'}\n",
    "\n",
    "    # Create a new data generator\n",
    "    data_generator = QRSU.get_predefined_generator(difficulty, seed=seed)\n",
    "\n",
    "    # Track the number of times a class appears\n",
    "    count_classes = collections.Counter()\n",
    "\n",
    "    # Keep correctly classified and misclassified sequences, and their\n",
    "    # true and predicted class labels, for diagnostic information.\n",
    "    correct = []\n",
    "    incorrect = []\n",
    "\n",
    "    device = torch.device('cuda:0' if torch.cuda.is_available() else 'cpu')\n",
    "\n",
    "    model.eval()\n",
    "\n",
    "    with torch.no_grad():\n",
    "        for batch_idx in range(len(data_generator)):\n",
    "            data, target = test_data_gen[batch_idx]\n",
    "            data, target = torch.from_numpy(data).float().to(device), torch.from_numpy(target).long().to(device)\n",
    "\n",
    "            data_decoded = data_generator.decode_x_batch(data.cpu().numpy())\n",
    "            target_decoded = data_generator.decode_y_batch(target.cpu().numpy())\n",
    "\n",
    "            output = model(data)\n",
    "            output = output[:, -1, :]\n",
    "\n",
    "            target = target.argmax(dim=1)\n",
    "            y_pred = output.argmax(dim=1)\n",
    "            y_pred_decoded = [class_idx_to_label[y.item()] for y in y_pred]\n",
    "\n",
    "            count_classes.update(target_decoded)\n",
    "            for i, (truth, prediction) in enumerate(zip(target_decoded, y_pred_decoded)):\n",
    "                if truth == prediction:\n",
    "                    correct.append((data_decoded[i], truth, prediction))\n",
    "                else:\n",
    "                    incorrect.append((data_decoded[i], truth, prediction))\n",
    "\n",
    "    num_sequences = sum(count_classes.values())\n",
    "    accuracy = float(len(correct)) / num_sequences * 100\n",
    "    print(f'The accuracy of the model is measured to be {accuracy:.2f}%.\\n')\n",
    "\n",
    "    # Report the accuracy by class\n",
    "    for label in sorted(count_classes):\n",
    "        num_correct = sum(1 for _, truth, _ in correct if truth == label)\n",
    "        print(f'{label}: {num_correct} / {count_classes[label]} correct')\n",
    "\n",
    "    # Report some random sequences for examination\n",
    "    print('\\nHere are some example sequences:')\n",
    "    for i in range(10):\n",
    "        sequence, truth, prediction = correct[random.randrange(0, 10)]\n",
    "        print(f'{sequence} -> {truth} was labelled {prediction}')\n",
    "\n",
    "    # Report misclassified sequences for investigation\n",
    "    if incorrect and verbose:\n",
    "        print('\\nThe following sequences were misclassified:')\n",
    "        for sequence, truth, prediction in incorrect:\n",
    "            print(f'{sequence} -> {truth} was labelled {prediction}')\n",
    "    else:\n",
    "        print('\\nThere were no misclassified sequences.')"
   ]
  },
  {
   "cell_type": "code",
   "execution_count": 19,
   "id": "3ce0f3f6",
   "metadata": {},
   "outputs": [
    {
     "name": "stdout",
     "output_type": "stream",
     "text": [
      "The accuracy of the model is measured to be 97.48%.\n",
      "\n",
      "Q: 258 / 258 correct\n",
      "R: 230 / 249 correct\n",
      "S: 226 / 232 correct\n",
      "U: 253 / 253 correct\n",
      "\n",
      "Here are some example sequences:\n",
      "BdYdXbbE -> S was labelled S\n",
      "BbXcXbcE -> Q was labelled Q\n",
      "BdYdXbbE -> S was labelled S\n",
      "BYdcaYbE -> U was labelled U\n",
      "BcYdYdaE -> U was labelled U\n",
      "BYbdYabE -> U was labelled U\n",
      "BcYacYbE -> U was labelled U\n",
      "BdYdXbbE -> S was labelled S\n",
      "BbXaXdE -> Q was labelled Q\n",
      "BdYdXbbE -> S was labelled S\n",
      "\n",
      "There were no misclassified sequences.\n"
     ]
    }
   ],
   "source": [
    "evaluate_model(model_rnn, difficulty)"
   ]
  },
  {
   "cell_type": "code",
   "execution_count": 20,
   "id": "741b86f2",
   "metadata": {},
   "outputs": [
    {
     "name": "stdout",
     "output_type": "stream",
     "text": [
      "The accuracy of the model is measured to be 100.00%.\n",
      "\n",
      "Q: 258 / 258 correct\n",
      "R: 249 / 249 correct\n",
      "S: 232 / 232 correct\n",
      "U: 253 / 253 correct\n",
      "\n",
      "Here are some example sequences:\n",
      "BcYacYbE -> U was labelled U\n",
      "BdYdXbbE -> S was labelled S\n",
      "BdYcbXE -> S was labelled S\n",
      "BbXaXdE -> Q was labelled Q\n",
      "BdYcbXE -> S was labelled S\n",
      "BcYdYdaE -> U was labelled U\n",
      "BdYdXbbE -> S was labelled S\n",
      "BYdcaYbE -> U was labelled U\n",
      "BXacbYdE -> R was labelled R\n",
      "BYdcaYbE -> U was labelled U\n",
      "\n",
      "There were no misclassified sequences.\n"
     ]
    }
   ],
   "source": [
    "evaluate_model(model_lstm, difficulty)"
   ]
  },
  {
   "cell_type": "code",
   "execution_count": 25,
   "id": "b4496fe2",
   "metadata": {},
   "outputs": [
    {
     "ename": "NameError",
     "evalue": "name 'model_gru' is not defined",
     "output_type": "error",
     "traceback": [
      "\u001b[0;31m---------------------------------------------------------------------------\u001b[0m",
      "\u001b[0;31mNameError\u001b[0m                                 Traceback (most recent call last)",
      "Cell \u001b[0;32mIn [25], line 1\u001b[0m\n\u001b[0;32m----> 1\u001b[0m evaluate_model(model_gru, difficulty)\n",
      "\u001b[0;31mNameError\u001b[0m: name 'model_gru' is not defined"
     ]
    }
   ],
   "source": [
    "evaluate_model(model_gru, difficulty)"
   ]
  },
  {
   "cell_type": "markdown",
   "id": "c5c755d0",
   "metadata": {},
   "source": [
    "### Visualize LSTM"
   ]
  },
  {
   "cell_type": "code",
   "execution_count": 21,
   "id": "2cd812df",
   "metadata": {},
   "outputs": [],
   "source": [
    "# Get hidden (H) and cell (C) batch state given a batch input (X)\n",
    "device = torch.device('cuda:0' if torch.cuda.is_available() else 'cpu')\n",
    "model_lstm.eval()\n",
    "with torch.no_grad():\n",
    "    data = test_data_gen[0][0]\n",
    "    X = torch.from_numpy(data).float().to(device)\n",
    "    H_t, C_t = model_lstm.get_states_across_time(X)"
   ]
  },
  {
   "cell_type": "code",
   "execution_count": 22,
   "id": "7dc5c3a0",
   "metadata": {},
   "outputs": [
    {
     "name": "stdout",
     "output_type": "stream",
     "text": [
      "Color range is as follows:\n"
     ]
    },
    {
     "data": {
      "text/html": [
       "<text style=color:#000;background-color:#85c2e1>-2.50 </text><text style=color:#000;background-color:#89c4e2>-2.24 </text><text style=color:#000;background-color:#95cae5>-1.97 </text><text style=color:#000;background-color:#99cce6>-1.71 </text><text style=color:#000;background-color:#a1d0e8>-1.45 </text><text style=color:#000;background-color:#b2d9ec>-1.18 </text><text style=color:#000;background-color:#baddee>-0.92 </text><text style=color:#000;background-color:#c2e1f0>-0.66 </text><text style=color:#000;background-color:#eff7fb>-0.39 </text><text style=color:#000;background-color:#f9e8e8>-0.13 </text><text style=color:#000;background-color:#f9e8e8>0.13 </text><text style=color:#000;background-color:#f9d4d4>0.39 </text><text style=color:#000;background-color:#f9bdbd>0.66 </text><text style=color:#000;background-color:#f8a8a8>0.92 </text><text style=color:#000;background-color:#f68f8f>1.18 </text><text style=color:#000;background-color:#f47676>1.45 </text><text style=color:#000;background-color:#f45f5f>1.71 </text><text style=color:#000;background-color:#f34343>1.97 </text><text style=color:#000;background-color:#f33b3b>2.24 </text><text style=color:#000;background-color:#f42e2e>2.50 </text>"
      ],
      "text/plain": [
       "<IPython.core.display.HTML object>"
      ]
     },
     "metadata": {},
     "output_type": "display_data"
    }
   ],
   "source": [
    "print(\"Color range is as follows:\")\n",
    "print_colourbar()"
   ]
  },
  {
   "cell_type": "code",
   "execution_count": 23,
   "id": "edd69bee",
   "metadata": {},
   "outputs": [
    {
     "data": {
      "text/html": [
       "<text style=color:#000;background-color:#baddee>B </text><text style=color:#000;background-color:#c2e1f0>X </text><text style=color:#000;background-color:#f9d4d4>d </text><text style=color:#000;background-color:#f68f8f>c </text><text style=color:#000;background-color:#f34343>b </text><text style=color:#000;background-color:#f33b3b>X </text><text style=color:#000;background-color:#f42e2e>E </text>"
      ],
      "text/plain": [
       "<IPython.core.display.HTML object>"
      ]
     },
     "metadata": {},
     "output_type": "display_data"
    },
    {
     "data": {
      "text/html": [
       "<text style=color:#000;background-color:#f9e8e8>B </text><text style=color:#000;background-color:#f8a8a8>X </text><text style=color:#000;background-color:#f47676>d </text><text style=color:#000;background-color:#f34343>c </text><text style=color:#000;background-color:#f34343>b </text><text style=color:#000;background-color:#f33b3b>X </text><text style=color:#000;background-color:#f34343>E </text>"
      ],
      "text/plain": [
       "<IPython.core.display.HTML object>"
      ]
     },
     "metadata": {},
     "output_type": "display_data"
    },
    {
     "data": {
      "text/html": [
       "<text style=color:#000;background-color:#f9e8e8>B </text><text style=color:#000;background-color:#f9bdbd>X </text><text style=color:#000;background-color:#f68f8f>d </text><text style=color:#000;background-color:#f8a8a8>c </text><text style=color:#000;background-color:#f9bdbd>b </text><text style=color:#000;background-color:#f8a8a8>X </text><text style=color:#000;background-color:#f68f8f>E </text>"
      ],
      "text/plain": [
       "<IPython.core.display.HTML object>"
      ]
     },
     "metadata": {},
     "output_type": "display_data"
    },
    {
     "data": {
      "text/html": [
       "<text style=color:#000;background-color:#eff7fb>B </text><text style=color:#000;background-color:#b2d9ec>X </text><text style=color:#000;background-color:#c2e1f0>d </text><text style=color:#000;background-color:#baddee>c </text><text style=color:#000;background-color:#baddee>b </text><text style=color:#000;background-color:#99cce6>X </text><text style=color:#000;background-color:#b2d9ec>E </text>"
      ],
      "text/plain": [
       "<IPython.core.display.HTML object>"
      ]
     },
     "metadata": {},
     "output_type": "display_data"
    }
   ],
   "source": [
    "plot_state(X.cpu(), C_t, b=9, decoder=test_data_gen.decode_x)  # 3, 6, 9"
   ]
  },
  {
   "cell_type": "code",
   "execution_count": 24,
   "id": "1eb672c1",
   "metadata": {},
   "outputs": [
    {
     "data": {
      "text/html": [
       "<text style=color:#000;background-color:#c2e1f0>B </text><text style=color:#000;background-color:#eff7fb>X </text><text style=color:#000;background-color:#f9d4d4>d </text><text style=color:#000;background-color:#f8a8a8>c </text><text style=color:#000;background-color:#f68f8f>b </text><text style=color:#000;background-color:#f68f8f>X </text><text style=color:#000;background-color:#f68f8f>E </text>"
      ],
      "text/plain": [
       "<IPython.core.display.HTML object>"
      ]
     },
     "metadata": {},
     "output_type": "display_data"
    },
    {
     "data": {
      "text/html": [
       "<text style=color:#000;background-color:#f9e8e8>B </text><text style=color:#000;background-color:#f9bdbd>X </text><text style=color:#000;background-color:#f68f8f>d </text><text style=color:#000;background-color:#f68f8f>c </text><text style=color:#000;background-color:#f68f8f>b </text><text style=color:#000;background-color:#f68f8f>X </text><text style=color:#000;background-color:#f68f8f>E </text>"
      ],
      "text/plain": [
       "<IPython.core.display.HTML object>"
      ]
     },
     "metadata": {},
     "output_type": "display_data"
    },
    {
     "data": {
      "text/html": [
       "<text style=color:#000;background-color:#f9e8e8>B </text><text style=color:#000;background-color:#f9bdbd>X </text><text style=color:#000;background-color:#f8a8a8>d </text><text style=color:#000;background-color:#f8a8a8>c </text><text style=color:#000;background-color:#f9bdbd>b </text><text style=color:#000;background-color:#f8a8a8>X </text><text style=color:#000;background-color:#f8a8a8>E </text>"
      ],
      "text/plain": [
       "<IPython.core.display.HTML object>"
      ]
     },
     "metadata": {},
     "output_type": "display_data"
    },
    {
     "data": {
      "text/html": [
       "<text style=color:#000;background-color:#f9e8e8>B </text><text style=color:#000;background-color:#c2e1f0>X </text><text style=color:#000;background-color:#c2e1f0>d </text><text style=color:#000;background-color:#c2e1f0>c </text><text style=color:#000;background-color:#c2e1f0>b </text><text style=color:#000;background-color:#b2d9ec>X </text><text style=color:#000;background-color:#baddee>E </text>"
      ],
      "text/plain": [
       "<IPython.core.display.HTML object>"
      ]
     },
     "metadata": {},
     "output_type": "display_data"
    }
   ],
   "source": [
    "plot_state(X.cpu(), H_t, b=9, decoder=test_data_gen.decode_x)"
   ]
  }
 ],
 "metadata": {
  "kernelspec": {
   "display_name": "Python 3 (ipykernel)",
   "language": "python",
   "name": "python3"
  },
  "language_info": {
   "codemirror_mode": {
    "name": "ipython",
    "version": 3
   },
   "file_extension": ".py",
   "mimetype": "text/x-python",
   "name": "python",
   "nbconvert_exporter": "python",
   "pygments_lexer": "ipython3",
   "version": "3.10.5"
  }
 },
 "nbformat": 4,
 "nbformat_minor": 5
}
