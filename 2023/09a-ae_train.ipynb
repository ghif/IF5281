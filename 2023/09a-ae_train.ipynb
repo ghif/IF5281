{
 "cells": [
  {
   "attachments": {},
   "cell_type": "markdown",
   "metadata": {},
   "source": [
    "# (Denoising) Autoencoder Training on MNIST Images"
   ]
  },
  {
   "cell_type": "code",
   "execution_count": 8,
   "metadata": {},
   "outputs": [],
   "source": [
    "# Load all relevant modules\n",
    "import os\n",
    "import time as timer\n",
    "\n",
    "import torch\n",
    "from torch import nn\n",
    "from torch import optim\n",
    "from torch.utils.data import DataLoader\n",
    "\n",
    "import numpy as np\n",
    "from IPython import display\n",
    "from skimage.util import random_noise\n",
    "\n",
    "from torchvision import datasets\n",
    "import torchvision.transforms as T\n",
    "\n",
    "import res.viz_utils as vu\n",
    "from res.plot_lib import set_default\n",
    "\n",
    "set_default()"
   ]
  },
  {
   "cell_type": "code",
   "execution_count": 9,
   "metadata": {},
   "outputs": [],
   "source": [
    "# Define constants\n",
    "DATA_DIR = \"data\"\n",
    "MODEL_DIR = \"models\"\n",
    "BATCH_SIZE = 128\n",
    "NUM_EPOCH = 1\n",
    "IS_DENOISING = False # True: Denoising Autoencoder, False: Standard Autoencoder\n",
    "NOISE_TYPE = \"salt\" # {\"gaussian\", \"salt\"}\n",
    "\n",
    "\n",
    "DEVICE = \"cuda\" if torch.cuda.is_available() else \"cpu\""
   ]
  },
  {
   "attachments": {},
   "cell_type": "markdown",
   "metadata": {},
   "source": [
    "### Load Training and Test Dataset"
   ]
  },
  {
   "cell_type": "code",
   "execution_count": 10,
   "metadata": {},
   "outputs": [],
   "source": [
    "# Transform to (-1, 1) \n",
    "img_transform = T.Compose([\n",
    "    T.ToTensor(),\n",
    "    T.Normalize((0.5,), (0.5,))\n",
    "])\n",
    "\n",
    "# Load train\n",
    "train_data = datasets.MNIST(\n",
    "    root=DATA_DIR,\n",
    "    train=True,\n",
    "    download=True,\n",
    "    transform=img_transform,\n",
    ")\n",
    "\n",
    "# Load test\n",
    "test_data = datasets.MNIST(\n",
    "    root=DATA_DIR,\n",
    "    train=False,\n",
    "    download=True,\n",
    "    transform=img_transform,\n",
    ")"
   ]
  },
  {
   "cell_type": "code",
   "execution_count": 11,
   "metadata": {},
   "outputs": [],
   "source": [
    "# Create data loader\n",
    "train_loader = DataLoader(\n",
    "    train_data,\n",
    "    shuffle=True,\n",
    "    batch_size=BATCH_SIZE,\n",
    ")\n",
    "\n",
    "test_loader = DataLoader(\n",
    "    test_data,\n",
    "    shuffle=False,\n",
    "    batch_size=BATCH_SIZE,\n",
    ")"
   ]
  },
  {
   "cell_type": "code",
   "execution_count": 12,
   "metadata": {},
   "outputs": [],
   "source": [
    "# Define model architecture\n",
    "class Autoencoder(nn.Module):\n",
    "    def __init__(self, input_size, hidden_size):\n",
    "        super().__init__()\n",
    "        self.encoder = nn.Sequential(\n",
    "            nn.Linear(input_size, hidden_size),\n",
    "            nn.Tanh(),\n",
    "        )\n",
    "\n",
    "        self.decoder = nn.Sequential(\n",
    "            nn.Linear(hidden_size, input_size),\n",
    "            nn.Tanh(),\n",
    "        )\n",
    "\n",
    "    def forward(self, x):\n",
    "        z = self.encoder(x)\n",
    "        y = self.decoder(z)\n",
    "        return y"
   ]
  },
  {
   "cell_type": "code",
   "execution_count": 13,
   "metadata": {},
   "outputs": [],
   "source": [
    "[n, dx1, dx2] = train_data.data.size()\n",
    "input_size = dx1 * dx2\n",
    "hidden_size = 128\n",
    "model = Autoencoder(input_size, hidden_size).to(DEVICE)\n",
    "\n",
    "criterion = nn.MSELoss()\n",
    "optimizer = optim.Adam(\n",
    "    lr=1e-3,\n",
    "    params=model.parameters()\n",
    ")\n"
   ]
  },
  {
   "attachments": {},
   "cell_type": "markdown",
   "metadata": {},
   "source": [
    "### Train Model"
   ]
  },
  {
   "cell_type": "code",
   "execution_count": 14,
   "metadata": {},
   "outputs": [
    {
     "name": "stdout",
     "output_type": "stream",
     "text": [
      "Epoch [1/1], loss: 0.0814, elapsed_t:  5.12 secs\n",
      " ---- Model models/dae_salt_mnist_z128_ep1.pth stored!\n",
      "img_np : 0.0 1.0\n",
      "img_np : 0.0 1.0\n"
     ]
    },
    {
     "data": {
      "image/png": "[encoded data removed]",
      "text/plain": [
       "<Figure size 1000x1000 with 1 Axes>"
      ]
     },
     "metadata": {},
     "output_type": "display_data"
    },
    {
     "data": {
      "image/png": "[encoded data removed]",
      "text/plain": [
       "<Figure size 1000x1000 with 1 Axes>"
      ]
     },
     "metadata": {},
     "output_type": "display_data"
    }
   ],
   "source": [
    "mname = \"ae\" if not IS_DENOISING else f\"dae_{NOISE_TYPE}\"\n",
    "model_path = os.path.join(MODEL_DIR, f\"{mname}_mnist_z{hidden_size}_ep{NUM_EPOCH}.pth\")\n",
    "\n",
    "for epoch in range(NUM_EPOCH):\n",
    "    start_t = timer.time()\n",
    "    for batch_idx, (X, _) in enumerate(train_loader):\n",
    "        if IS_DENOISING:\n",
    "            # Add noise\n",
    "            # noise = torch.randn_like(X) * 0.2\n",
    "            # Xn = X + noise\n",
    "            if NOISE_TYPE == \"salt\":\n",
    "                Xn = torch.tensor(random_noise(X, mode=NOISE_TYPE, amount=0.2))\n",
    "                # print(f'[Salt-and-Pepper Noise] Xn dtype: {Xn.dtype}')\n",
    "            elif NOISE_TYPE == \"gaussian\":\n",
    "                Xn = torch.tensor(random_noise(X, mode=NOISE_TYPE, var=0.5)).to(torch.float32)\n",
    "                # print(f'[Gaussian Noise] Xn dtype: {Xn.dtype}')\n",
    "        else:\n",
    "            Xn = X\n",
    "\n",
    "        # Feed forward\n",
    "        X = X.view(-1, input_size).to(DEVICE)\n",
    "        Xn = Xn.view(-1, input_size).to(DEVICE)\n",
    "        \n",
    "        Xr = model(Xn)\n",
    "\n",
    "        # Compute loss\n",
    "        loss = criterion(Xr, X)\n",
    "\n",
    "        # Backprop\n",
    "        optimizer.zero_grad()\n",
    "        loss.backward()\n",
    "        optimizer.step()\n",
    "\n",
    "        \n",
    "    # end for\n",
    "    elapsed_t = timer.time() - start_t\n",
    "\n",
    "    print(f'Epoch [{epoch+1}/{NUM_EPOCH}], loss: {loss.item():.4f}, elapsed_t: {elapsed_t: 0.2f} secs')\n",
    "\n",
    "    # Save model\n",
    "    torch.save(model.state_dict(), model_path)\n",
    "    print(f\" ---- Model {model_path} stored!\")\n",
    "\n",
    "    # Display input images and their reconstructions\n",
    "    grid_x = vu.set_grid(Xn.view(-1, 1, dx1, dx2).detach().cpu().numpy(), num_cells=5)\n",
    "    vu.show(grid_x)\n",
    "\n",
    "    grid_xr = vu.set_grid(Xr.view(-1, 1, dx1, dx2).detach().cpu().numpy(), num_cells=5)\n",
    "    vu.show(grid_xr)\n",
    "\n",
    "# end for"
   ]
  }
 ],
 "metadata": {
  "kernelspec": {
   "display_name": "Python 3",
   "language": "python",
   "name": "python3"
  },
  "language_info": {
   "codemirror_mode": {
    "name": "ipython",
    "version": 3
   },
   "file_extension": ".py",
   "mimetype": "text/x-python",
   "name": "python",
   "nbconvert_exporter": "python",
   "pygments_lexer": "ipython3",
   "version": "3.10.5"
  },
  "orig_nbformat": 4
 },
 "nbformat": 4,
 "nbformat_minor": 2
}
